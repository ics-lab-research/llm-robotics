{
 "cells": [
  {
   "cell_type": "markdown",
   "id": "4d90455c-6de6-499d-9e71-74563b1a7a83",
   "metadata": {},
   "source": [
    "# This notebook try to extract information from output of alpaca method"
   ]
  },
  {
   "cell_type": "code",
   "execution_count": 4,
   "id": "2220e6db-1f20-4a63-a1f2-9ccca32baa92",
   "metadata": {},
   "outputs": [],
   "source": [
    "import polars as pl\n",
    "import json"
   ]
  },
  {
   "cell_type": "code",
   "execution_count": 5,
   "id": "aed49415-22a5-4dd0-ae9e-45ad81e8653d",
   "metadata": {},
   "outputs": [],
   "source": [
    "def extract_json_to_dataframe(json_file_path: str) -> pl.DataFrame:\n",
    "    \"\"\"\n",
    "    Extracts data from a JSON file and creates a Polars DataFrame with columns:\n",
    "    'instruction', 'input', and 'output'.\n",
    "\n",
    "    Args:\n",
    "        json_file_path (str): The path to the JSON file.\n",
    "\n",
    "    Returns:\n",
    "        pl.DataFrame: A Polars DataFrame with the extracted columns.\n",
    "    \"\"\"\n",
    "    try:\n",
    "        # Read JSON file\n",
    "        with open(json_file_path, 'r') as file:\n",
    "            data = json.load(file)\n",
    "        \n",
    "        # Validate and extract required fields\n",
    "        extracted_data = [\n",
    "            {\n",
    "                \"instruction\": item.get(\"instruction\", \"\"),\n",
    "                \"input\": item.get(\"input\", \"\"),\n",
    "                \"output\": item.get(\"output\", \"\"),\n",
    "            }\n",
    "            for item in data\n",
    "        ]\n",
    "        \n",
    "        # Create Polars DataFrame\n",
    "        df = pl.DataFrame(extracted_data)\n",
    "        return df\n",
    "    \n",
    "    except Exception as e:\n",
    "        raise RuntimeError(f\"An error occurred while processing the JSON file: {e}\")\n"
   ]
  },
  {
   "cell_type": "code",
   "execution_count": 6,
   "id": "490bde74-d479-44f0-bef6-7226762fe24b",
   "metadata": {},
   "outputs": [],
   "source": [
    "df = extract_json_to_dataframe(\"./gen_instructions_1.json\")"
   ]
  },
  {
   "cell_type": "code",
   "execution_count": 7,
   "id": "ca4530a1-9b31-4036-b5de-8457d31ffe82",
   "metadata": {},
   "outputs": [
    {
     "data": {
      "text/html": [
       "<div><style>\n",
       ".dataframe > thead > tr,\n",
       ".dataframe > tbody > tr {\n",
       "  text-align: right;\n",
       "  white-space: pre-wrap;\n",
       "}\n",
       "</style>\n",
       "<small>shape: (105, 3)</small><table border=\"1\" class=\"dataframe\"><thead><tr><th>instruction</th><th>input</th><th>output</th></tr><tr><td>str</td><td>str</td><td>str</td></tr></thead><tbody><tr><td>&quot;Given the following URScript c…</td><td>&quot;```URscript\n",
       "def broken_program…</td><td>&quot;```URscript\n",
       "def fixed_program(…</td></tr><tr><td>&quot;Write a URScript function that…</td><td>&quot;&quot;</td><td>&quot;```URscript\n",
       "def move_variable_…</td></tr><tr><td>&quot;You are given existing URScrip…</td><td>&quot;```URscript\n",
       "def old_loop_motio…</td><td>&quot;```URscript\n",
       "def move_to_positi…</td></tr><tr><td>&quot;Create a URScript function tha…</td><td>&quot;&quot;</td><td>&quot;```URscript\n",
       "def pick_and_place…</td></tr><tr><td>&quot;How would you implement a simp…</td><td>&quot;&quot;</td><td>&quot;```URscript\n",
       "def error_handling…</td></tr><tr><td>&hellip;</td><td>&hellip;</td><td>&hellip;</td></tr><tr><td>&quot;Generate URScript code that se…</td><td>&quot;&quot;</td><td>&quot;```URscript\n",
       "var condition = Tr…</td></tr><tr><td>&quot;The below URScript code contai…</td><td>&quot;```URscript\n",
       "def invalid_functi…</td><td>&quot;```URscript\n",
       "def invalid_functi…</td></tr><tr><td>&quot;Write a function in URScript t…</td><td>&quot;&quot;</td><td>&quot;```URscript\n",
       "def log_robot_pose…</td></tr><tr><td>&quot;Construct URScript code that i…</td><td>&quot;&quot;</td><td>&quot;```URscript\n",
       "def pick_and_place…</td></tr><tr><td>&quot;Optimize the performance of th…</td><td>&quot;```URscript\n",
       "def move_between_w…</td><td>&quot;```URscript\n",
       "def move_between_w…</td></tr></tbody></table></div>"
      ],
      "text/plain": [
       "shape: (105, 3)\n",
       "┌─────────────────────────────────┬─────────────────────┬─────────────────────┐\n",
       "│ instruction                     ┆ input               ┆ output              │\n",
       "│ ---                             ┆ ---                 ┆ ---                 │\n",
       "│ str                             ┆ str                 ┆ str                 │\n",
       "╞═════════════════════════════════╪═════════════════════╪═════════════════════╡\n",
       "│ Given the following URScript c… ┆ ```URscript         ┆ ```URscript         │\n",
       "│                                 ┆ def broken_program… ┆ def fixed_program(… │\n",
       "│ Write a URScript function that… ┆                     ┆ ```URscript         │\n",
       "│                                 ┆                     ┆ def move_variable_… │\n",
       "│ You are given existing URScrip… ┆ ```URscript         ┆ ```URscript         │\n",
       "│                                 ┆ def old_loop_motio… ┆ def move_to_positi… │\n",
       "│ Create a URScript function tha… ┆                     ┆ ```URscript         │\n",
       "│                                 ┆                     ┆ def pick_and_place… │\n",
       "│ How would you implement a simp… ┆                     ┆ ```URscript         │\n",
       "│                                 ┆                     ┆ def error_handling… │\n",
       "│ …                               ┆ …                   ┆ …                   │\n",
       "│ Generate URScript code that se… ┆                     ┆ ```URscript         │\n",
       "│                                 ┆                     ┆ var condition = Tr… │\n",
       "│ The below URScript code contai… ┆ ```URscript         ┆ ```URscript         │\n",
       "│                                 ┆ def invalid_functi… ┆ def invalid_functi… │\n",
       "│ Write a function in URScript t… ┆                     ┆ ```URscript         │\n",
       "│                                 ┆                     ┆ def log_robot_pose… │\n",
       "│ Construct URScript code that i… ┆                     ┆ ```URscript         │\n",
       "│                                 ┆                     ┆ def pick_and_place… │\n",
       "│ Optimize the performance of th… ┆ ```URscript         ┆ ```URscript         │\n",
       "│                                 ┆ def move_between_w… ┆ def move_between_w… │\n",
       "└─────────────────────────────────┴─────────────────────┴─────────────────────┘"
      ]
     },
     "execution_count": 7,
     "metadata": {},
     "output_type": "execute_result"
    }
   ],
   "source": [
    "df"
   ]
  },
  {
   "cell_type": "code",
   "execution_count": 8,
   "id": "04f3f49b-a1d7-4dd7-a3b2-d8ca207096f0",
   "metadata": {},
   "outputs": [],
   "source": [
    "def save_dataframe_to_csv(df: pl.DataFrame, csv_file_path: str):\n",
    "    \"\"\"\n",
    "    Saves a Polars DataFrame to a CSV file.\n",
    "\n",
    "    Args:\n",
    "        df (pl.DataFrame): The Polars DataFrame to save.\n",
    "        csv_file_path (str): The path where the CSV file will be saved.\n",
    "    \"\"\"\n",
    "    try:\n",
    "        df.write_csv(csv_file_path)\n",
    "        print(f\"DataFrame successfully saved to {csv_file_path}\")\n",
    "    except Exception as e:\n",
    "        raise RuntimeError(f\"An error occurred while saving the DataFrame to CSV: {e}\")\n"
   ]
  },
  {
   "cell_type": "code",
   "execution_count": 9,
   "id": "ea3a0268-6545-438c-ad49-e423678cf5bd",
   "metadata": {},
   "outputs": [
    {
     "name": "stdout",
     "output_type": "stream",
     "text": [
      "DataFrame successfully saved to ./output.csv\n"
     ]
    }
   ],
   "source": [
    "save_dataframe_to_csv(df, csv_file_path=\"./output.csv\")"
   ]
  },
  {
   "cell_type": "code",
   "execution_count": null,
   "id": "7f6bec78-5776-459f-92f2-bad109d72a9e",
   "metadata": {},
   "outputs": [],
   "source": []
  }
 ],
 "metadata": {
  "kernelspec": {
   "display_name": "Python 3 (ipykernel)",
   "language": "python",
   "name": "python3"
  },
  "language_info": {
   "codemirror_mode": {
    "name": "ipython",
    "version": 3
   },
   "file_extension": ".py",
   "mimetype": "text/x-python",
   "name": "python",
   "nbconvert_exporter": "python",
   "pygments_lexer": "ipython3",
   "version": "3.11.8"
  }
 },
 "nbformat": 4,
 "nbformat_minor": 5
}
