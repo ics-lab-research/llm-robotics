{
 "cells": [
  {
   "cell_type": "markdown",
   "id": "4d90455c-6de6-499d-9e71-74563b1a7a83",
   "metadata": {},
   "source": [
    "# This notebook try to extract information from output of alpaca method"
   ]
  },
  {
   "cell_type": "code",
   "execution_count": 1,
   "id": "2220e6db-1f20-4a63-a1f2-9ccca32baa92",
   "metadata": {},
   "outputs": [],
   "source": [
    "import polars as pl\n",
    "import json"
   ]
  },
  {
   "cell_type": "code",
   "execution_count": 2,
   "id": "aed49415-22a5-4dd0-ae9e-45ad81e8653d",
   "metadata": {},
   "outputs": [],
   "source": [
    "def extract_json_to_dataframe(json_file_path: str) -> pl.DataFrame:\n",
    "    \"\"\"\n",
    "    Extracts data from a JSON file and creates a Polars DataFrame with columns:\n",
    "    'instruction', 'input', and 'output'.\n",
    "\n",
    "    Args:\n",
    "        json_file_path (str): The path to the JSON file.\n",
    "\n",
    "    Returns:\n",
    "        pl.DataFrame: A Polars DataFrame with the extracted columns.\n",
    "    \"\"\"\n",
    "    try:\n",
    "        # Read JSON file\n",
    "        with open(json_file_path, 'r') as file:\n",
    "            data = json.load(file)\n",
    "        \n",
    "        # Validate and extract required fields\n",
    "        extracted_data = [\n",
    "            {\n",
    "                \"instruction\": item.get(\"instruction\", \"\"),\n",
    "                \"input\": item.get(\"input\", \"\"),\n",
    "                \"output\": item.get(\"output\", \"\"),\n",
    "            }\n",
    "            for item in data\n",
    "        ]\n",
    "        \n",
    "        # Create Polars DataFrame\n",
    "        df = pl.DataFrame(extracted_data)\n",
    "        return df\n",
    "    \n",
    "    except Exception as e:\n",
    "        raise RuntimeError(f\"An error occurred while processing the JSON file: {e}\")\n"
   ]
  },
  {
   "cell_type": "code",
   "execution_count": 3,
   "id": "490bde74-d479-44f0-bef6-7226762fe24b",
   "metadata": {},
   "outputs": [],
   "source": [
    "df = extract_json_to_dataframe(\"./test_instructions.json\")"
   ]
  },
  {
   "cell_type": "code",
   "execution_count": 4,
   "id": "ca4530a1-9b31-4036-b5de-8457d31ffe82",
   "metadata": {},
   "outputs": [
    {
     "data": {
      "text/html": [
       "<div><style>\n",
       ".dataframe > thead > tr,\n",
       ".dataframe > tbody > tr {\n",
       "  text-align: right;\n",
       "  white-space: pre-wrap;\n",
       "}\n",
       "</style>\n",
       "<small>shape: (107, 3)</small><table border=\"1\" class=\"dataframe\"><thead><tr><th>instruction</th><th>input</th><th>output</th></tr><tr><td>str</td><td>str</td><td>str</td></tr></thead><tbody><tr><td>&quot;Could you refactor this URScri…</td><td>&quot;&lt;no_input&gt;&quot;</td><td>&quot;```URscript\n",
       "global positions =…</td></tr><tr><td>&quot;Generate a URScript function t…</td><td>&quot;&lt;no_input&gt;&quot;</td><td>&quot;```URscript\n",
       "def control_digita…</td></tr><tr><td>&quot;Construct a URScript function …</td><td>&quot;```URscript\n",
       "relative_position …</td><td>&quot;```URscript\n",
       "def update_tcp(rel…</td></tr><tr><td>&quot;Create a URScript function tha…</td><td>&quot;&lt;no_input&gt;&quot;</td><td>&quot;```URscript\n",
       "def get_scaled_ana…</td></tr><tr><td>&quot;Given the following URScript c…</td><td>&quot;&lt;no_input&gt;&quot;</td><td>&quot;```URscript\n",
       "def move_until_inp…</td></tr><tr><td>&hellip;</td><td>&hellip;</td><td>&hellip;</td></tr><tr><td>&quot;Develop a URScript program tha…</td><td>&quot;```\n",
       "pick_pos = p[0.1, 0.2, 0.3…</td><td>&quot;```URscript\n",
       "def pick_and_place…</td></tr><tr><td>&quot;You have two poses and want th…</td><td>&quot;```URscript\n",
       "pose1 = p[0.1, 0.2…</td><td>&quot;```URscript\n",
       "pose1 = p[0.1, 0.2…</td></tr><tr><td>&quot;Given the provided URScript co…</td><td>&quot;```URscript\n",
       "set_digital_out(0,…</td><td>&quot;```URscript\n",
       "digital_output = 0…</td></tr><tr><td>&quot;Write a URScript function to i…</td><td>&quot;```URscript\n",
       "scan_start_pose = …</td><td>&quot;```URscript\n",
       "def scan_motion(sc…</td></tr><tr><td>&quot;An operator reports that a par…</td><td>&quot;```URscript\n",
       "global current_pos…</td><td>&quot;```URscript\n",
       "global current_pos…</td></tr></tbody></table></div>"
      ],
      "text/plain": [
       "shape: (107, 3)\n",
       "┌─────────────────────────────────┬─────────────────────────────┬─────────────────────┐\n",
       "│ instruction                     ┆ input                       ┆ output              │\n",
       "│ ---                             ┆ ---                         ┆ ---                 │\n",
       "│ str                             ┆ str                         ┆ str                 │\n",
       "╞═════════════════════════════════╪═════════════════════════════╪═════════════════════╡\n",
       "│ Could you refactor this URScri… ┆ <no_input>                  ┆ ```URscript         │\n",
       "│                                 ┆                             ┆ global positions =… │\n",
       "│ Generate a URScript function t… ┆ <no_input>                  ┆ ```URscript         │\n",
       "│                                 ┆                             ┆ def control_digita… │\n",
       "│ Construct a URScript function … ┆ ```URscript                 ┆ ```URscript         │\n",
       "│                                 ┆ relative_position …         ┆ def update_tcp(rel… │\n",
       "│ Create a URScript function tha… ┆ <no_input>                  ┆ ```URscript         │\n",
       "│                                 ┆                             ┆ def get_scaled_ana… │\n",
       "│ Given the following URScript c… ┆ <no_input>                  ┆ ```URscript         │\n",
       "│                                 ┆                             ┆ def move_until_inp… │\n",
       "│ …                               ┆ …                           ┆ …                   │\n",
       "│ Develop a URScript program tha… ┆ ```                         ┆ ```URscript         │\n",
       "│                                 ┆ pick_pos = p[0.1, 0.2, 0.3… ┆ def pick_and_place… │\n",
       "│ You have two poses and want th… ┆ ```URscript                 ┆ ```URscript         │\n",
       "│                                 ┆ pose1 = p[0.1, 0.2…         ┆ pose1 = p[0.1, 0.2… │\n",
       "│ Given the provided URScript co… ┆ ```URscript                 ┆ ```URscript         │\n",
       "│                                 ┆ set_digital_out(0,…         ┆ digital_output = 0… │\n",
       "│ Write a URScript function to i… ┆ ```URscript                 ┆ ```URscript         │\n",
       "│                                 ┆ scan_start_pose = …         ┆ def scan_motion(sc… │\n",
       "│ An operator reports that a par… ┆ ```URscript                 ┆ ```URscript         │\n",
       "│                                 ┆ global current_pos…         ┆ global current_pos… │\n",
       "└─────────────────────────────────┴─────────────────────────────┴─────────────────────┘"
      ]
     },
     "execution_count": 4,
     "metadata": {},
     "output_type": "execute_result"
    }
   ],
   "source": [
    "df"
   ]
  },
  {
   "cell_type": "code",
   "execution_count": 9,
   "id": "f2f01f85-7e0e-42cd-a183-69ff41175155",
   "metadata": {},
   "outputs": [
    {
     "data": {
      "text/html": [
       "<div><style>\n",
       ".dataframe > thead > tr,\n",
       ".dataframe > tbody > tr {\n",
       "  text-align: right;\n",
       "  white-space: pre-wrap;\n",
       "}\n",
       "</style>\n",
       "<small>shape: (107, 3)</small><table border=\"1\" class=\"dataframe\"><thead><tr><th>instruction</th><th>input</th><th>output</th></tr><tr><td>str</td><td>str</td><td>str</td></tr></thead><tbody><tr><td>&quot;Could you refactor this URScri…</td><td>&quot;&lt;no_input&gt;&quot;</td><td>&quot;```URscript\n",
       "global positions =…</td></tr><tr><td>&quot;Generate a URScript function t…</td><td>&quot;&lt;no_input&gt;&quot;</td><td>&quot;```URscript\n",
       "def activate_outpu…</td></tr><tr><td>&quot;Construct a URScript function …</td><td>&quot;```URscript\n",
       "relative_position …</td><td>&quot;```URscript\n",
       "def define_new_tcp…</td></tr><tr><td>&quot;Create a URScript function tha…</td><td>&quot;&lt;no_input&gt;&quot;</td><td>&quot;```URscript\n",
       "def read_analog_pe…</td></tr><tr><td>&quot;Given the following URScript c…</td><td>&quot;&lt;no_input&gt;&quot;</td><td>&quot;```URscript\n",
       "def move_until_inp…</td></tr><tr><td>&hellip;</td><td>&hellip;</td><td>&hellip;</td></tr><tr><td>&quot;Develop a URScript program tha…</td><td>&quot;```\n",
       "pick_pos = p[0.1, 0.2, 0.3…</td><td>&quot;```URscript\n",
       "def pick_and_place…</td></tr><tr><td>&quot;You have two poses and want th…</td><td>&quot;```URscript\n",
       "pose1 = p[0.1, 0.2…</td><td>&quot;```URscript\n",
       "pose1 = p[0.1, 0.2…</td></tr><tr><td>&quot;Given the provided URScript co…</td><td>&quot;```URscript\n",
       "set_digital_out(0,…</td><td>&quot;```URscript\n",
       "def toggle_output(…</td></tr><tr><td>&quot;Write a URScript function to i…</td><td>&quot;```URscript\n",
       "scan_start_pose = …</td><td>&quot;```URscript\n",
       "def scan_motion(sc…</td></tr><tr><td>&quot;An operator reports that a par…</td><td>&quot;```URscript\n",
       "global current_pos…</td><td>&quot;```URscript\n",
       "global current_pos…</td></tr></tbody></table></div>"
      ],
      "text/plain": [
       "shape: (107, 3)\n",
       "┌─────────────────────────────────┬─────────────────────────────┬─────────────────────┐\n",
       "│ instruction                     ┆ input                       ┆ output              │\n",
       "│ ---                             ┆ ---                         ┆ ---                 │\n",
       "│ str                             ┆ str                         ┆ str                 │\n",
       "╞═════════════════════════════════╪═════════════════════════════╪═════════════════════╡\n",
       "│ Could you refactor this URScri… ┆ <no_input>                  ┆ ```URscript         │\n",
       "│                                 ┆                             ┆ global positions =… │\n",
       "│ Generate a URScript function t… ┆ <no_input>                  ┆ ```URscript         │\n",
       "│                                 ┆                             ┆ def activate_outpu… │\n",
       "│ Construct a URScript function … ┆ ```URscript                 ┆ ```URscript         │\n",
       "│                                 ┆ relative_position …         ┆ def define_new_tcp… │\n",
       "│ Create a URScript function tha… ┆ <no_input>                  ┆ ```URscript         │\n",
       "│                                 ┆                             ┆ def read_analog_pe… │\n",
       "│ Given the following URScript c… ┆ <no_input>                  ┆ ```URscript         │\n",
       "│                                 ┆                             ┆ def move_until_inp… │\n",
       "│ …                               ┆ …                           ┆ …                   │\n",
       "│ Develop a URScript program tha… ┆ ```                         ┆ ```URscript         │\n",
       "│                                 ┆ pick_pos = p[0.1, 0.2, 0.3… ┆ def pick_and_place… │\n",
       "│ You have two poses and want th… ┆ ```URscript                 ┆ ```URscript         │\n",
       "│                                 ┆ pose1 = p[0.1, 0.2…         ┆ pose1 = p[0.1, 0.2… │\n",
       "│ Given the provided URScript co… ┆ ```URscript                 ┆ ```URscript         │\n",
       "│                                 ┆ set_digital_out(0,…         ┆ def toggle_output(… │\n",
       "│ Write a URScript function to i… ┆ ```URscript                 ┆ ```URscript         │\n",
       "│                                 ┆ scan_start_pose = …         ┆ def scan_motion(sc… │\n",
       "│ An operator reports that a par… ┆ ```URscript                 ┆ ```URscript         │\n",
       "│                                 ┆ global current_pos…         ┆ global current_pos… │\n",
       "└─────────────────────────────────┴─────────────────────────────┴─────────────────────┘"
      ]
     },
     "execution_count": 9,
     "metadata": {},
     "output_type": "execute_result"
    }
   ],
   "source": [
    "df1 = extract_json_to_dataframe(\"./output_qwen7b_coder.json\")\n",
    "df1"
   ]
  },
  {
   "cell_type": "code",
   "execution_count": 10,
   "id": "970e623f-b376-4dd2-af8f-4afad31a63eb",
   "metadata": {},
   "outputs": [
    {
     "data": {
      "text/html": [
       "<div><style>\n",
       ".dataframe > thead > tr,\n",
       ".dataframe > tbody > tr {\n",
       "  text-align: right;\n",
       "  white-space: pre-wrap;\n",
       "}\n",
       "</style>\n",
       "<small>shape: (107, 3)</small><table border=\"1\" class=\"dataframe\"><thead><tr><th>instruction</th><th>input</th><th>output</th></tr><tr><td>str</td><td>str</td><td>str</td></tr></thead><tbody><tr><td>&quot;Could you refactor this URScri…</td><td>&quot;&lt;no_input&gt;&quot;</td><td>&quot;```URscript\n",
       "global positions =…</td></tr><tr><td>&quot;Generate a URScript function t…</td><td>&quot;&lt;no_input&gt;&quot;</td><td>&quot;```URscript\n",
       "def control_digita…</td></tr><tr><td>&quot;Construct a URScript function …</td><td>&quot;```URscript\n",
       "relative_position …</td><td>&quot;```URscript\n",
       "def define_new_tcp…</td></tr><tr><td>&quot;Create a URScript function tha…</td><td>&quot;&lt;no_input&gt;&quot;</td><td>&quot;```URscript\n",
       "def read_and_scale…</td></tr><tr><td>&quot;Given the following URScript c…</td><td>&quot;&lt;no_input&gt;&quot;</td><td>&quot;```URscript\n",
       "def move_until_inp…</td></tr><tr><td>&hellip;</td><td>&hellip;</td><td>&hellip;</td></tr><tr><td>&quot;Develop a URScript program tha…</td><td>&quot;```\n",
       "pick_pos = p[0.1, 0.2, 0.3…</td><td>&quot;```URscript\n",
       "def pick_and_place…</td></tr><tr><td>&quot;You have two poses and want th…</td><td>&quot;```URscript\n",
       "pose1 = p[0.1, 0.2…</td><td>&quot;```URscript\n",
       "pose1 = p[0.1, 0.2…</td></tr><tr><td>&quot;Given the provided URScript co…</td><td>&quot;```URscript\n",
       "set_digital_out(0,…</td><td>&quot;```URscript\n",
       "def toggle_digital…</td></tr><tr><td>&quot;Write a URScript function to i…</td><td>&quot;```URscript\n",
       "scan_start_pose = …</td><td>&quot;```URscript\n",
       "def scan_motion():…</td></tr><tr><td>&quot;An operator reports that a par…</td><td>&quot;```URscript\n",
       "global current_pos…</td><td>&quot;```URscript\n",
       "global current_pos…</td></tr></tbody></table></div>"
      ],
      "text/plain": [
       "shape: (107, 3)\n",
       "┌─────────────────────────────────┬─────────────────────────────┬─────────────────────┐\n",
       "│ instruction                     ┆ input                       ┆ output              │\n",
       "│ ---                             ┆ ---                         ┆ ---                 │\n",
       "│ str                             ┆ str                         ┆ str                 │\n",
       "╞═════════════════════════════════╪═════════════════════════════╪═════════════════════╡\n",
       "│ Could you refactor this URScri… ┆ <no_input>                  ┆ ```URscript         │\n",
       "│                                 ┆                             ┆ global positions =… │\n",
       "│ Generate a URScript function t… ┆ <no_input>                  ┆ ```URscript         │\n",
       "│                                 ┆                             ┆ def control_digita… │\n",
       "│ Construct a URScript function … ┆ ```URscript                 ┆ ```URscript         │\n",
       "│                                 ┆ relative_position …         ┆ def define_new_tcp… │\n",
       "│ Create a URScript function tha… ┆ <no_input>                  ┆ ```URscript         │\n",
       "│                                 ┆                             ┆ def read_and_scale… │\n",
       "│ Given the following URScript c… ┆ <no_input>                  ┆ ```URscript         │\n",
       "│                                 ┆                             ┆ def move_until_inp… │\n",
       "│ …                               ┆ …                           ┆ …                   │\n",
       "│ Develop a URScript program tha… ┆ ```                         ┆ ```URscript         │\n",
       "│                                 ┆ pick_pos = p[0.1, 0.2, 0.3… ┆ def pick_and_place… │\n",
       "│ You have two poses and want th… ┆ ```URscript                 ┆ ```URscript         │\n",
       "│                                 ┆ pose1 = p[0.1, 0.2…         ┆ pose1 = p[0.1, 0.2… │\n",
       "│ Given the provided URScript co… ┆ ```URscript                 ┆ ```URscript         │\n",
       "│                                 ┆ set_digital_out(0,…         ┆ def toggle_digital… │\n",
       "│ Write a URScript function to i… ┆ ```URscript                 ┆ ```URscript         │\n",
       "│                                 ┆ scan_start_pose = …         ┆ def scan_motion():… │\n",
       "│ An operator reports that a par… ┆ ```URscript                 ┆ ```URscript         │\n",
       "│                                 ┆ global current_pos…         ┆ global current_pos… │\n",
       "└─────────────────────────────────┴─────────────────────────────┴─────────────────────┘"
      ]
     },
     "execution_count": 10,
     "metadata": {},
     "output_type": "execute_result"
    }
   ],
   "source": [
    "df2 = extract_json_to_dataframe(\"./output_qwen7b.json\")\n",
    "df2"
   ]
  },
  {
   "cell_type": "code",
   "execution_count": 8,
   "id": "d333432a-1ee5-4724-820f-1250fde1b638",
   "metadata": {},
   "outputs": [
    {
     "data": {
      "text/html": [
       "<div><style>\n",
       ".dataframe > thead > tr,\n",
       ".dataframe > tbody > tr {\n",
       "  text-align: right;\n",
       "  white-space: pre-wrap;\n",
       "}\n",
       "</style>\n",
       "<small>shape: (107, 3)</small><table border=\"1\" class=\"dataframe\"><thead><tr><th>instruction</th><th>input</th><th>output</th></tr><tr><td>str</td><td>str</td><td>str</td></tr></thead><tbody><tr><td>&quot;Could you refactor this URScri…</td><td>&quot;&lt;no_input&gt;&quot;</td><td>&quot;```URscript\n",
       "global positions =…</td></tr><tr><td>&quot;Generate a URScript function t…</td><td>&quot;&lt;no_input&gt;&quot;</td><td>&quot;```URscript\n",
       "def control_digita…</td></tr><tr><td>&quot;Construct a URScript function …</td><td>&quot;```URscript\n",
       "relative_position …</td><td>&quot;```URscript\n",
       "def move_relative_…</td></tr><tr><td>&quot;Create a URScript function tha…</td><td>&quot;&lt;no_input&gt;&quot;</td><td>&quot;```URscript\n",
       "def read_analog_pe…</td></tr><tr><td>&quot;Given the following URScript c…</td><td>&quot;&lt;no_input&gt;&quot;</td><td>&quot;```URscript\n",
       "def move_until_inp…</td></tr><tr><td>&hellip;</td><td>&hellip;</td><td>&hellip;</td></tr><tr><td>&quot;Develop a URScript program tha…</td><td>&quot;```\n",
       "pick_pos = p[0.1, 0.2, 0.3…</td><td>&quot;```URscript\n",
       "def pick_and_place…</td></tr><tr><td>&quot;You have two poses and want th…</td><td>&quot;```URscript\n",
       "pose1 = p[0.1, 0.2…</td><td>&quot;```URscript\n",
       "pose1 = p[0.1, 0.2…</td></tr><tr><td>&quot;Given the provided URScript co…</td><td>&quot;```URscript\n",
       "set_digital_out(0,…</td><td>&quot;```URscript\n",
       "for i = 1 to 5:\n",
       "&nbsp;&nbsp;…</td></tr><tr><td>&quot;Write a URScript function to i…</td><td>&quot;```URscript\n",
       "scan_start_pose = …</td><td>&quot;```URscript\n",
       "def scan_motion(sc…</td></tr><tr><td>&quot;An operator reports that a par…</td><td>&quot;```URscript\n",
       "global current_pos…</td><td>&quot;```URscript\n",
       "global current_pos…</td></tr></tbody></table></div>"
      ],
      "text/plain": [
       "shape: (107, 3)\n",
       "┌─────────────────────────────────┬─────────────────────────────┬─────────────────────┐\n",
       "│ instruction                     ┆ input                       ┆ output              │\n",
       "│ ---                             ┆ ---                         ┆ ---                 │\n",
       "│ str                             ┆ str                         ┆ str                 │\n",
       "╞═════════════════════════════════╪═════════════════════════════╪═════════════════════╡\n",
       "│ Could you refactor this URScri… ┆ <no_input>                  ┆ ```URscript         │\n",
       "│                                 ┆                             ┆ global positions =… │\n",
       "│ Generate a URScript function t… ┆ <no_input>                  ┆ ```URscript         │\n",
       "│                                 ┆                             ┆ def control_digita… │\n",
       "│ Construct a URScript function … ┆ ```URscript                 ┆ ```URscript         │\n",
       "│                                 ┆ relative_position …         ┆ def move_relative_… │\n",
       "│ Create a URScript function tha… ┆ <no_input>                  ┆ ```URscript         │\n",
       "│                                 ┆                             ┆ def read_analog_pe… │\n",
       "│ Given the following URScript c… ┆ <no_input>                  ┆ ```URscript         │\n",
       "│                                 ┆                             ┆ def move_until_inp… │\n",
       "│ …                               ┆ …                           ┆ …                   │\n",
       "│ Develop a URScript program tha… ┆ ```                         ┆ ```URscript         │\n",
       "│                                 ┆ pick_pos = p[0.1, 0.2, 0.3… ┆ def pick_and_place… │\n",
       "│ You have two poses and want th… ┆ ```URscript                 ┆ ```URscript         │\n",
       "│                                 ┆ pose1 = p[0.1, 0.2…         ┆ pose1 = p[0.1, 0.2… │\n",
       "│ Given the provided URScript co… ┆ ```URscript                 ┆ ```URscript         │\n",
       "│                                 ┆ set_digital_out(0,…         ┆ for i = 1 to 5:     │\n",
       "│                                 ┆                             ┆   …                 │\n",
       "│ Write a URScript function to i… ┆ ```URscript                 ┆ ```URscript         │\n",
       "│                                 ┆ scan_start_pose = …         ┆ def scan_motion(sc… │\n",
       "│ An operator reports that a par… ┆ ```URscript                 ┆ ```URscript         │\n",
       "│                                 ┆ global current_pos…         ┆ global current_pos… │\n",
       "└─────────────────────────────────┴─────────────────────────────┴─────────────────────┘"
      ]
     },
     "execution_count": 8,
     "metadata": {},
     "output_type": "execute_result"
    }
   ],
   "source": [
    "df3 = extract_json_to_dataframe(\"./output_qwen3b_coder.json\")\n",
    "df3"
   ]
  },
  {
   "cell_type": "code",
   "execution_count": 17,
   "id": "1be56d84-6edd-4e32-b211-833a7b8d416d",
   "metadata": {},
   "outputs": [
    {
     "data": {
      "text/html": [
       "<div><style>\n",
       ".dataframe > thead > tr,\n",
       ".dataframe > tbody > tr {\n",
       "  text-align: right;\n",
       "  white-space: pre-wrap;\n",
       "}\n",
       "</style>\n",
       "<small>shape: (107, 3)</small><table border=\"1\" class=\"dataframe\"><thead><tr><th>instruction</th><th>input</th><th>output</th></tr><tr><td>str</td><td>str</td><td>str</td></tr></thead><tbody><tr><td>&quot;Could you refactor this URScri…</td><td>&quot;&lt;no_input&gt;&quot;</td><td>&quot;```URscript\n",
       "global positions =…</td></tr><tr><td>&quot;Generate a URScript function t…</td><td>&quot;&lt;no_input&gt;&quot;</td><td>&quot;```URscript\n",
       "def control_digita…</td></tr><tr><td>&quot;Construct a URScript function …</td><td>&quot;```URscript\n",
       "relative_position …</td><td>&quot;```URscript\n",
       "def transform_pose…</td></tr><tr><td>&quot;Create a URScript function tha…</td><td>&quot;&lt;no_input&gt;&quot;</td><td>&quot;```URscript\n",
       "def read_analog_in…</td></tr><tr><td>&quot;Given the following URScript c…</td><td>&quot;&lt;no_input&gt;&quot;</td><td>&quot;```URscript\n",
       "def move_until_inp…</td></tr><tr><td>&hellip;</td><td>&hellip;</td><td>&hellip;</td></tr><tr><td>&quot;Develop a URScript program tha…</td><td>&quot;```\n",
       "pick_pos = p[0.1, 0.2, 0.3…</td><td>&quot;```URscript\n",
       "def pick_and_place…</td></tr><tr><td>&quot;You have two poses and want th…</td><td>&quot;```URscript\n",
       "pose1 = p[0.1, 0.2…</td><td>&quot;```URscript\n",
       "pose1 = p[0.1, 0.2…</td></tr><tr><td>&quot;Given the provided URScript co…</td><td>&quot;```URscript\n",
       "set_digital_out(0,…</td><td>&quot;```URscript\n",
       "def toggle_digital…</td></tr><tr><td>&quot;Write a URScript function to i…</td><td>&quot;```URscript\n",
       "scan_start_pose = …</td><td>&quot;```URscript\n",
       "def scan_motion():…</td></tr><tr><td>&quot;An operator reports that a par…</td><td>&quot;```URscript\n",
       "global current_pos…</td><td>&quot;```URscript\n",
       "global current_pos…</td></tr></tbody></table></div>"
      ],
      "text/plain": [
       "shape: (107, 3)\n",
       "┌─────────────────────────────────┬─────────────────────────────┬─────────────────────┐\n",
       "│ instruction                     ┆ input                       ┆ output              │\n",
       "│ ---                             ┆ ---                         ┆ ---                 │\n",
       "│ str                             ┆ str                         ┆ str                 │\n",
       "╞═════════════════════════════════╪═════════════════════════════╪═════════════════════╡\n",
       "│ Could you refactor this URScri… ┆ <no_input>                  ┆ ```URscript         │\n",
       "│                                 ┆                             ┆ global positions =… │\n",
       "│ Generate a URScript function t… ┆ <no_input>                  ┆ ```URscript         │\n",
       "│                                 ┆                             ┆ def control_digita… │\n",
       "│ Construct a URScript function … ┆ ```URscript                 ┆ ```URscript         │\n",
       "│                                 ┆ relative_position …         ┆ def transform_pose… │\n",
       "│ Create a URScript function tha… ┆ <no_input>                  ┆ ```URscript         │\n",
       "│                                 ┆                             ┆ def read_analog_in… │\n",
       "│ Given the following URScript c… ┆ <no_input>                  ┆ ```URscript         │\n",
       "│                                 ┆                             ┆ def move_until_inp… │\n",
       "│ …                               ┆ …                           ┆ …                   │\n",
       "│ Develop a URScript program tha… ┆ ```                         ┆ ```URscript         │\n",
       "│                                 ┆ pick_pos = p[0.1, 0.2, 0.3… ┆ def pick_and_place… │\n",
       "│ You have two poses and want th… ┆ ```URscript                 ┆ ```URscript         │\n",
       "│                                 ┆ pose1 = p[0.1, 0.2…         ┆ pose1 = p[0.1, 0.2… │\n",
       "│ Given the provided URScript co… ┆ ```URscript                 ┆ ```URscript         │\n",
       "│                                 ┆ set_digital_out(0,…         ┆ def toggle_digital… │\n",
       "│ Write a URScript function to i… ┆ ```URscript                 ┆ ```URscript         │\n",
       "│                                 ┆ scan_start_pose = …         ┆ def scan_motion():… │\n",
       "│ An operator reports that a par… ┆ ```URscript                 ┆ ```URscript         │\n",
       "│                                 ┆ global current_pos…         ┆ global current_pos… │\n",
       "└─────────────────────────────────┴─────────────────────────────┴─────────────────────┘"
      ]
     },
     "execution_count": 17,
     "metadata": {},
     "output_type": "execute_result"
    }
   ],
   "source": [
    "df4 = extract_json_to_dataframe(\"./output_qwen3b.json\")\n",
    "df4"
   ]
  },
  {
   "cell_type": "code",
   "execution_count": 18,
   "id": "eae1bae2-2cc1-47ab-9c98-b0e078cd8def",
   "metadata": {},
   "outputs": [
    {
     "data": {
      "text/html": [
       "<div><style>\n",
       ".dataframe > thead > tr,\n",
       ".dataframe > tbody > tr {\n",
       "  text-align: right;\n",
       "  white-space: pre-wrap;\n",
       "}\n",
       "</style>\n",
       "<small>shape: (107, 7)</small><table border=\"1\" class=\"dataframe\"><thead><tr><th>instruction</th><th>input</th><th>output</th><th>output (Qwen7B-coder)</th><th>output (Qwen7B)</th><th>output (Qwen3B-coder)</th><th>output (Qwen3B)</th></tr><tr><td>str</td><td>str</td><td>str</td><td>str</td><td>str</td><td>str</td><td>str</td></tr></thead><tbody><tr><td>&quot;Could you refactor this URScri…</td><td>&quot;&lt;no_input&gt;&quot;</td><td>&quot;```URscript\n",
       "global positions =…</td><td>&quot;```URscript\n",
       "global positions =…</td><td>&quot;```URscript\n",
       "global positions =…</td><td>&quot;```URscript\n",
       "global positions =…</td><td>&quot;```URscript\n",
       "global positions =…</td></tr><tr><td>&quot;Generate a URScript function t…</td><td>&quot;&lt;no_input&gt;&quot;</td><td>&quot;```URscript\n",
       "def control_digita…</td><td>&quot;```URscript\n",
       "def activate_outpu…</td><td>&quot;```URscript\n",
       "def control_digita…</td><td>&quot;```URscript\n",
       "def control_digita…</td><td>&quot;```URscript\n",
       "def control_digita…</td></tr><tr><td>&quot;Construct a URScript function …</td><td>&quot;```URscript\n",
       "relative_position …</td><td>&quot;```URscript\n",
       "def update_tcp(rel…</td><td>&quot;```URscript\n",
       "def define_new_tcp…</td><td>&quot;```URscript\n",
       "def define_new_tcp…</td><td>&quot;```URscript\n",
       "def move_relative_…</td><td>&quot;```URscript\n",
       "def transform_pose…</td></tr><tr><td>&quot;Create a URScript function tha…</td><td>&quot;&lt;no_input&gt;&quot;</td><td>&quot;```URscript\n",
       "def get_scaled_ana…</td><td>&quot;```URscript\n",
       "def read_analog_pe…</td><td>&quot;```URscript\n",
       "def read_and_scale…</td><td>&quot;```URscript\n",
       "def read_analog_pe…</td><td>&quot;```URscript\n",
       "def read_analog_in…</td></tr><tr><td>&quot;Given the following URScript c…</td><td>&quot;&lt;no_input&gt;&quot;</td><td>&quot;```URscript\n",
       "def move_until_inp…</td><td>&quot;```URscript\n",
       "def move_until_inp…</td><td>&quot;```URscript\n",
       "def move_until_inp…</td><td>&quot;```URscript\n",
       "def move_until_inp…</td><td>&quot;```URscript\n",
       "def move_until_inp…</td></tr><tr><td>&hellip;</td><td>&hellip;</td><td>&hellip;</td><td>&hellip;</td><td>&hellip;</td><td>&hellip;</td><td>&hellip;</td></tr><tr><td>&quot;Develop a URScript program tha…</td><td>&quot;```\n",
       "pick_pos = p[0.1, 0.2, 0.3…</td><td>&quot;```URscript\n",
       "def pick_and_place…</td><td>&quot;```URscript\n",
       "def pick_and_place…</td><td>&quot;```URscript\n",
       "def pick_and_place…</td><td>&quot;```URscript\n",
       "def pick_and_place…</td><td>&quot;```URscript\n",
       "def pick_and_place…</td></tr><tr><td>&quot;You have two poses and want th…</td><td>&quot;```URscript\n",
       "pose1 = p[0.1, 0.2…</td><td>&quot;```URscript\n",
       "pose1 = p[0.1, 0.2…</td><td>&quot;```URscript\n",
       "pose1 = p[0.1, 0.2…</td><td>&quot;```URscript\n",
       "pose1 = p[0.1, 0.2…</td><td>&quot;```URscript\n",
       "pose1 = p[0.1, 0.2…</td><td>&quot;```URscript\n",
       "pose1 = p[0.1, 0.2…</td></tr><tr><td>&quot;Given the provided URScript co…</td><td>&quot;```URscript\n",
       "set_digital_out(0,…</td><td>&quot;```URscript\n",
       "digital_output = 0…</td><td>&quot;```URscript\n",
       "def toggle_output(…</td><td>&quot;```URscript\n",
       "def toggle_digital…</td><td>&quot;```URscript\n",
       "for i = 1 to 5:\n",
       "&nbsp;&nbsp;…</td><td>&quot;```URscript\n",
       "def toggle_digital…</td></tr><tr><td>&quot;Write a URScript function to i…</td><td>&quot;```URscript\n",
       "scan_start_pose = …</td><td>&quot;```URscript\n",
       "def scan_motion(sc…</td><td>&quot;```URscript\n",
       "def scan_motion(sc…</td><td>&quot;```URscript\n",
       "def scan_motion():…</td><td>&quot;```URscript\n",
       "def scan_motion(sc…</td><td>&quot;```URscript\n",
       "def scan_motion():…</td></tr><tr><td>&quot;An operator reports that a par…</td><td>&quot;```URscript\n",
       "global current_pos…</td><td>&quot;```URscript\n",
       "global current_pos…</td><td>&quot;```URscript\n",
       "global current_pos…</td><td>&quot;```URscript\n",
       "global current_pos…</td><td>&quot;```URscript\n",
       "global current_pos…</td><td>&quot;```URscript\n",
       "global current_pos…</td></tr></tbody></table></div>"
      ],
      "text/plain": [
       "shape: (107, 7)\n",
       "┌──────────────┬─────────────┬─────────────┬─────────────┬─────────────┬─────────────┬─────────────┐\n",
       "│ instruction  ┆ input       ┆ output      ┆ output (Qwe ┆ output      ┆ output (Qwe ┆ output      │\n",
       "│ ---          ┆ ---         ┆ ---         ┆ n7B-coder)  ┆ (Qwen7B)    ┆ n3B-coder)  ┆ (Qwen3B)    │\n",
       "│ str          ┆ str         ┆ str         ┆ ---         ┆ ---         ┆ ---         ┆ ---         │\n",
       "│              ┆             ┆             ┆ str         ┆ str         ┆ str         ┆ str         │\n",
       "╞══════════════╪═════════════╪═════════════╪═════════════╪═════════════╪═════════════╪═════════════╡\n",
       "│ Could you    ┆ <no_input>  ┆ ```URscript ┆ ```URscript ┆ ```URscript ┆ ```URscript ┆ ```URscript │\n",
       "│ refactor     ┆             ┆ global      ┆ global      ┆ global      ┆ global      ┆ global      │\n",
       "│ this URScri… ┆             ┆ positions   ┆ positions   ┆ positions   ┆ positions   ┆ positions   │\n",
       "│              ┆             ┆ =…          ┆ =…          ┆ =…          ┆ =…          ┆ =…          │\n",
       "│ Generate a   ┆ <no_input>  ┆ ```URscript ┆ ```URscript ┆ ```URscript ┆ ```URscript ┆ ```URscript │\n",
       "│ URScript     ┆             ┆ def control ┆ def activat ┆ def control ┆ def control ┆ def control │\n",
       "│ function t…  ┆             ┆ _digita…    ┆ e_outpu…    ┆ _digita…    ┆ _digita…    ┆ _digita…    │\n",
       "│ Construct a  ┆ ```URscript ┆ ```URscript ┆ ```URscript ┆ ```URscript ┆ ```URscript ┆ ```URscript │\n",
       "│ URScript     ┆ relative_po ┆ def update_ ┆ def define_ ┆ def define_ ┆ def move_re ┆ def transfo │\n",
       "│ function …   ┆ sition …    ┆ tcp(rel…    ┆ new_tcp…    ┆ new_tcp…    ┆ lative_…    ┆ rm_pose…    │\n",
       "│ Create a     ┆ <no_input>  ┆ ```URscript ┆ ```URscript ┆ ```URscript ┆ ```URscript ┆ ```URscript │\n",
       "│ URScript     ┆             ┆ def get_sca ┆ def read_an ┆ def read_an ┆ def read_an ┆ def read_an │\n",
       "│ function     ┆             ┆ led_ana…    ┆ alog_pe…    ┆ d_scale…    ┆ alog_pe…    ┆ alog_in…    │\n",
       "│ tha…         ┆             ┆             ┆             ┆             ┆             ┆             │\n",
       "│ Given the    ┆ <no_input>  ┆ ```URscript ┆ ```URscript ┆ ```URscript ┆ ```URscript ┆ ```URscript │\n",
       "│ following    ┆             ┆ def move_un ┆ def move_un ┆ def move_un ┆ def move_un ┆ def move_un │\n",
       "│ URScript c…  ┆             ┆ til_inp…    ┆ til_inp…    ┆ til_inp…    ┆ til_inp…    ┆ til_inp…    │\n",
       "│ …            ┆ …           ┆ …           ┆ …           ┆ …           ┆ …           ┆ …           │\n",
       "│ Develop a    ┆ ```         ┆ ```URscript ┆ ```URscript ┆ ```URscript ┆ ```URscript ┆ ```URscript │\n",
       "│ URScript     ┆ pick_pos =  ┆ def pick_an ┆ def pick_an ┆ def pick_an ┆ def pick_an ┆ def pick_an │\n",
       "│ program tha… ┆ p[0.1, 0.2, ┆ d_place…    ┆ d_place…    ┆ d_place…    ┆ d_place…    ┆ d_place…    │\n",
       "│              ┆ 0.3…        ┆             ┆             ┆             ┆             ┆             │\n",
       "│ You have two ┆ ```URscript ┆ ```URscript ┆ ```URscript ┆ ```URscript ┆ ```URscript ┆ ```URscript │\n",
       "│ poses and    ┆ pose1 =     ┆ pose1 =     ┆ pose1 =     ┆ pose1 =     ┆ pose1 =     ┆ pose1 =     │\n",
       "│ want th…     ┆ p[0.1, 0.2… ┆ p[0.1, 0.2… ┆ p[0.1, 0.2… ┆ p[0.1, 0.2… ┆ p[0.1, 0.2… ┆ p[0.1, 0.2… │\n",
       "│ Given the    ┆ ```URscript ┆ ```URscript ┆ ```URscript ┆ ```URscript ┆ ```URscript ┆ ```URscript │\n",
       "│ provided     ┆ set_digital ┆ digital_out ┆ def toggle_ ┆ def toggle_ ┆ for i = 1   ┆ def toggle_ │\n",
       "│ URScript co… ┆ _out(0,…    ┆ put = 0…    ┆ output(…    ┆ digital…    ┆ to 5:       ┆ digital…    │\n",
       "│              ┆             ┆             ┆             ┆             ┆   …         ┆             │\n",
       "│ Write a      ┆ ```URscript ┆ ```URscript ┆ ```URscript ┆ ```URscript ┆ ```URscript ┆ ```URscript │\n",
       "│ URScript     ┆ scan_start_ ┆ def scan_mo ┆ def scan_mo ┆ def scan_mo ┆ def scan_mo ┆ def scan_mo │\n",
       "│ function to  ┆ pose = …    ┆ tion(sc…    ┆ tion(sc…    ┆ tion():…    ┆ tion(sc…    ┆ tion():…    │\n",
       "│ i…           ┆             ┆             ┆             ┆             ┆             ┆             │\n",
       "│ An operator  ┆ ```URscript ┆ ```URscript ┆ ```URscript ┆ ```URscript ┆ ```URscript ┆ ```URscript │\n",
       "│ reports that ┆ global curr ┆ global curr ┆ global curr ┆ global curr ┆ global curr ┆ global curr │\n",
       "│ a par…       ┆ ent_pos…    ┆ ent_pos…    ┆ ent_pos…    ┆ ent_pos…    ┆ ent_pos…    ┆ ent_pos…    │\n",
       "└──────────────┴─────────────┴─────────────┴─────────────┴─────────────┴─────────────┴─────────────┘"
      ]
     },
     "execution_count": 18,
     "metadata": {},
     "output_type": "execute_result"
    }
   ],
   "source": [
    "new_df = df.with_columns(\n",
    "   pl.Series(name=\"output (Qwen7B-coder)\", values=df1[\"output\"]),\n",
    "   pl.Series(name=\"output (Qwen7B)\", values=df2[\"output\"]),\n",
    "   pl.Series(name=\"output (Qwen3B-coder)\", values=df3[\"output\"]),\n",
    "   pl.Series(name=\"output (Qwen3B)\", values=df4[\"output\"]),\n",
    ")\n",
    "new_df"
   ]
  },
  {
   "cell_type": "code",
   "execution_count": 19,
   "id": "04f3f49b-a1d7-4dd7-a3b2-d8ca207096f0",
   "metadata": {},
   "outputs": [],
   "source": [
    "def save_dataframe_to_csv(df: pl.DataFrame, csv_file_path: str):\n",
    "    \"\"\"\n",
    "    Saves a Polars DataFrame to a CSV file.\n",
    "\n",
    "    Args:\n",
    "        df (pl.DataFrame): The Polars DataFrame to save.\n",
    "        csv_file_path (str): The path where the CSV file will be saved.\n",
    "    \"\"\"\n",
    "    try:\n",
    "        df.write_csv(csv_file_path)\n",
    "        print(f\"DataFrame successfully saved to {csv_file_path}\")\n",
    "    except Exception as e:\n",
    "        raise RuntimeError(f\"An error occurred while saving the DataFrame to CSV: {e}\")\n"
   ]
  },
  {
   "cell_type": "code",
   "execution_count": 21,
   "id": "10d0ec06-83fc-45b0-aa70-730bf73592c0",
   "metadata": {},
   "outputs": [
    {
     "name": "stdout",
     "output_type": "stream",
     "text": [
      "DataFrame successfully saved to ./all-outputs.csv\n"
     ]
    }
   ],
   "source": [
    "save_dataframe_to_csv(new_df, csv_file_path=\"./all-outputs.csv\")"
   ]
  },
  {
   "cell_type": "code",
   "execution_count": 6,
   "id": "ea3a0268-6545-438c-ad49-e423678cf5bd",
   "metadata": {},
   "outputs": [
    {
     "name": "stdout",
     "output_type": "stream",
     "text": [
      "DataFrame successfully saved to ./test-instructions.csv\n"
     ]
    }
   ],
   "source": [
    "save_dataframe_to_csv(df, csv_file_path=\"./test-instructions.csv\")"
   ]
  },
  {
   "cell_type": "code",
   "execution_count": null,
   "id": "7f6bec78-5776-459f-92f2-bad109d72a9e",
   "metadata": {},
   "outputs": [],
   "source": []
  }
 ],
 "metadata": {
  "kernelspec": {
   "display_name": "Python 3 (ipykernel)",
   "language": "python",
   "name": "python3"
  },
  "language_info": {
   "codemirror_mode": {
    "name": "ipython",
    "version": 3
   },
   "file_extension": ".py",
   "mimetype": "text/x-python",
   "name": "python",
   "nbconvert_exporter": "python",
   "pygments_lexer": "ipython3",
   "version": "3.11.8"
  }
 },
 "nbformat": 4,
 "nbformat_minor": 5
}
