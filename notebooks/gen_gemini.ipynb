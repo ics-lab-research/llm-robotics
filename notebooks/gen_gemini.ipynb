{
 "cells": [
  {
   "cell_type": "markdown",
   "id": "6973eee2-14ae-4851-bf57-6d0b41e0bb42",
   "metadata": {},
   "source": [
    "# This notebook try to test with alpaca repo"
   ]
  },
  {
   "cell_type": "code",
   "execution_count": 1,
   "id": "35319b42-1c1e-4559-a783-2f7cdca2339d",
   "metadata": {},
   "outputs": [
    {
     "name": "stderr",
     "output_type": "stream",
     "text": [
      "/home/icslab/codebases/python/llm-robotics/.venv/lib/python3.11/site-packages/tqdm/auto.py:21: TqdmWarning: IProgress not found. Please update jupyter and ipywidgets. See https://ipywidgets.readthedocs.io/en/stable/user_install.html\n",
      "  from .autonotebook import tqdm as notebook_tqdm\n"
     ]
    }
   ],
   "source": [
    "import fire\n",
    "import os\n",
    "import tqdm\n",
    "import random\n",
    "import time\n",
    "\n",
    "# import numpy as np\n",
    "from dotenv import load_dotenv\n",
    "import google.generativeai as genai\n",
    "from rouge_score import rouge_scorer\n",
    "\n",
    "from utils_gemini import (\n",
    "    seed_instruction_data_loader,\n",
    "    machine_instruction_data_loader,\n",
    "    encode_prompt,\n",
    "    GeminiGenerationArguments,\n",
    "    gemini_completion,\n",
    "    post_process_gpt3_response,\n",
    ")"
   ]
  },
  {
   "cell_type": "code",
   "execution_count": 2,
   "id": "c0a36017-4d62-46de-bb40-1b1bc9fe7922",
   "metadata": {},
   "outputs": [],
   "source": [
    "load_dotenv()\n",
    "\n",
    "genai.configure(api_key=os.environ[\"GEMINI_API\"])"
   ]
  },
  {
   "cell_type": "code",
   "execution_count": 4,
   "id": "a4fbcb0c-d730-4d33-8e09-49fa6756914b",
   "metadata": {},
   "outputs": [],
   "source": [
    "seed_tasks_path=\"./seed_tasks.jsonl\"\n",
    "num_instructions_to_generate=10  # 20K samples\n",
    "model_name=\"gemini-1.5-flash\"  # TODO: change to pro\n",
    "num_prompt_instructions=3\n",
    "request_batch_size=5\n",
    "temperature=1.0\n",
    "top_p=1.0\n",
    "num_cpus=16"
   ]
  },
  {
   "cell_type": "code",
   "execution_count": 5,
   "id": "ed419aa4-3514-479c-a9c2-144105245f48",
   "metadata": {},
   "outputs": [
    {
     "name": "stdout",
     "output_type": "stream",
     "text": [
      "Loaded 21 human-written seed instructions\n"
     ]
    },
    {
     "name": "stderr",
     "output_type": "stream",
     "text": [
      "  0%|                                                                                                                         | 0/10 [00:00<?, ?it/s]"
     ]
    }
   ],
   "source": [
    "request_idx = 0\n",
    "seed_instruction_data = seed_instruction_data_loader(seed_tasks_path)\n",
    "machine_instruction_data = machine_instruction_data_loader()\n",
    "\n",
    "# use rouge-L for evaluate instruction\n",
    "scorer = rouge_scorer.RougeScorer([\"rougeL\"], use_stemmer=False)\n",
    "\n",
    "progress_bar = tqdm.tqdm(total=num_instructions_to_generate)\n",
    "if machine_instruction_data:\n",
    "    progress_bar.update(len(machine_instruction_data))\n",
    "    "
   ]
  },
  {
   "cell_type": "code",
   "execution_count": 6,
   "id": "82293354-20dd-41a0-a506-f25011123872",
   "metadata": {},
   "outputs": [],
   "source": [
    "all_instructions = [d[\"instruction\"] for d in seed_instruction_data] + [\n",
    "    d[\"instruction\"] for d in machine_instruction_data\n",
    "]\n",
    "all_instruction_tokens = [\n",
    "    scorer._tokenizer.tokenize(inst) for inst in all_instructions\n",
    "]"
   ]
  },
  {
   "cell_type": "code",
   "execution_count": 7,
   "id": "5632b4c5-9881-4945-b580-f6a1550133c6",
   "metadata": {},
   "outputs": [],
   "source": [
    "request_idx += 1\n",
    "\n",
    "batch_inputs = []\n",
    "for _ in range(request_batch_size):\n",
    "    # only sampling from the seed tasks\n",
    "    prompt_instructions = random.sample(\n",
    "        seed_instruction_data, num_prompt_instructions\n",
    "    )\n",
    "    prompt = encode_prompt(prompt_instructions)\n",
    "    batch_inputs.append(prompt)"
   ]
  },
  {
   "cell_type": "code",
   "execution_count": 9,
   "id": "c874a499-eb82-4b4d-a9d7-690d3449e734",
   "metadata": {},
   "outputs": [
    {
     "data": {
      "text/plain": [
       "5"
      ]
     },
     "execution_count": 9,
     "metadata": {},
     "output_type": "execute_result"
    }
   ],
   "source": [
    "len(batch_inputs)"
   ]
  },
  {
   "cell_type": "code",
   "execution_count": 8,
   "id": "5f93df6c-c71b-4493-8f6d-b491ab9bacff",
   "metadata": {},
   "outputs": [
    {
     "name": "stdout",
     "output_type": "stream",
     "text": [
      "You are asked to come up with a set of 20 diverse code generation task instructions. These task instructions will be given to a GPT model and we will evaluate the GPT model for completing the instructions.\n",
      "\n",
      "Here are the requirements:\n",
      "1. Try not to repeat the verb for each instruction to maximize diversity.\n",
      "2. The language used for the instruction also should be diverse. For example, you should combine questions with imperative instrucitons.\n",
      "3. The type of instructions should be diverse. The list should include diverse types of programming tasks like open-ended generation, classification, editing, optimization etc.\n",
      "2. A GPT language model should be able to complete the instruction. For example, do not ask the assistant to create any visual or audio output. For another example, do not ask the assistant to wake you up at 5pm or set a reminder because it cannot perform any action.\n",
      "3. The instructions should be in English.\n",
      "4. The instructions should at least 1 to 2 sentences long. Either an imperative sentence or a question is permitted.\n",
      "5. You should generate an appropriate input to the instruction. The input field should contain a specific example provided for the instruction. It should involve realistic data and should not contain simple placeholders. The input should provide substantial content to make the instruction challenging but should ideally not exceed 100 words.\n",
      "6. Not all instructions require input. For example, when a instruction asks about some general information, \"write a python program to load a file.\", it is not necssary to provide a specific context. In this case, we simply put \"<noinput>\" in the input field.\n",
      "7. The output should be an appropriate response to the instruction and the input.\n",
      "8. All tasks should be coding or programming related.\n",
      "9. Remember to use '###' between the instructions. \n",
      "\n",
      "List of 20 tasks:\n",
      "\n",
      "###\n",
      "1. Instruction: Write a Python function to reverse a given list of integers.\n",
      "1. Input:\n",
      "<noinput>\n",
      "1. Output:\n",
      "def reverse_list(numbers):\n",
      " return numbers[::-1]\n",
      "###\n",
      "2. Instruction: write a code to get the current value of a Bitcoin in US dollars using the bitcoincharts API.\n",
      "2. Input:\n",
      "<noinput>\n",
      "2. Output:\n",
      "\"\"\"\n",
      "Get the current value of a Bitcoin in US dollars using the bitcoincharts api\n",
      "\"\"\"\n",
      "\n",
      "import requests\n",
      "import json\n",
      "\n",
      "def get_bitcoin_price():\n",
      "    url = 'http://api.bitcoincharts.com/v1/weighted_prices.json'\n",
      "    response = requests.get(url)\n",
      "    data = json.loads(response.text)\n",
      "    return data['USD']['24h']\n",
      "    \n",
      "if __name__ == '__main__':\n",
      "    print(get_bitcoin_price())\n",
      "###\n",
      "3. Instruction: Write a simple C# program that prints \"Hello, World!\".\n",
      "3. Input:\n",
      "<noinput>\n",
      "3. Output:\n",
      "using System;\n",
      "\n",
      "namespace HelloWorld\n",
      "{\n",
      " class Program\n",
      " {\n",
      " static void Main(string[] args)\n",
      " {\n",
      " Console.WriteLine(\"Hello, World!\");\n",
      " }\n",
      " }\n",
      "}\n",
      "###\n",
      "4. Instruction:\n"
     ]
    }
   ],
   "source": [
    "print(batch_inputs[0])"
   ]
  },
  {
   "cell_type": "code",
   "execution_count": 10,
   "id": "4d12e4ec-ad31-4769-854e-786121d8039f",
   "metadata": {},
   "outputs": [
    {
     "name": "stdout",
     "output_type": "stream",
     "text": [
      "Calling gemini-1.5-flash...\n"
     ]
    },
    {
     "name": "stderr",
     "output_type": "stream",
     "text": [
      "\n",
      "\u001b[A\n",
      "\u001b[A\n",
      "\u001b[A\n",
      "\u001b[A\n",
      "\u001b[A\n",
      "prompt_batches: 100%|██████████████████████████████████████████████████████████████████████████████████████████████████| 5/5 [01:32<00:00, 18.53s/it]"
     ]
    },
    {
     "name": "stdout",
     "output_type": "stream",
     "text": [
      "request took - 92.63910031318665\n"
     ]
    },
    {
     "name": "stderr",
     "output_type": "stream",
     "text": [
      "\n"
     ]
    }
   ],
   "source": [
    "decoding_args = GeminiGenerationArguments(\n",
    "    temperature=temperature,\n",
    "    candidate_count=1,\n",
    "    max_output_tokens=3072,\n",
    "    top_p=top_p,\n",
    "    stop_sequences=[\"\\n20\", \"20.\", \"20.\"],\n",
    ")\n",
    "\n",
    "request_start = time.time()\n",
    "print(f\"Calling {model_name}...\")\n",
    "results = gemini_completion(\n",
    "    prompts=batch_inputs,\n",
    "    model_name=model_name,\n",
    "    batch_size=request_batch_size,\n",
    "    decoding_args=decoding_args,\n",
    ")\n",
    "\n",
    "request_duration = time.time() - request_start\n",
    "print(f\"request took - {request_duration}\")"
   ]
  },
  {
   "cell_type": "code",
   "execution_count": 11,
   "id": "ef0f9572-af90-4f5b-930d-ecd7d2709566",
   "metadata": {},
   "outputs": [
    {
     "data": {
      "text/plain": [
       "5"
      ]
     },
     "execution_count": 11,
     "metadata": {},
     "output_type": "execute_result"
    }
   ],
   "source": [
    "len(results)"
   ]
  },
  {
   "cell_type": "code",
   "execution_count": 13,
   "id": "066678de-26ab-4a64-bdfb-350b116b3834",
   "metadata": {},
   "outputs": [
    {
     "name": "stdout",
     "output_type": "stream",
     "text": [
      "###\n",
      "4. Instruction:  Develop a JavaScript function that determines whether a given string is a palindrome.  Consider case-insensitive comparisons and ignore spaces.\n",
      "4. Input: \"A man, a plan, a canal: Panama\"\n",
      "4. Output: \n",
      "```javascript\n",
      "function isPalindrome(str) {\n",
      "  str = str.toLowerCase().replace(/[^a-z0-9]/g, \"\");\n",
      "  return str === str.split(\"\").reverse().join(\"\");\n",
      "}\n",
      "\n",
      "console.log(isPalindrome(\"A man, a plan, a canal: Panama\")); // true\n",
      "```\n",
      "###\n",
      "5. Instruction:  Craft a short Python script to calculate the factorial of a non-negative integer.  Handle potential errors gracefully.\n",
      "5. Input: <noinput>\n",
      "5. Output:\n",
      "```python\n",
      "import math\n",
      "\n",
      "def factorial(n):\n",
      "  if not isinstance(n, int) or n < 0:\n",
      "    raise ValueError(\"Input must be a non-negative integer.\")\n",
      "  return math.factorial(n)\n",
      "\n",
      "try:\n",
      "  print(factorial(5))  # Output: 120\n",
      "  print(factorial(-1)) # Raises ValueError\n",
      "except ValueError as e:\n",
      "  print(f\"Error: {e}\")\n",
      "```\n",
      "###\n",
      "6. Instruction:  Could you provide a Java method that efficiently searches for a specific element within a sorted integer array using binary search?\n",
      "6. Input: <noinput>\n",
      "6. Output:\n",
      "```java\n",
      "class BinarySearch {\n",
      "    public static int binarySearch(int[] arr, int target) {\n",
      "        int low = 0;\n",
      "        int high = arr.length - 1;\n",
      "\n",
      "        while (low <= high) {\n",
      "            int mid = low + (high - low) / 2;\n",
      "            if (arr[mid] == target) {\n",
      "                return mid;\n",
      "            } else if (arr[mid] < target) {\n",
      "                low = mid + 1;\n",
      "            } else {\n",
      "                high = mid - 1;\n",
      "            }\n",
      "        }\n",
      "        return -1; // Target not found\n",
      "    }\n",
      "}\n",
      "```\n",
      "###\n",
      "7. Instruction:  Generate Ruby code that iterates through a hash and prints each key-value pair.\n",
      "7. Input:  `{\"name\" => \"Alice\", \"age\" => 30, \"city\" => \"New York\"}`\n",
      "7. Output:\n",
      "```ruby\n",
      "my_hash = {\"name\" => \"Alice\", \"age\" => 30, \"city\" => \"New York\"}\n",
      "\n",
      "my_hash.each do |key, value|\n",
      "  puts \"#{key}: #{value}\"\n",
      "end\n",
      "```\n",
      "###\n",
      "8. Instruction:  Amend this SQL query to include a `WHERE` clause that filters results for orders placed after January 1st, 2023.\n",
      "8. Input: `SELECT * FROM Orders;`\n",
      "8. Output: `SELECT * FROM Orders WHERE order_date > '2023-01-01';`\n",
      "###\n",
      "9. Instruction:  Compose a function in Go that converts Celsius to Fahrenheit.\n",
      "9. Input: <noinput>\n",
      "9. Output:\n",
      "```go\n",
      "package main\n",
      "\n",
      "import \"fmt\"\n",
      "\n",
      "func celsiusToFahrenheit(celsius float64) float64 {\n",
      "    return (celsius * 9.0/5.0) + 32.0\n",
      "}\n",
      "\n",
      "func main() {\n",
      "    fmt.Println(celsiusToFahrenheit(25)) // Output: 77\n",
      "}\n",
      "```\n",
      "###\n",
      "10. Instruction:  Design a PHP script that reads data from a CSV file and displays it in an HTML table.\n",
      "10. Input: <noinput>\n",
      "10. Output:  (Note: This requires a CSV file to be present; output shows the structure)\n",
      "```php\n",
      "<?php\n",
      "$csvFile = 'data.csv';\n",
      "$data = array_map('str_getcsv', file($csvFile));\n",
      "\n",
      "echo '<table>';\n",
      "echo '<thead><tr>';\n",
      "foreach ($data[0] as $header) {\n",
      "    echo \"<th>$header</th>\";\n",
      "}\n",
      "echo '</tr></thead>';\n",
      "\n",
      "echo '<tbody>';\n",
      "for ($i = 1; $i < count($data); $i++) {\n",
      "    echo '<tr>';\n",
      "    foreach ($data[$i] as $cell) {\n",
      "        echo \"<td>$cell</td>\";\n",
      "    }\n",
      "    echo '</tr>';\n",
      "}\n",
      "echo '</tbody>';\n",
      "echo '</table>';\n",
      "?>\n",
      "```\n",
      "###\n",
      "11. Instruction:  Build a Python class representing a simple bank account with methods for deposit and withdrawal.\n",
      "11. Input: <noinput>\n",
      "11. Output:\n",
      "```python\n",
      "class BankAccount:\n",
      "    def __init__(self, balance=0):\n",
      "        self.balance = balance\n",
      "\n",
      "    def deposit(self, amount):\n",
      "        if amount > 0:\n",
      "            self.balance += amount\n",
      "\n",
      "    def withdrawal(self, amount):\n",
      "        if 0 < amount <= self.balance:\n",
      "            self.balance -= amount\n",
      "        else:\n",
      "            print(\"Insufficient funds\")\n",
      "\n",
      "    def get_balance(self):\n",
      "        return self.balance\n",
      "```\n",
      "###\n",
      "12. Instruction:  Refactor this C++ code to improve its readability and efficiency.\n",
      "12. Input: `int x = 10; int y = 20; int sum = x + y; cout << sum;`\n",
      "12. Output: `int sum(int x, int y) { return x + y; } int main() { cout << sum(10, 20); return 0; }`\n",
      "###\n",
      "13. Instruction:  Optimize this Python code snippet for faster execution.\n",
      "13. Input:  ```python\n",
      "list_of_numbers = list(range(1000000))\n",
      "sum_of_numbers = sum([x*x for x in list_of_numbers])\n",
      "```\n",
      "13. Output:  ```python\n",
      "import numpy as np\n",
      "list_of_numbers = np.arange(1000000)\n",
      "sum_of_numbers = np.sum(list_of_numbers * list_of_numbers)\n",
      "```\n",
      "###\n",
      "14. Instruction:  Show me how to implement a simple queue data structure using Python lists.\n",
      "14. Input: <noinput>\n",
      "14. Output:\n",
      "```python\n",
      "class Queue:\n",
      "    def __init__(self):\n",
      "        self.items = []\n",
      "\n",
      "    def enqueue(self, item):\n",
      "        self.items.append(item)\n",
      "\n",
      "    def dequeue(self):\n",
      "        if not self.is_empty():\n",
      "            return self.items.pop(0)\n",
      "        else:\n",
      "            return None\n",
      "\n",
      "    def is_empty(self):\n",
      "        return len(self.items) == 0\n",
      "\n",
      "    def size(self):\n",
      "        return len(self.items)\n",
      "\n",
      "```\n",
      "###\n",
      "15. Instruction:  Write a PowerShell script to list all files in a specific directory.\n",
      "15. Input:  `C:\\Users\\Documents` (Replace with actual path)\n",
      "15. Output:\n",
      "```powershell\n",
      "Get-ChildItem -Path \"C:\\Users\\Documents\"\n",
      "```\n",
      "###\n",
      "16. Instruction:  Can you create a Swift function that calculates the average of an array of Doubles?  Ensure it handles an empty array gracefully.\n",
      "16. Input: <noinput>\n",
      "16. Output:\n",
      "```swift\n",
      "func calculateAverage(numbers: [Double]) -> Double {\n",
      "    guard !numbers.isEmpty else { return 0 }\n",
      "    return numbers.reduce(0, +) / Double(numbers.count)\n",
      "}\n",
      "```\n",
      "###\n",
      "17. Instruction:  Construct a Kotlin function that checks if a given string is a valid email address using a regular expression.\n",
      "17. Input: <noinput>\n",
      "17. Output:  (Note:  Regular expressions for email validation are complex and can be debated; this is a simplified example)\n",
      "```kotlin\n",
      "fun isValidEmail(email: String): Boolean {\n",
      "    val regex = Regex(\"[a-zA-Z0-9._%+-]+@[a-zA-Z0-9.-]+\\\\.[a-zA-Z]{2,}\")\n",
      "    return regex.matches(email)\n",
      "}\n",
      "```\n",
      "###\n",
      "18. Instruction:  Produce a Perl script that extracts all URLs from a given text string.\n",
      "18. Input: \"Check out this website: https://www.example.com and this one too: http://anothersite.net\"\n",
      "18. Output:\n",
      "```perl\n",
      "use strict;\n",
      "use warnings;\n",
      "\n",
      "my $text = \"Check out this website: https://www.example.com and this one too: http://anothersite.net\";\n",
      "my @urls = $text =~ /(https?:\\/\\/\\S+)/g;\n",
      "\n",
      "foreach my $url (@urls) {\n",
      "    print \"$url\\n\";\n",
      "}\n",
      "```\n",
      "###\n",
      "19. Instruction:  How can I create a simple R function that computes the mean and standard deviation of a numeric vector?\n",
      "19. Input: <noinput>\n",
      "19. Output:\n",
      "```R\n",
      "my_stats <- function(x) {\n",
      "  if (!is.numeric(x)) stop(\"Input must be a numeric vector\")\n",
      "  list(mean = mean(x), sd = sd(x))\n",
      "}\n",
      "```\n",
      "###\n"
     ]
    }
   ],
   "source": [
    "print(results[0]['text'])"
   ]
  },
  {
   "cell_type": "code",
   "execution_count": null,
   "id": "695c871c-b27a-44a4-afae-a0d0e9764797",
   "metadata": {},
   "outputs": [],
   "source": [
    "process_start = time.time()\n",
    "instruction_data = []"
   ]
  },
  {
   "cell_type": "code",
   "execution_count": 15,
   "id": "28574931-c210-40a9-9a99-5a626f231579",
   "metadata": {},
   "outputs": [
    {
     "name": "stdout",
     "output_type": "stream",
     "text": [
      "###\n",
      "4. Instruction: Craft a Python function that calculates the factorial of a given non-negative integer.  The function should handle edge cases gracefully, such as inputting zero or a negative number.\n",
      "4. Input:\n",
      "<noinput>\n",
      "4. Output:\n",
      "```python\n",
      "def factorial(n):\n",
      "  \"\"\"Calculates the factorial of a non-negative integer.\"\"\"\n",
      "  if n < 0:\n",
      "    return \"Factorial is not defined for negative numbers.\"\n",
      "  elif n == 0:\n",
      "    return 1\n",
      "  else:\n",
      "    result = 1\n",
      "    for i in range(1, n + 1):\n",
      "      result *= i\n",
      "    return result\n",
      "\n",
      "```\n",
      "###\n",
      "5. Instruction:  Develop a Java method that reverses a given string.\n",
      "5. Input:\n",
      "<noinput>\n",
      "5. Output:\n",
      "```java\n",
      "public class StringReverser {\n",
      "    public static String reverseString(String str) {\n",
      "        return new StringBuilder(str).reverse().toString();\n",
      "    }\n",
      "}\n",
      "```\n",
      "###\n",
      "6. Instruction:  Could you devise a SQL query to retrieve all customers from a database table named 'Customers' who live in 'California'?\n",
      "6. Input:\n",
      "<noinput>\n",
      "6. Output:\n",
      "```sql\n",
      "SELECT * FROM Customers WHERE State = 'California';\n",
      "```\n",
      "###\n",
      "7. Instruction:  Refactor the following Python code to improve its readability and efficiency.\n",
      "7. Input:\n",
      "```python\n",
      "x = [1,2,3,4,5]\n",
      "y = []\n",
      "for i in x:\n",
      "    y.append(i*2)\n",
      "print (y)\n",
      "```\n",
      "7. Output:\n",
      "```python\n",
      "x = [1, 2, 3, 4, 5]\n",
      "y = [i * 2 for i in x]  # List comprehension for conciseness and efficiency\n",
      "print(y)\n",
      "```\n",
      "###\n",
      "8. Instruction:  Generate a Ruby script that checks if a given number is prime.\n",
      "8. Input:\n",
      "<noinput>\n",
      "8. Output:\n",
      "```ruby\n",
      "def is_prime?(num)\n",
      "  return false if num <= 1\n",
      "  (2...num).none? { |i| num % i == 0 }\n",
      "end\n",
      "\n",
      "puts is_prime?(17) # true\n",
      "puts is_prime?(15) # false\n",
      "\n",
      "```\n",
      "###\n",
      "9. Instruction:  Construct a PHP function that validates an email address using a regular expression.\n",
      "9. Input:\n",
      "<noinput>\n",
      "9. Output:\n",
      "```php\n",
      "<?php\n",
      "function isValidEmail($email) {\n",
      "  return preg_match(\"/^[^\\s@]+@[^\\s@]+\\.[^\\s@]+$/\", $email) == 1;\n",
      "}\n",
      "\n",
      "echo isValidEmail(\"test@example.com\"); // true\n",
      "echo isValidEmail(\"invalid email\"); // false\n",
      "?>\n",
      "```\n",
      "###\n",
      "10. Instruction:  Show me how to implement a simple stack data structure in C#.\n",
      "10. Input:\n",
      "<noinput>\n",
      "10. Output:\n",
      "```csharp\n",
      "using System;\n",
      "using System.Collections.Generic;\n",
      "\n",
      "public class StackExample\n",
      "{\n",
      "    public static void Main(string[] args)\n",
      "    {\n",
      "        Stack<int> stack = new Stack<int>();\n",
      "        stack.Push(1);\n",
      "        stack.Push(2);\n",
      "        stack.Push(3);\n",
      "\n",
      "        Console.WriteLine(stack.Pop()); // Output: 3\n",
      "        Console.WriteLine(stack.Peek()); // Output: 2\n",
      "\n",
      "    }\n",
      "}\n",
      "```\n",
      "\n",
      "###\n",
      "11. Instruction:  Optimize the following JavaScript code for better performance.  The code currently takes too long to process large datasets.\n",
      "11. Input:\n",
      "```javascript\n",
      "function slowFunction(data) {\n",
      "  let result = [];\n",
      "  for (let i = 0; i < data.length; i++) {\n",
      "    for (let j = 0; j < data.length; j++) {\n",
      "      if (data[i] + data[j] === 10) {\n",
      "        result.push([data[i], data[j]]);\n",
      "      }\n",
      "    }\n",
      "  }\n",
      "  return result;\n",
      "}\n",
      "let data = [1,2,3,4,5,6,7,8,9,10,11,12,13,14,15];\n",
      "console.log(slowFunction(data));\n",
      "```\n",
      "11. Output:\n",
      "```javascript\n",
      "function fasterFunction(data) {\n",
      "  const numSet = new Set(data);\n",
      "  const result = [];\n",
      "  for (const num of data) {\n",
      "    if (numSet.has(10 - num)) {\n",
      "      result.push([num, 10 - num]);\n",
      "    }\n",
      "  }\n",
      "  return result;\n",
      "}\n",
      "let data = [1,2,3,4,5,6,7,8,9,10,11,12,13,14,15];\n",
      "console.log(fasterFunction(data));\n",
      "```\n",
      "\n",
      "###\n",
      "12. Instruction:  Write a Go function that converts a string to uppercase.\n",
      "12. Input: <noinput>\n",
      "12. Output:\n",
      "```go\n",
      "package main\n",
      "\n",
      "import (\n",
      "\t\"fmt\"\n",
      "\t\"strings\"\n",
      ")\n",
      "\n",
      "func toUpper(s string) string {\n",
      "\treturn strings.ToUpper(s)\n",
      "}\n",
      "\n",
      "func main() {\n",
      "\tfmt.Println(toUpper(\"hello world\"))\n",
      "}\n",
      "\n",
      "```\n",
      "\n",
      "###\n",
      "13. Instruction:  Compose a PowerShell script that lists all files in a specified directory.\n",
      "13. Input: <noinput>\n",
      "13. Output:\n",
      "```powershell\n",
      "Get-ChildItem -Path C:\\Users  # Replace C:\\Users with your desired path\n",
      "```\n",
      "\n",
      "###\n",
      "14. Instruction:  Explain the difference between `==` and `===` in JavaScript.\n",
      "13. Input: <noinput>\n",
      "13. Output:\n",
      "In JavaScript, `==` performs loose equality comparison, while `===` performs strict equality comparison. Loose equality allows type coercion (e.g., comparing a number to a string), while strict equality does not.  `===` checks for both value and type equality.\n",
      "\n",
      "\n",
      "###\n",
      "15. Instruction:  Illustrate how to handle exceptions in Python using `try...except` blocks.\n",
      "15. Input: <noinput>\n",
      "15. Output:\n",
      "```python\n",
      "try:\n",
      "    result = 10 / 0\n",
      "except ZeroDivisionError:\n",
      "    print(\"Error: Division by zero\")\n",
      "except Exception as e:\n",
      "    print(f\"An error occurred: {e}\")\n",
      "```\n",
      "\n",
      "###\n",
      "16. Instruction:  Build a Kotlin program that sorts an array of integers in ascending order.\n",
      "15. Input: <noinput>\n",
      "15. Output:\n",
      "```kotlin\n",
      "fun main() {\n",
      "    val numbers = arrayOf(5, 2, 8, 1, 9, 4)\n",
      "    numbers.sort()\n",
      "    println(numbers.joinToString()) // Output: 1, 2, 4, 5, 8, 9\n",
      "}\n",
      "```\n",
      "\n",
      "###\n",
      "17. Instruction:  Describe the purpose of a linked list data structure.\n",
      "15. Input: <noinput>\n",
      "15. Output:\n",
      "A linked list is a linear data structure where elements are stored in nodes, and each node points to the next node in the sequence.  Unlike arrays, linked lists don't require contiguous memory allocation, making them efficient for dynamic data insertion and deletion.\n",
      "\n",
      "\n",
      "###\n",
      "18. Instruction:  Write a Swift function that finds the maximum value in an array of integers.\n",
      "15. Input: <noinput>\n",
      "15. Output:\n",
      "```swift\n",
      "func findMaxValue(array: [Int]) -> Int? {\n",
      "    guard !array.isEmpty else { return nil }\n",
      "    return array.max()\n",
      "}\n",
      "```\n",
      "\n",
      "###\n",
      "19. Instruction:  Create a R script that calculates the mean of a vector of numbers.\n",
      "15. Input: <noinput>\n",
      "15. Output:\n",
      "```R\n",
      "numbers <- c(10, 20, 30, 40, 50)\n",
      "mean(numbers)\n",
      "```\n",
      "\n",
      "\n",
      "###\n"
     ]
    }
   ],
   "source": [
    "print(results[1]['text'])"
   ]
  },
  {
   "cell_type": "code",
   "execution_count": 26,
   "id": "0ad5623a-d9f4-4fed-ad59-c6af1965227c",
   "metadata": {},
   "outputs": [],
   "source": [
    "# try to post process\n",
    "import re\n",
    "\n",
    "num_prompt_instructions=3\n",
    "response = results[0]"
   ]
  },
  {
   "cell_type": "code",
   "execution_count": 42,
   "id": "4a61af17-3d67-4be1-8247-de7b6f206a9c",
   "metadata": {},
   "outputs": [
    {
     "data": {
      "text/plain": [
       "['4. Instruction:',\n",
       " '\\n4. Instruction:  Develop a JavaScript function that determines whether a given string is a palindrome.  Consider case-insensitive comparisons and ignore spaces.\\n4. Input: \"A man, a plan, a canal: Panama\"\\n4. Output: \\n```javascript\\nfunction isPalindrome(str) {\\n  str = str.toLowerCase().replace(/[^a-z0-9]/g, \"\");\\n  return str === str.split(\"\").reverse().join(\"\");\\n}\\n\\nconsole.log(isPalindrome(\"A man, a plan, a canal: Panama\")); // true\\n```\\n',\n",
       " '\\n5. Instruction:  Craft a short Python script to calculate the factorial of a non-negative integer.  Handle potential errors gracefully.\\n5. Input: <noinput>\\n5. Output:\\n```python\\nimport math\\n\\ndef factorial(n):\\n  if not isinstance(n, int) or n < 0:\\n    raise ValueError(\"Input must be a non-negative integer.\")\\n  return math.factorial(n)\\n\\ntry:\\n  print(factorial(5))  # Output: 120\\n  print(factorial(-1)) # Raises ValueError\\nexcept ValueError as e:\\n  print(f\"Error: {e}\")\\n```\\n',\n",
       " '\\n6. Instruction:  Could you provide a Java method that efficiently searches for a specific element within a sorted integer array using binary search?\\n6. Input: <noinput>\\n6. Output:\\n```java\\nclass BinarySearch {\\n    public static int binarySearch(int[] arr, int target) {\\n        int low = 0;\\n        int high = arr.length - 1;\\n\\n        while (low <= high) {\\n            int mid = low + (high - low) / 2;\\n            if (arr[mid] == target) {\\n                return mid;\\n            } else if (arr[mid] < target) {\\n                low = mid + 1;\\n            } else {\\n                high = mid - 1;\\n            }\\n        }\\n        return -1; // Target not found\\n    }\\n}\\n```\\n',\n",
       " '\\n7. Instruction:  Generate Ruby code that iterates through a hash and prints each key-value pair.\\n7. Input:  `{\"name\" => \"Alice\", \"age\" => 30, \"city\" => \"New York\"}`\\n7. Output:\\n```ruby\\nmy_hash = {\"name\" => \"Alice\", \"age\" => 30, \"city\" => \"New York\"}\\n\\nmy_hash.each do |key, value|\\n  puts \"#{key}: #{value}\"\\nend\\n```\\n',\n",
       " \"\\n8. Instruction:  Amend this SQL query to include a `WHERE` clause that filters results for orders placed after January 1st, 2023.\\n8. Input: `SELECT * FROM Orders;`\\n8. Output: `SELECT * FROM Orders WHERE order_date > '2023-01-01';`\\n\",\n",
       " '\\n9. Instruction:  Compose a function in Go that converts Celsius to Fahrenheit.\\n9. Input: <noinput>\\n9. Output:\\n```go\\npackage main\\n\\nimport \"fmt\"\\n\\nfunc celsiusToFahrenheit(celsius float64) float64 {\\n    return (celsius * 9.0/5.0) + 32.0\\n}\\n\\nfunc main() {\\n    fmt.Println(celsiusToFahrenheit(25)) // Output: 77\\n}\\n```\\n',\n",
       " '\\n10. Instruction:  Design a PHP script that reads data from a CSV file and displays it in an HTML table.\\n10. Input: <noinput>\\n10. Output:  (Note: This requires a CSV file to be present; output shows the structure)\\n```php\\n<?php\\n$csvFile = \\'data.csv\\';\\n$data = array_map(\\'str_getcsv\\', file($csvFile));\\n\\necho \\'<table>\\';\\necho \\'<thead><tr>\\';\\nforeach ($data[0] as $header) {\\n    echo \"<th>$header</th>\";\\n}\\necho \\'</tr></thead>\\';\\n\\necho \\'<tbody>\\';\\nfor ($i = 1; $i < count($data); $i++) {\\n    echo \\'<tr>\\';\\n    foreach ($data[$i] as $cell) {\\n        echo \"<td>$cell</td>\";\\n    }\\n    echo \\'</tr>\\';\\n}\\necho \\'</tbody>\\';\\necho \\'</table>\\';\\n?>\\n```\\n',\n",
       " '\\n11. Instruction:  Build a Python class representing a simple bank account with methods for deposit and withdrawal.\\n11. Input: <noinput>\\n11. Output:\\n```python\\nclass BankAccount:\\n    def __init__(self, balance=0):\\n        self.balance = balance\\n\\n    def deposit(self, amount):\\n        if amount > 0:\\n            self.balance += amount\\n\\n    def withdrawal(self, amount):\\n        if 0 < amount <= self.balance:\\n            self.balance -= amount\\n        else:\\n            print(\"Insufficient funds\")\\n\\n    def get_balance(self):\\n        return self.balance\\n```\\n',\n",
       " '\\n12. Instruction:  Refactor this C++ code to improve its readability and efficiency.\\n12. Input: `int x = 10; int y = 20; int sum = x + y; cout << sum;`\\n12. Output: `int sum(int x, int y) { return x + y; } int main() { cout << sum(10, 20); return 0; }`\\n',\n",
       " '\\n13. Instruction:  Optimize this Python code snippet for faster execution.\\n13. Input:  ```python\\nlist_of_numbers = list(range(1000000))\\nsum_of_numbers = sum([x*x for x in list_of_numbers])\\n```\\n13. Output:  ```python\\nimport numpy as np\\nlist_of_numbers = np.arange(1000000)\\nsum_of_numbers = np.sum(list_of_numbers * list_of_numbers)\\n```\\n',\n",
       " '\\n14. Instruction:  Show me how to implement a simple queue data structure using Python lists.\\n14. Input: <noinput>\\n14. Output:\\n```python\\nclass Queue:\\n    def __init__(self):\\n        self.items = []\\n\\n    def enqueue(self, item):\\n        self.items.append(item)\\n\\n    def dequeue(self):\\n        if not self.is_empty():\\n            return self.items.pop(0)\\n        else:\\n            return None\\n\\n    def is_empty(self):\\n        return len(self.items) == 0\\n\\n    def size(self):\\n        return len(self.items)\\n\\n```\\n',\n",
       " '\\n15. Instruction:  Write a PowerShell script to list all files in a specific directory.\\n15. Input:  `C:\\\\Users\\\\Documents` (Replace with actual path)\\n15. Output:\\n```powershell\\nGet-ChildItem -Path \"C:\\\\Users\\\\Documents\"\\n```\\n',\n",
       " '\\n16. Instruction:  Can you create a Swift function that calculates the average of an array of Doubles?  Ensure it handles an empty array gracefully.\\n16. Input: <noinput>\\n16. Output:\\n```swift\\nfunc calculateAverage(numbers: [Double]) -> Double {\\n    guard !numbers.isEmpty else { return 0 }\\n    return numbers.reduce(0, +) / Double(numbers.count)\\n}\\n```\\n',\n",
       " '\\n17. Instruction:  Construct a Kotlin function that checks if a given string is a valid email address using a regular expression.\\n17. Input: <noinput>\\n17. Output:  (Note:  Regular expressions for email validation are complex and can be debated; this is a simplified example)\\n```kotlin\\nfun isValidEmail(email: String): Boolean {\\n    val regex = Regex(\"[a-zA-Z0-9._%+-]+@[a-zA-Z0-9.-]+\\\\\\\\.[a-zA-Z]{2,}\")\\n    return regex.matches(email)\\n}\\n```\\n',\n",
       " '\\n18. Instruction:  Produce a Perl script that extracts all URLs from a given text string.\\n18. Input: \"Check out this website: https://www.example.com and this one too: http://anothersite.net\"\\n18. Output:\\n```perl\\nuse strict;\\nuse warnings;\\n\\nmy $text = \"Check out this website: https://www.example.com and this one too: http://anothersite.net\";\\nmy @urls = $text =~ /(https?:\\\\/\\\\/\\\\S+)/g;\\n\\nforeach my $url (@urls) {\\n    print \"$url\\\\n\";\\n}\\n```\\n',\n",
       " '\\n19. Instruction:  How can I create a simple R function that computes the mean and standard deviation of a numeric vector?\\n19. Input: <noinput>\\n19. Output:\\n```R\\nmy_stats <- function(x) {\\n  if (!is.numeric(x)) stop(\"Input must be a numeric vector\")\\n  list(mean = mean(x), sd = sd(x))\\n}\\n```\\n',\n",
       " '']"
      ]
     },
     "execution_count": 42,
     "metadata": {},
     "output_type": "execute_result"
    }
   ],
   "source": [
    "raw_instructions = f\"{num_prompt_instructions+1}. Instruction:\" + response[\"text\"]\n",
    "raw_instructions = re.split(\"###\", raw_instructions)\n",
    "\n",
    "raw_instructions"
   ]
  },
  {
   "cell_type": "code",
   "execution_count": 43,
   "id": "db82637c-bfb3-4f86-addd-2a2132c9dd71",
   "metadata": {},
   "outputs": [
    {
     "data": {
      "text/plain": [
       "'\\n4. Instruction:  Develop a JavaScript function that determines whether a given string is a palindrome.  Consider case-insensitive comparisons and ignore spaces.\\n4. Input: \"A man, a plan, a canal: Panama\"\\n4. Output: \\n```javascript\\nfunction isPalindrome(str) {\\n  str = str.toLowerCase().replace(/[^a-z0-9]/g, \"\");\\n  return str === str.split(\"\").reverse().join(\"\");\\n}\\n\\nconsole.log(isPalindrome(\"A man, a plan, a canal: Panama\")); // true\\n```\\n'"
      ]
     },
     "execution_count": 43,
     "metadata": {},
     "output_type": "execute_result"
    }
   ],
   "source": [
    "raw_instructions[1]"
   ]
  },
  {
   "cell_type": "code",
   "execution_count": 44,
   "id": "ce6d0463-67fc-4fea-8a95-bf26f7c43690",
   "metadata": {},
   "outputs": [],
   "source": [
    "# remember to delete first element and last element\n",
    "raw_instructions = raw_instructions[1:-1]"
   ]
  },
  {
   "cell_type": "code",
   "execution_count": 47,
   "id": "4a716ccf-2ff3-4bc2-ae14-bb2ff0b95dcb",
   "metadata": {},
   "outputs": [
    {
     "data": {
      "text/plain": [
       "16"
      ]
     },
     "execution_count": 47,
     "metadata": {},
     "output_type": "execute_result"
    }
   ],
   "source": [
    "len(raw_instructions)"
   ]
  },
  {
   "cell_type": "code",
   "execution_count": 48,
   "id": "571e64ba-8493-4778-94ee-3c757cf31ef9",
   "metadata": {},
   "outputs": [],
   "source": [
    "idx = 0\n",
    "inst = raw_instructions[0]"
   ]
  },
  {
   "cell_type": "code",
   "execution_count": 50,
   "id": "44f66f22-d4c5-4232-a5c7-45b2c5b651e4",
   "metadata": {},
   "outputs": [],
   "source": [
    "idx += num_prompt_instructions + 1 \n",
    "splitted_data = re.split(f\"{idx}\\.\\s+(Instruction|Input|Output):\", inst)"
   ]
  },
  {
   "cell_type": "code",
   "execution_count": 51,
   "id": "4fa1def8-0872-4903-9ee9-09ba88362033",
   "metadata": {},
   "outputs": [
    {
     "data": {
      "text/plain": [
       "['\\n',\n",
       " 'Instruction',\n",
       " '  Develop a JavaScript function that determines whether a given string is a palindrome.  Consider case-insensitive comparisons and ignore spaces.\\n',\n",
       " 'Input',\n",
       " ' \"A man, a plan, a canal: Panama\"\\n',\n",
       " 'Output',\n",
       " ' \\n```javascript\\nfunction isPalindrome(str) {\\n  str = str.toLowerCase().replace(/[^a-z0-9]/g, \"\");\\n  return str === str.split(\"\").reverse().join(\"\");\\n}\\n\\nconsole.log(isPalindrome(\"A man, a plan, a canal: Panama\")); // true\\n```\\n']"
      ]
     },
     "execution_count": 51,
     "metadata": {},
     "output_type": "execute_result"
    }
   ],
   "source": [
    "splitted_data"
   ]
  },
  {
   "cell_type": "code",
   "execution_count": 53,
   "id": "89383ef4-53a7-45ec-81a9-4ab75f257588",
   "metadata": {},
   "outputs": [],
   "source": [
    "inst = splitted_data[2].strip()\n",
    "input = splitted_data[4].strip()\n",
    "input = \"\" if input.lower() == \"<noinput>\" else input\n",
    "output = splitted_data[6].strip()"
   ]
  },
  {
   "cell_type": "code",
   "execution_count": 55,
   "id": "1c67274a-a103-4e7c-99d7-fc0909007f27",
   "metadata": {},
   "outputs": [
    {
     "data": {
      "text/plain": [
       "('Develop a JavaScript function that determines whether a given string is a palindrome.  Consider case-insensitive comparisons and ignore spaces.',\n",
       " '\"A man, a plan, a canal: Panama\"',\n",
       " '```javascript\\nfunction isPalindrome(str) {\\n  str = str.toLowerCase().replace(/[^a-z0-9]/g, \"\");\\n  return str === str.split(\"\").reverse().join(\"\");\\n}\\n\\nconsole.log(isPalindrome(\"A man, a plan, a canal: Panama\")); // true\\n```')"
      ]
     },
     "execution_count": 55,
     "metadata": {},
     "output_type": "execute_result"
    }
   ],
   "source": [
    "inst, input, output"
   ]
  },
  {
   "cell_type": "code",
   "execution_count": null,
   "id": "fd9b9643-cad6-4bd2-97c7-7a0500294e8e",
   "metadata": {},
   "outputs": [],
   "source": []
  },
  {
   "cell_type": "code",
   "execution_count": null,
   "id": "293f935e-e5ae-4d12-8f51-0d68ebd4e895",
   "metadata": {},
   "outputs": [],
   "source": []
  },
  {
   "cell_type": "code",
   "execution_count": 2,
   "id": "7d56ba3a-5f7a-433f-a9c9-79263d8bb643",
   "metadata": {},
   "outputs": [
    {
     "ename": "JSONDecodeError",
     "evalue": "Expecting value: line 2 column 1 (char 2)",
     "output_type": "error",
     "traceback": [
      "\u001b[0;31m---------------------------------------------------------------------------\u001b[0m",
      "\u001b[0;31mJSONDecodeError\u001b[0m                           Traceback (most recent call last)",
      "Cell \u001b[0;32mIn[2], line 5\u001b[0m\n\u001b[1;32m      1\u001b[0m \u001b[38;5;28;01mimport\u001b[39;00m \u001b[38;5;21;01mjson\u001b[39;00m\n\u001b[1;32m      3\u001b[0m seed_tasks_path\u001b[38;5;241m=\u001b[39m\u001b[38;5;124m\"\u001b[39m\u001b[38;5;124m./prompts/seed_tasks.json\u001b[39m\u001b[38;5;124m\"\u001b[39m\n\u001b[0;32m----> 5\u001b[0m seed_tasks \u001b[38;5;241m=\u001b[39m \u001b[43m[\u001b[49m\u001b[43mjson\u001b[49m\u001b[38;5;241;43m.\u001b[39;49m\u001b[43mloads\u001b[49m\u001b[43m(\u001b[49m\u001b[43mseed\u001b[49m\u001b[43m)\u001b[49m\u001b[43m \u001b[49m\u001b[38;5;28;43;01mfor\u001b[39;49;00m\u001b[43m \u001b[49m\u001b[43mseed\u001b[49m\u001b[43m \u001b[49m\u001b[38;5;129;43;01min\u001b[39;49;00m\u001b[43m \u001b[49m\u001b[38;5;28;43mopen\u001b[39;49m\u001b[43m(\u001b[49m\u001b[43mseed_tasks_path\u001b[49m\u001b[43m,\u001b[49m\u001b[43m \u001b[49m\u001b[38;5;124;43m\"\u001b[39;49m\u001b[38;5;124;43mr\u001b[39;49m\u001b[38;5;124;43m\"\u001b[39;49m\u001b[43m)\u001b[49m\u001b[43m]\u001b[49m\n",
      "Cell \u001b[0;32mIn[2], line 5\u001b[0m, in \u001b[0;36m<listcomp>\u001b[0;34m(.0)\u001b[0m\n\u001b[1;32m      1\u001b[0m \u001b[38;5;28;01mimport\u001b[39;00m \u001b[38;5;21;01mjson\u001b[39;00m\n\u001b[1;32m      3\u001b[0m seed_tasks_path\u001b[38;5;241m=\u001b[39m\u001b[38;5;124m\"\u001b[39m\u001b[38;5;124m./prompts/seed_tasks.json\u001b[39m\u001b[38;5;124m\"\u001b[39m\n\u001b[0;32m----> 5\u001b[0m seed_tasks \u001b[38;5;241m=\u001b[39m [\u001b[43mjson\u001b[49m\u001b[38;5;241;43m.\u001b[39;49m\u001b[43mloads\u001b[49m\u001b[43m(\u001b[49m\u001b[43mseed\u001b[49m\u001b[43m)\u001b[49m \u001b[38;5;28;01mfor\u001b[39;00m seed \u001b[38;5;129;01min\u001b[39;00m \u001b[38;5;28mopen\u001b[39m(seed_tasks_path, \u001b[38;5;124m\"\u001b[39m\u001b[38;5;124mr\u001b[39m\u001b[38;5;124m\"\u001b[39m)]\n",
      "File \u001b[0;32m/nix/store/rk47f5qqgrmlabbqy0cxfv7jhb084rb1-python3-3.11.8-env/lib/python3.11/json/__init__.py:346\u001b[0m, in \u001b[0;36mloads\u001b[0;34m(s, cls, object_hook, parse_float, parse_int, parse_constant, object_pairs_hook, **kw)\u001b[0m\n\u001b[1;32m    341\u001b[0m     s \u001b[38;5;241m=\u001b[39m s\u001b[38;5;241m.\u001b[39mdecode(detect_encoding(s), \u001b[38;5;124m'\u001b[39m\u001b[38;5;124msurrogatepass\u001b[39m\u001b[38;5;124m'\u001b[39m)\n\u001b[1;32m    343\u001b[0m \u001b[38;5;28;01mif\u001b[39;00m (\u001b[38;5;28mcls\u001b[39m \u001b[38;5;129;01mis\u001b[39;00m \u001b[38;5;28;01mNone\u001b[39;00m \u001b[38;5;129;01mand\u001b[39;00m object_hook \u001b[38;5;129;01mis\u001b[39;00m \u001b[38;5;28;01mNone\u001b[39;00m \u001b[38;5;129;01mand\u001b[39;00m\n\u001b[1;32m    344\u001b[0m         parse_int \u001b[38;5;129;01mis\u001b[39;00m \u001b[38;5;28;01mNone\u001b[39;00m \u001b[38;5;129;01mand\u001b[39;00m parse_float \u001b[38;5;129;01mis\u001b[39;00m \u001b[38;5;28;01mNone\u001b[39;00m \u001b[38;5;129;01mand\u001b[39;00m\n\u001b[1;32m    345\u001b[0m         parse_constant \u001b[38;5;129;01mis\u001b[39;00m \u001b[38;5;28;01mNone\u001b[39;00m \u001b[38;5;129;01mand\u001b[39;00m object_pairs_hook \u001b[38;5;129;01mis\u001b[39;00m \u001b[38;5;28;01mNone\u001b[39;00m \u001b[38;5;129;01mand\u001b[39;00m \u001b[38;5;129;01mnot\u001b[39;00m kw):\n\u001b[0;32m--> 346\u001b[0m     \u001b[38;5;28;01mreturn\u001b[39;00m \u001b[43m_default_decoder\u001b[49m\u001b[38;5;241;43m.\u001b[39;49m\u001b[43mdecode\u001b[49m\u001b[43m(\u001b[49m\u001b[43ms\u001b[49m\u001b[43m)\u001b[49m\n\u001b[1;32m    347\u001b[0m \u001b[38;5;28;01mif\u001b[39;00m \u001b[38;5;28mcls\u001b[39m \u001b[38;5;129;01mis\u001b[39;00m \u001b[38;5;28;01mNone\u001b[39;00m:\n\u001b[1;32m    348\u001b[0m     \u001b[38;5;28mcls\u001b[39m \u001b[38;5;241m=\u001b[39m JSONDecoder\n",
      "File \u001b[0;32m/nix/store/rk47f5qqgrmlabbqy0cxfv7jhb084rb1-python3-3.11.8-env/lib/python3.11/json/decoder.py:337\u001b[0m, in \u001b[0;36mJSONDecoder.decode\u001b[0;34m(self, s, _w)\u001b[0m\n\u001b[1;32m    332\u001b[0m \u001b[38;5;28;01mdef\u001b[39;00m \u001b[38;5;21mdecode\u001b[39m(\u001b[38;5;28mself\u001b[39m, s, _w\u001b[38;5;241m=\u001b[39mWHITESPACE\u001b[38;5;241m.\u001b[39mmatch):\n\u001b[1;32m    333\u001b[0m \u001b[38;5;250m    \u001b[39m\u001b[38;5;124;03m\"\"\"Return the Python representation of ``s`` (a ``str`` instance\u001b[39;00m\n\u001b[1;32m    334\u001b[0m \u001b[38;5;124;03m    containing a JSON document).\u001b[39;00m\n\u001b[1;32m    335\u001b[0m \n\u001b[1;32m    336\u001b[0m \u001b[38;5;124;03m    \"\"\"\u001b[39;00m\n\u001b[0;32m--> 337\u001b[0m     obj, end \u001b[38;5;241m=\u001b[39m \u001b[38;5;28;43mself\u001b[39;49m\u001b[38;5;241;43m.\u001b[39;49m\u001b[43mraw_decode\u001b[49m\u001b[43m(\u001b[49m\u001b[43ms\u001b[49m\u001b[43m,\u001b[49m\u001b[43m \u001b[49m\u001b[43midx\u001b[49m\u001b[38;5;241;43m=\u001b[39;49m\u001b[43m_w\u001b[49m\u001b[43m(\u001b[49m\u001b[43ms\u001b[49m\u001b[43m,\u001b[49m\u001b[43m \u001b[49m\u001b[38;5;241;43m0\u001b[39;49m\u001b[43m)\u001b[49m\u001b[38;5;241;43m.\u001b[39;49m\u001b[43mend\u001b[49m\u001b[43m(\u001b[49m\u001b[43m)\u001b[49m\u001b[43m)\u001b[49m\n\u001b[1;32m    338\u001b[0m     end \u001b[38;5;241m=\u001b[39m _w(s, end)\u001b[38;5;241m.\u001b[39mend()\n\u001b[1;32m    339\u001b[0m     \u001b[38;5;28;01mif\u001b[39;00m end \u001b[38;5;241m!=\u001b[39m \u001b[38;5;28mlen\u001b[39m(s):\n",
      "File \u001b[0;32m/nix/store/rk47f5qqgrmlabbqy0cxfv7jhb084rb1-python3-3.11.8-env/lib/python3.11/json/decoder.py:355\u001b[0m, in \u001b[0;36mJSONDecoder.raw_decode\u001b[0;34m(self, s, idx)\u001b[0m\n\u001b[1;32m    353\u001b[0m     obj, end \u001b[38;5;241m=\u001b[39m \u001b[38;5;28mself\u001b[39m\u001b[38;5;241m.\u001b[39mscan_once(s, idx)\n\u001b[1;32m    354\u001b[0m \u001b[38;5;28;01mexcept\u001b[39;00m \u001b[38;5;167;01mStopIteration\u001b[39;00m \u001b[38;5;28;01mas\u001b[39;00m err:\n\u001b[0;32m--> 355\u001b[0m     \u001b[38;5;28;01mraise\u001b[39;00m JSONDecodeError(\u001b[38;5;124m\"\u001b[39m\u001b[38;5;124mExpecting value\u001b[39m\u001b[38;5;124m\"\u001b[39m, s, err\u001b[38;5;241m.\u001b[39mvalue) \u001b[38;5;28;01mfrom\u001b[39;00m \u001b[38;5;28;01mNone\u001b[39;00m\n\u001b[1;32m    356\u001b[0m \u001b[38;5;28;01mreturn\u001b[39;00m obj, end\n",
      "\u001b[0;31mJSONDecodeError\u001b[0m: Expecting value: line 2 column 1 (char 2)"
     ]
    }
   ],
   "source": [
    "import json\n",
    "\n",
    "seed_tasks_path=\"./prompts/seed_tasks.json\"\n",
    "seed_tasks = \n",
    "seed_tasks = [json.loads(seed) for seed in open(seed_tasks_path, \"r\")]"
   ]
  },
  {
   "cell_type": "code",
   "execution_count": null,
   "id": "da4699a5-dffa-4b52-9b68-d685b2a7cd63",
   "metadata": {},
   "outputs": [],
   "source": []
  }
 ],
 "metadata": {
  "kernelspec": {
   "display_name": "Python 3 (ipykernel)",
   "language": "python",
   "name": "python3"
  },
  "language_info": {
   "codemirror_mode": {
    "name": "ipython",
    "version": 3
   },
   "file_extension": ".py",
   "mimetype": "text/x-python",
   "name": "python",
   "nbconvert_exporter": "python",
   "pygments_lexer": "ipython3",
   "version": "3.11.8"
  }
 },
 "nbformat": 4,
 "nbformat_minor": 5
}
