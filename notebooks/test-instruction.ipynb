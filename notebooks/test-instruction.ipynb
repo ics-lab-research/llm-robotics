{
 "cells": [
  {
   "cell_type": "markdown",
   "id": "460b8286-6ef2-4dd2-b256-670ef5763e8f",
   "metadata": {},
   "source": [
    "# Try to use unsloth to load framework"
   ]
  },
  {
   "cell_type": "code",
   "execution_count": 1,
   "id": "19cc1856-0a64-4669-8a51-9e848b0ad8e7",
   "metadata": {},
   "outputs": [],
   "source": [
    "import json\n",
    "import io\n",
    "import os\n",
    "\n",
    "\n",
    "def _make_r_io_base(f, mode: str):\n",
    "    if not isinstance(f, io.IOBase):\n",
    "        f = open(f, mode=mode)\n",
    "    return f\n",
    "\n",
    "\n",
    "def jload(f, mode=\"r\"):\n",
    "    \"\"\"Load a .json file into a dictionary.\"\"\"\n",
    "    f = _make_r_io_base(f, mode)\n",
    "    jdict = json.load(f)\n",
    "    f.close()\n",
    "    return jdict\n",
    "\n",
    "\n",
    "def test_instruction_data_loader(\n",
    "    test_instruction_path=\"./test_instructions.json\",\n",
    "):\n",
    "    \"\"\"\n",
    "    load test instruction (about 100 samples)\n",
    "    \"\"\"\n",
    "    test_instruction_data = []\n",
    "    if os.path.exists(test_instruction_path):\n",
    "        test_instruction_data = jload(test_instruction_path)\n",
    "        print(f\"Loaded {len(test_instruction_data)} test instructions\")\n",
    "        return test_instruction_data\n",
    "    else:\n",
    "        return []"
   ]
  },
  {
   "cell_type": "code",
   "execution_count": 4,
   "id": "d177d8c6-bdc3-4c77-aa6f-7c11de269817",
   "metadata": {},
   "outputs": [
    {
     "name": "stdout",
     "output_type": "stream",
     "text": [
      "Loaded 107 test instructions\n"
     ]
    }
   ],
   "source": [
    "data = test_instruction_data_loader()"
   ]
  },
  {
   "cell_type": "code",
   "execution_count": 14,
   "id": "027abf8f-b7c8-4c83-8dcc-6b509098277f",
   "metadata": {},
   "outputs": [
    {
     "data": {
      "text/plain": [
       "{'instruction': 'Construct a URScript function that moves the robot TCP to a new pose relative to the current TCP pose, then defines a new TCP offset, effectively transforming the new pose given relative to the base frame to be relative to the new tcp offset. Ensure no motion occurs in this definition and that the new definition is made according to the input variables.',\n",
       " 'input': '```URscript\\nrelative_position = p[0.1, 0.1, 0.1, 0, 0, 0]\\nnew_tcp_offset_p = p[0.0, 0.0, 0.1, 0, 0, 0]\\n```',\n",
       " 'output': '```URscript\\ndef update_tcp(relative_position, new_tcp_offset_p):\\n  local current_pose = get_actual_tcp_pose()\\n  local target_pose = pose_add(current_pose, relative_position)\\n  movel(target_pose, a=0.2, v=0.5)\\n  set_tcp(new_tcp_offset_p)\\nend\\n```',\n",
       " 'most_similar_instructions': {'Define a function in URscript that repeatedly moves the robot to a position relative to its current TCP, based on a predefined offset. The movement is continuous, using specified acceleration and velocity values.': 0.3333333333333333,\n",
       "  'Define a function in URscript that repeatedly moves the robot to a predefined joint position while managing concurrent thread execution. The code creates a new thread to handle the motion, ensuring safe operation by using critical sections to synchronize access to shared variables, and waits for the movement to complete before continuing the loop.': 0.32478632478632474,\n",
       "  'Define a function in URscript that repeatedly moves the robot along a linear path between two predefined positions, adjusting the TCP pose based on the difference between the two waypoints. The movement occurs with specified acceleration and velocity values, continuously repeating the motion.': 0.3018867924528302,\n",
       "  'Define a function in URscript that continuously moves the robot to a predefined position in joint space, using a specific acceleration and speed. The movement occurs in a separate thread, and the function monitors a sensor input to stop the motion when a threshold is exceeded, safely terminating the thread and halting the robot.': 0.2735042735042735,\n",
       "  'Define a URscript function that repeatedly moves the robot to a specified waypoint in joint space while monitoring for tool contact. If contact is detected, the robot retracts slightly from the contact point and then continues its movement, using multithreading to handle the motion and collision detection concurrently.': 0.27027027027027023,\n",
       "  'Define a function in URscript that continuously moves the robot between two predefined joint configurations, with specified accelerations, velocities, and blending radius, while adjusting the position relative to the base frame using inverse kinematics.': 0.2474226804123711,\n",
       "  \"Define a function in URscript that continuously moves the robot between two predefined positions in a straight line, with specified acceleration, velocity, and time for each move. The script uses transformations based on the robot's current TCP position to ensure accurate motion.\": 0.24528301886792447,\n",
       "  'Define a function in URscript that moves the robot to a specified joint position repeatedly, using a separate thread for movement. The movement can be interrupted by a digital input, and the script ensures safe execution by managing thread synchronization and critical section access.': 0.24299065420560748,\n",
       "  'Define a function in URscript that moves the robot arm back and forth between two predefined linear positions in the workspace. The movement should be executed continuously, with each move adjusted for the current TCP offset, using specified acceleration and speed parameters for each waypoint.': 0.24074074074074073,\n",
       "  'Define a function in URscript that moves the robot continuously between two predefined waypoints in 3D space. Each waypoint is specified with a target position, orientation, and a preferred joint configuration. The motion accounts for the TCP offset and uses specified acceleration and velocity values for smooth transitions.': 0.23423423423423423},\n",
       " 'avg_similarity_score': 0.1871473585183178}"
      ]
     },
     "execution_count": 14,
     "metadata": {},
     "output_type": "execute_result"
    }
   ],
   "source": [
    "data[2]"
   ]
  },
  {
   "cell_type": "code",
   "execution_count": 9,
   "id": "0aea49cc-23f4-44da-aba5-5b628efa0da7",
   "metadata": {},
   "outputs": [
    {
     "name": "stdout",
     "output_type": "stream",
     "text": [
      "instruction\n",
      "input\n",
      "output\n",
      "most_similar_instructions\n",
      "avg_similarity_score\n"
     ]
    }
   ],
   "source": [
    "for key in data[0]:\n",
    "    print(key)    "
   ]
  },
  {
   "cell_type": "code",
   "execution_count": 10,
   "id": "ba79e78b-d872-408e-bd0c-2e67d003e779",
   "metadata": {},
   "outputs": [],
   "source": [
    "# try to merge instruction and output\n",
    "new_samples = data[0]"
   ]
  },
  {
   "cell_type": "code",
   "execution_count": 20,
   "id": "6f71bd41-0a7e-4b43-8866-aefb0eab11b4",
   "metadata": {},
   "outputs": [],
   "source": [
    "def merge_instruction_input(data_dict):\n",
    "    \"\"\"\n",
    "    Merges the instruction and input fields of a dictionary using a specific format.\n",
    "\n",
    "    Args:\n",
    "      data_dict: A dictionary containing 'instruction' and 'input' keys.\n",
    "\n",
    "    Returns:\n",
    "      A string representing the merged instruction and input, or None if the required keys are missing.\n",
    "    \"\"\"\n",
    "    if 'instruction' not in data_dict or 'input' not in data_dict:\n",
    "        return None\n",
    "    instruction = data_dict['instruction']\n",
    "    input_str = data_dict['input']\n",
    "    merged_prompt = f\"{instruction}[[\\nYour input is:\\n{input_str}]]\"\n",
    "    return merged_prompt"
   ]
  },
  {
   "cell_type": "code",
   "execution_count": 21,
   "id": "c26cd368-3d56-40c7-a1d7-de251ebc5dd6",
   "metadata": {},
   "outputs": [
    {
     "data": {
      "text/plain": [
       "'Construct a URScript function that moves the robot TCP to a new pose relative to the current TCP pose, then defines a new TCP offset, effectively transforming the new pose given relative to the base frame to be relative to the new tcp offset. Ensure no motion occurs in this definition and that the new definition is made according to the input variables.[[\\nYour input is:\\n```URscript\\nrelative_position = p[0.1, 0.1, 0.1, 0, 0, 0]\\nnew_tcp_offset_p = p[0.0, 0.0, 0.1, 0, 0, 0]\\n```]]'"
      ]
     },
     "execution_count": 21,
     "metadata": {},
     "output_type": "execute_result"
    }
   ],
   "source": [
    "a = merge_instruction_input(data[2])\n",
    "a"
   ]
  },
  {
   "cell_type": "code",
   "execution_count": 22,
   "id": "457593bf-1531-49fa-bf73-62accf5dc053",
   "metadata": {},
   "outputs": [
    {
     "name": "stdout",
     "output_type": "stream",
     "text": [
      "Construct a URScript function that moves the robot TCP to a new pose relative to the current TCP pose, then defines a new TCP offset, effectively transforming the new pose given relative to the base frame to be relative to the new tcp offset. Ensure no motion occurs in this definition and that the new definition is made according to the input variables.[[\n",
      "Your input is:\n",
      "```URscript\n",
      "relative_position = p[0.1, 0.1, 0.1, 0, 0, 0]\n",
      "new_tcp_offset_p = p[0.0, 0.0, 0.1, 0, 0, 0]\n",
      "```]]\n"
     ]
    }
   ],
   "source": [
    "print(a)"
   ]
  },
  {
   "cell_type": "code",
   "execution_count": 23,
   "id": "8af35605-6166-45df-92f9-5e627aede2a9",
   "metadata": {},
   "outputs": [
    {
     "name": "stdout",
     "output_type": "stream",
     "text": [
      "```URscript\n",
      "def update_tcp(relative_position, new_tcp_offset_p):\n",
      "  local current_pose = get_actual_tcp_pose()\n",
      "  local target_pose = pose_add(current_pose, relative_position)\n",
      "  movel(target_pose, a=0.2, v=0.5)\n",
      "  set_tcp(new_tcp_offset_p)\n",
      "end\n",
      "```\n"
     ]
    }
   ],
   "source": [
    "print(data[2]['output'])"
   ]
  },
  {
   "cell_type": "code",
   "execution_count": null,
   "id": "6d83e1a2-be01-4ee6-b974-5d6f44cf1c60",
   "metadata": {},
   "outputs": [],
   "source": []
  }
 ],
 "metadata": {
  "kernelspec": {
   "display_name": "Python 3 (ipykernel)",
   "language": "python",
   "name": "python3"
  },
  "language_info": {
   "codemirror_mode": {
    "name": "ipython",
    "version": 3
   },
   "file_extension": ".py",
   "mimetype": "text/x-python",
   "name": "python",
   "nbconvert_exporter": "python",
   "pygments_lexer": "ipython3",
   "version": "3.11.8"
  }
 },
 "nbformat": 4,
 "nbformat_minor": 5
}
