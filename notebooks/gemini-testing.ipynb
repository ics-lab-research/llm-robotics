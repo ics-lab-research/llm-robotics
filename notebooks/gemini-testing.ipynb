{
 "cells": [
  {
   "cell_type": "code",
   "execution_count": 1,
   "id": "9db0ed3d-c5ac-4f70-9270-3db908c99db5",
   "metadata": {},
   "outputs": [
    {
     "name": "stderr",
     "output_type": "stream",
     "text": [
      "/home/icslab/codebases/python/llm-robotics/.venv/lib/python3.11/site-packages/tqdm/auto.py:21: TqdmWarning: IProgress not found. Please update jupyter and ipywidgets. See https://ipywidgets.readthedocs.io/en/stable/user_install.html\n",
      "  from .autonotebook import tqdm as notebook_tqdm\n"
     ]
    }
   ],
   "source": [
    "import json\n",
    "import os\n",
    "import re\n",
    "import io\n",
    "from rouge_score import rouge_scorer\n",
    "import tqdm\n",
    "import random\n",
    "import dataclasses\n",
    "from typing import Optional, Sequence, Union\n",
    "import time\n",
    "import sys\n",
    "import logging\n",
    "from dotenv import load_dotenv\n",
    "import google.generativeai as genai\n",
    "import math\n",
    "import copy\n",
    "import google.generativeai as genai"
   ]
  },
  {
   "cell_type": "code",
   "execution_count": 2,
   "id": "fad67f84-6d86-4fd8-bacd-976d4d21c2a6",
   "metadata": {},
   "outputs": [],
   "source": [
    "# Load environment variables from the .env file\n",
    "load_dotenv()\n",
    "\n",
    "genai.configure(api_key=os.environ[\"GEMINI_API\"])"
   ]
  },
  {
   "cell_type": "markdown",
   "id": "1a9d1678-209c-4806-98a7-e1cfd71ddbd0",
   "metadata": {},
   "source": [
    "# Helper functions"
   ]
  },
  {
   "cell_type": "code",
   "execution_count": 3,
   "id": "59d89183-a8f9-45d5-8193-810e7baf5773",
   "metadata": {},
   "outputs": [],
   "source": [
    "def encode_prompt(prompt_instructions):\n",
    "    \"\"\"Encode multiple prompt instructions into a single string.\"\"\"\n",
    "    prompt = open(\"./prompt.txt\").read() + \"\\n\"\n",
    "\n",
    "    for idx, task_dict in enumerate(prompt_instructions):\n",
    "        (instruction, input, output) = (\n",
    "            task_dict[\"instruction\"],\n",
    "            task_dict[\"input\"],\n",
    "            task_dict[\"output\"],\n",
    "        )\n",
    "        instruction = re.sub(r\"\\s+\", \" \", instruction).strip().rstrip(\":\")\n",
    "        input = \"<noinput>\" if input.lower() == \"\" else input\n",
    "        prompt += f\"###\\n\"\n",
    "        prompt += f\"{idx + 1}. Instruction: {instruction}\\n\"\n",
    "        prompt += f\"{idx + 1}. Input:\\n{input}\\n\"\n",
    "        prompt += f\"{idx + 1}. Output:\\n{output}\\n\"\n",
    "    prompt += f\"###\\n\"\n",
    "\n",
    "    # NOTE: Unbound warning\n",
    "    prompt += f\"{idx + 2}. Instruction:\"\n",
    "    return prompt"
   ]
  },
  {
   "cell_type": "code",
   "execution_count": 4,
   "id": "cd1203af-f484-410a-993a-dc13a5bdb107",
   "metadata": {},
   "outputs": [],
   "source": [
    "def seed_instruction_data_loader():\n",
    "    seed_tasks_path = \"./seed_tasks.jsonl\"\n",
    "    seed_tasks = [json.loads(l) for l in open(seed_tasks_path, \"r\")]\n",
    "\n",
    "    seed_instruction_data = [\n",
    "        {\n",
    "            \"instruction\": t[\"instruction\"],\n",
    "            \"input\": t[\"instances\"][0][\"input\"],\n",
    "            \"output\": t[\"instances\"][0][\"output\"],\n",
    "        }\n",
    "        for t in seed_tasks\n",
    "    ]\n",
    "\n",
    "    print(f\"Loaded {len(seed_instruction_data)} human-written seed instructions\")\n",
    "    return seed_instruction_data"
   ]
  },
  {
   "cell_type": "code",
   "execution_count": 5,
   "id": "f146b181-c3a2-454b-9292-20cab8f78013",
   "metadata": {},
   "outputs": [],
   "source": [
    "def _make_r_io_base(f, mode: str):\n",
    "    if not isinstance(f, io.IOBase):\n",
    "        f = open(f, mode=mode)\n",
    "    return f\n",
    "\n",
    "def jload(f, mode=\"r\"):\n",
    "    \"\"\"Load a .json file into a dictionary.\"\"\"\n",
    "    f = _make_r_io_base(f, mode)\n",
    "    jdict = json.load(f)\n",
    "    f.close()\n",
    "    return jdict"
   ]
  },
  {
   "cell_type": "code",
   "execution_count": 6,
   "id": "572d838d-6bc9-4601-9368-df0c34d2eef9",
   "metadata": {},
   "outputs": [],
   "source": [
    "def machine_instruction_data_loader():\n",
    "    \"\"\"\n",
    "    load generated instruction if available\n",
    "    \"\"\"\n",
    "    machine_instruction_data = []\n",
    "    if os.path.exists(os.path.join(\"./\", \"regen.json\")):\n",
    "        machine_instruction_data = jload(os.path.join(\"./\", \"regen.json\"))\n",
    "        print(f\"Loaded {len(machine_instruction_data)} machine-generated instructions\")\n",
    "\n",
    "        return machine_instruction_data\n",
    "    else:\n",
    "        return {} "
   ]
  },
  {
   "cell_type": "markdown",
   "id": "17bc5338-6758-4f68-a589-db3c7a1841b5",
   "metadata": {},
   "source": [
    "# Arguments for Gemini"
   ]
  },
  {
   "cell_type": "code",
   "execution_count": 7,
   "id": "9336761b-f0f0-4970-a521-9c8029e381b5",
   "metadata": {},
   "outputs": [],
   "source": [
    "@dataclasses.dataclass\n",
    "class GeminiGenerationArguments:\n",
    "    max_output_tokens: int = 1800\n",
    "    temperature: float = 0.2\n",
    "    top_p: float = 1.0\n",
    "    # top_k: int = 40  # NOTE: we don't know how many\n",
    "    candidate_count: int = 1\n",
    "    stop_sequences: Optional[Sequence[str]] = None\n",
    "    presence_penalty: float = 0.0\n",
    "    frequency_penalty: float = 0.0\n",
    "    response_mime_type: str = \"text/plain\"  # additional params (json or text)"
   ]
  },
  {
   "cell_type": "markdown",
   "id": "aee6014f-1548-44ee-9d1c-90243cf175ef",
   "metadata": {},
   "source": [
    "# Using helper functions "
   ]
  },
  {
   "cell_type": "code",
   "execution_count": 8,
   "id": "832ca7c2-5f21-460c-b08a-fbf69db0c08e",
   "metadata": {},
   "outputs": [],
   "source": [
    "# some input arguments\n",
    "request_batch_size = 5\n",
    "num_prompt_instructions = 3\n",
    "model_name = \"gemini-1.5-flash\""
   ]
  },
  {
   "cell_type": "code",
   "execution_count": 9,
   "id": "67f81c6f-50b8-4f48-91c0-5fd027d688bd",
   "metadata": {},
   "outputs": [
    {
     "name": "stdout",
     "output_type": "stream",
     "text": [
      "Loaded 21 human-written seed instructions\n"
     ]
    }
   ],
   "source": [
    "# is a list\n",
    "seed_instruction_data = seed_instruction_data_loader()\n",
    "\n",
    "# is a dict \n",
    "machine_instruction_data = machine_instruction_data_loader()"
   ]
  },
  {
   "cell_type": "code",
   "execution_count": 10,
   "id": "769d93ea-f8ab-4393-91ed-22938266542a",
   "metadata": {},
   "outputs": [],
   "source": [
    "# init some variables\n",
    "request_idx = 0\n"
   ]
  },
  {
   "cell_type": "code",
   "execution_count": 11,
   "id": "e6d83245-a74a-4674-866c-f7b5ef511e90",
   "metadata": {},
   "outputs": [],
   "source": [
    "request_idx += 1\n",
    "\n",
    "batch_inputs = []\n",
    "\n",
    "# we have 5 prompt each time request\n",
    "for _ in range(request_batch_size):\n",
    "    # only sampling from the seed tasks\n",
    "    # choose random 3 samples from seed_instruction_data\n",
    "    prompt_instructions = random.sample(\n",
    "        seed_instruction_data, num_prompt_instructions\n",
    "    )\n",
    "    prompt = encode_prompt(prompt_instructions)\n",
    "    batch_inputs.append(prompt)"
   ]
  },
  {
   "cell_type": "code",
   "execution_count": 12,
   "id": "562eaa9d-ba36-4a7c-8f0d-08f14aecbd4a",
   "metadata": {},
   "outputs": [
    {
     "name": "stdout",
     "output_type": "stream",
     "text": [
      "You are asked to come up with a set of 20 diverse code generation task instructions. These task instructions will be given to a GPT model and we will evaluate the GPT model for completing the instructions.\n",
      "\n",
      "Here are the requirements:\n",
      "1. Try not to repeat the verb for each instruction to maximize diversity.\n",
      "2. The language used for the instruction also should be diverse. For example, you should combine questions with imperative instrucitons.\n",
      "3. The type of instructions should be diverse. The list should include diverse types of programming tasks like open-ended generation, classification, editing, optimization etc.\n",
      "2. A GPT language model should be able to complete the instruction. For example, do not ask the assistant to create any visual or audio output. For another example, do not ask the assistant to wake you up at 5pm or set a reminder because it cannot perform any action.\n",
      "3. The instructions should be in English.\n",
      "4. The instructions should at least 1 to 2 sentences long. Either an imperative sentence or a question is permitted.\n",
      "5. You should generate an appropriate input to the instruction. The input field should contain a specific example provided for the instruction. It should involve realistic data and should not contain simple placeholders. The input should provide substantial content to make the instruction challenging but should ideally not exceed 100 words.\n",
      "6. Not all instructions require input. For example, when a instruction asks about some general information, \"write a python program to load a file.\", it is not necssary to provide a specific context. In this case, we simply put \"<noinput>\" in the input field.\n",
      "7. The output should be an appropriate response to the instruction and the input.\n",
      "8. All tasks should be coding or programming related.\n",
      "\n",
      "List of 20 tasks:\n",
      "\n",
      "###\n",
      "1. Instruction: Write a Python function to find all prime numbers up to the given number n.\n",
      "1. Input:\n",
      "<noinput>\n",
      "1. Output:\n",
      "def is_prime(n):\n",
      " if n <= 1:\n",
      " return False\n",
      " for i in range(2, int(n**0.5) + 1):\n",
      " if n % i == 0:\n",
      " return False\n",
      " return True\n",
      "\n",
      "def find_prime_numbers(n):\n",
      " primes = []\n",
      " for i in range(2, n + 1):\n",
      " if is_prime(i):\n",
      " primes.append(i)\n",
      " return primes\n",
      "###\n",
      "2. Instruction: Can you provide a shell script that displays the total number of lines in all '*.txt' files in the current directory?\n",
      "2. Input:\n",
      "\"file1.txt:\\nHello\\nWorld\\n\\nfile2.txt:\\nAnother\\nExample\"\n",
      "2. Output:\n",
      "#!/bin/sh\n",
      "\n",
      "total_lines=0\n",
      "\n",
      "for file in *.txt; do\n",
      "    lines=$(wc -l < \"$file\")\n",
      "    total_lines=$((total_lines + lines))\n",
      "done\n",
      "\n",
      "echo \"Total lines: $total_lines\"\n",
      "###\n",
      "3. Instruction: Write a simple C# program that prints \"Hello, World!\".\n",
      "3. Input:\n",
      "<noinput>\n",
      "3. Output:\n",
      "using System;\n",
      "\n",
      "namespace HelloWorld\n",
      "{\n",
      " class Program\n",
      " {\n",
      " static void Main(string[] args)\n",
      " {\n",
      " Console.WriteLine(\"Hello, World!\");\n",
      " }\n",
      " }\n",
      "}\n",
      "###\n",
      "4. Instruction:\n"
     ]
    }
   ],
   "source": [
    "# batch_inputs is list of multiple prompts\n",
    "print(batch_inputs[0])"
   ]
  },
  {
   "cell_type": "code",
   "execution_count": 13,
   "id": "524a4ad3-3b4b-451c-b330-7fec870755e2",
   "metadata": {},
   "outputs": [],
   "source": [
    "decoding_args = GeminiGenerationArguments(\n",
    "    temperature=1.0,\n",
    "    candidate_count=1,\n",
    "    max_output_tokens=3072,\n",
    "    top_p=1.0,\n",
    "    stop_sequences=[\"\\n20\", \"20.\", \"20.\"],\n",
    ")"
   ]
  },
  {
   "cell_type": "code",
   "execution_count": 14,
   "id": "c3403184-705d-44cf-8452-841b5a49e254",
   "metadata": {},
   "outputs": [],
   "source": [
    "# init some variables\n",
    "request_batch_size = 5\n",
    "max_batches=sys.maxsize\n",
    "max_instances=sys.maxsize"
   ]
  },
  {
   "cell_type": "code",
   "execution_count": 15,
   "id": "d4d5e890-2f88-4788-ac31-9f7873d1442a",
   "metadata": {},
   "outputs": [],
   "source": [
    "prompts = batch_inputs\n",
    "is_single_prompt = isinstance(prompts, (str, dict))"
   ]
  },
  {
   "cell_type": "code",
   "execution_count": 16,
   "id": "1d557f19-e636-406b-991b-07084fd5d0cc",
   "metadata": {},
   "outputs": [
    {
     "data": {
      "text/plain": [
       "False"
      ]
     },
     "execution_count": 16,
     "metadata": {},
     "output_type": "execute_result"
    }
   ],
   "source": [
    "# check prompt is single or not\n",
    "is_single_prompt"
   ]
  },
  {
   "cell_type": "code",
   "execution_count": 17,
   "id": "7786dac0-f047-4900-9dcc-5e9d4ba304b6",
   "metadata": {},
   "outputs": [],
   "source": [
    "if max_batches < sys.maxsize:\n",
    "    logging.warning(\n",
    "        \"`max_batches` will be deprecated in the future, please use `max_instances` instead.\"\n",
    "        \"Setting `max_instances` to `max_batches * batch_size` for now.\"\n",
    "    )\n",
    "    max_instances = max_batches * batch_size"
   ]
  },
  {
   "cell_type": "code",
   "execution_count": 18,
   "id": "912fe844-465d-4e5a-b76a-5304f734fc31",
   "metadata": {},
   "outputs": [
    {
     "data": {
      "text/plain": [
       "9223372036854775807"
      ]
     },
     "execution_count": 18,
     "metadata": {},
     "output_type": "execute_result"
    }
   ],
   "source": [
    "max_instances"
   ]
  },
  {
   "cell_type": "code",
   "execution_count": 19,
   "id": "5aac5236-b20a-4bbd-b021-9144cd3c1b5d",
   "metadata": {},
   "outputs": [],
   "source": [
    "# NOTE: wtf why i have to do that??\n",
    "prompts = prompts[:max_instances] "
   ]
  },
  {
   "cell_type": "code",
   "execution_count": 20,
   "id": "e33c6477-b4f0-4090-8990-fc10e86e404c",
   "metadata": {},
   "outputs": [
    {
     "data": {
      "text/plain": [
       "['You are asked to come up with a set of 20 diverse code generation task instructions. These task instructions will be given to a GPT model and we will evaluate the GPT model for completing the instructions.\\n\\nHere are the requirements:\\n1. Try not to repeat the verb for each instruction to maximize diversity.\\n2. The language used for the instruction also should be diverse. For example, you should combine questions with imperative instrucitons.\\n3. The type of instructions should be diverse. The list should include diverse types of programming tasks like open-ended generation, classification, editing, optimization etc.\\n2. A GPT language model should be able to complete the instruction. For example, do not ask the assistant to create any visual or audio output. For another example, do not ask the assistant to wake you up at 5pm or set a reminder because it cannot perform any action.\\n3. The instructions should be in English.\\n4. The instructions should at least 1 to 2 sentences long. Either an imperative sentence or a question is permitted.\\n5. You should generate an appropriate input to the instruction. The input field should contain a specific example provided for the instruction. It should involve realistic data and should not contain simple placeholders. The input should provide substantial content to make the instruction challenging but should ideally not exceed 100 words.\\n6. Not all instructions require input. For example, when a instruction asks about some general information, \"write a python program to load a file.\", it is not necssary to provide a specific context. In this case, we simply put \"<noinput>\" in the input field.\\n7. The output should be an appropriate response to the instruction and the input.\\n8. All tasks should be coding or programming related.\\n\\nList of 20 tasks:\\n\\n###\\n1. Instruction: Write a Python function to find all prime numbers up to the given number n.\\n1. Input:\\n<noinput>\\n1. Output:\\ndef is_prime(n):\\n if n <= 1:\\n return False\\n for i in range(2, int(n**0.5) + 1):\\n if n % i == 0:\\n return False\\n return True\\n\\ndef find_prime_numbers(n):\\n primes = []\\n for i in range(2, n + 1):\\n if is_prime(i):\\n primes.append(i)\\n return primes\\n###\\n2. Instruction: Can you provide a shell script that displays the total number of lines in all \\'*.txt\\' files in the current directory?\\n2. Input:\\n\"file1.txt:\\\\nHello\\\\nWorld\\\\n\\\\nfile2.txt:\\\\nAnother\\\\nExample\"\\n2. Output:\\n#!/bin/sh\\n\\ntotal_lines=0\\n\\nfor file in *.txt; do\\n    lines=$(wc -l < \"$file\")\\n    total_lines=$((total_lines + lines))\\ndone\\n\\necho \"Total lines: $total_lines\"\\n###\\n3. Instruction: Write a simple C# program that prints \"Hello, World!\".\\n3. Input:\\n<noinput>\\n3. Output:\\nusing System;\\n\\nnamespace HelloWorld\\n{\\n class Program\\n {\\n static void Main(string[] args)\\n {\\n Console.WriteLine(\"Hello, World!\");\\n }\\n }\\n}\\n###\\n4. Instruction:',\n",
       " 'You are asked to come up with a set of 20 diverse code generation task instructions. These task instructions will be given to a GPT model and we will evaluate the GPT model for completing the instructions.\\n\\nHere are the requirements:\\n1. Try not to repeat the verb for each instruction to maximize diversity.\\n2. The language used for the instruction also should be diverse. For example, you should combine questions with imperative instrucitons.\\n3. The type of instructions should be diverse. The list should include diverse types of programming tasks like open-ended generation, classification, editing, optimization etc.\\n2. A GPT language model should be able to complete the instruction. For example, do not ask the assistant to create any visual or audio output. For another example, do not ask the assistant to wake you up at 5pm or set a reminder because it cannot perform any action.\\n3. The instructions should be in English.\\n4. The instructions should at least 1 to 2 sentences long. Either an imperative sentence or a question is permitted.\\n5. You should generate an appropriate input to the instruction. The input field should contain a specific example provided for the instruction. It should involve realistic data and should not contain simple placeholders. The input should provide substantial content to make the instruction challenging but should ideally not exceed 100 words.\\n6. Not all instructions require input. For example, when a instruction asks about some general information, \"write a python program to load a file.\", it is not necssary to provide a specific context. In this case, we simply put \"<noinput>\" in the input field.\\n7. The output should be an appropriate response to the instruction and the input.\\n8. All tasks should be coding or programming related.\\n\\nList of 20 tasks:\\n\\n###\\n1. Instruction: Write a script in JavaScript for printing the current date and time.\\n1. Input:\\n<noinput>\\n1. Output:\\nvar newDate = new Date();\\nvar currentDateTime = newDate.toLocaleString();\\nconsole.log(currentDateTime);\\n###\\n2. Instruction: Write a JavaScript code snippet to show an alert message with the text \"Welcome to my website!\".\\n2. Input:\\n<noinput>\\n2. Output:\\nalert(\\'Welcome to my website!\\');\\n###\\n3. Instruction: Write an SQL query to select all columns from a table named \\'employees\\' where the age is greater than 30.\\n3. Input:\\n<noinput>\\n3. Output:\\nSELECT * FROM employees WHERE age > 30;\\n###\\n4. Instruction:',\n",
       " 'You are asked to come up with a set of 20 diverse code generation task instructions. These task instructions will be given to a GPT model and we will evaluate the GPT model for completing the instructions.\\n\\nHere are the requirements:\\n1. Try not to repeat the verb for each instruction to maximize diversity.\\n2. The language used for the instruction also should be diverse. For example, you should combine questions with imperative instrucitons.\\n3. The type of instructions should be diverse. The list should include diverse types of programming tasks like open-ended generation, classification, editing, optimization etc.\\n2. A GPT language model should be able to complete the instruction. For example, do not ask the assistant to create any visual or audio output. For another example, do not ask the assistant to wake you up at 5pm or set a reminder because it cannot perform any action.\\n3. The instructions should be in English.\\n4. The instructions should at least 1 to 2 sentences long. Either an imperative sentence or a question is permitted.\\n5. You should generate an appropriate input to the instruction. The input field should contain a specific example provided for the instruction. It should involve realistic data and should not contain simple placeholders. The input should provide substantial content to make the instruction challenging but should ideally not exceed 100 words.\\n6. Not all instructions require input. For example, when a instruction asks about some general information, \"write a python program to load a file.\", it is not necssary to provide a specific context. In this case, we simply put \"<noinput>\" in the input field.\\n7. The output should be an appropriate response to the instruction and the input.\\n8. All tasks should be coding or programming related.\\n\\nList of 20 tasks:\\n\\n###\\n1. Instruction: write a code to get the current value of a Bitcoin in US dollars using the bitcoincharts API.\\n1. Input:\\n<noinput>\\n1. Output:\\n\"\"\"\\nGet the current value of a Bitcoin in US dollars using the bitcoincharts api\\n\"\"\"\\n\\nimport requests\\nimport json\\n\\ndef get_bitcoin_price():\\n    url = \\'http://api.bitcoincharts.com/v1/weighted_prices.json\\'\\n    response = requests.get(url)\\n    data = json.loads(response.text)\\n    return data[\\'USD\\'][\\'24h\\']\\n    \\nif __name__ == \\'__main__\\':\\n    print(get_bitcoin_price())\\n###\\n2. Instruction: Using the comment as a guide, replace the \"TODO\" comment in the code with the proper code.\\n2. Input:\\ndef greet_to(name):\\n    \"\"\"Print a greeting to the name provided.\"\"\"\\n    # TODO: assert name is a string\\n    print(\"Hello, \" + name + \"!\")\\n2. Output:\\ndef greet_to(name):\\n    \"\"\"Print a greeting to the name provided.\"\"\"\\n    # assert name is a string\\n    assert isinstance(name, str), \"name must be a string\"\\n    print(\"Hello, \" + name + \"!\")\\n###\\n3. Instruction: Write a program to compute the sum of integers from k to n.\\n3. Input:\\n<noinput>\\n3. Output:\\ndef sum(k, n):\\n    sum = 0\\n    for i in range(k, n+1):\\n        sum += i\\n    return sum\\n###\\n4. Instruction:',\n",
       " 'You are asked to come up with a set of 20 diverse code generation task instructions. These task instructions will be given to a GPT model and we will evaluate the GPT model for completing the instructions.\\n\\nHere are the requirements:\\n1. Try not to repeat the verb for each instruction to maximize diversity.\\n2. The language used for the instruction also should be diverse. For example, you should combine questions with imperative instrucitons.\\n3. The type of instructions should be diverse. The list should include diverse types of programming tasks like open-ended generation, classification, editing, optimization etc.\\n2. A GPT language model should be able to complete the instruction. For example, do not ask the assistant to create any visual or audio output. For another example, do not ask the assistant to wake you up at 5pm or set a reminder because it cannot perform any action.\\n3. The instructions should be in English.\\n4. The instructions should at least 1 to 2 sentences long. Either an imperative sentence or a question is permitted.\\n5. You should generate an appropriate input to the instruction. The input field should contain a specific example provided for the instruction. It should involve realistic data and should not contain simple placeholders. The input should provide substantial content to make the instruction challenging but should ideally not exceed 100 words.\\n6. Not all instructions require input. For example, when a instruction asks about some general information, \"write a python program to load a file.\", it is not necssary to provide a specific context. In this case, we simply put \"<noinput>\" in the input field.\\n7. The output should be an appropriate response to the instruction and the input.\\n8. All tasks should be coding or programming related.\\n\\nList of 20 tasks:\\n\\n###\\n1. Instruction: Suggest a completion for the following python code.\\n1. Input:\\nimport json\\n\\ndef read_task_from_jsonl(data_file):\\n    \\'\\'\\'This function will read a .jsonl file and return the ``task`` fields in all the lines.\\'\\'\\'\\n1. Output:\\nimport json\\n\\ndef read_task_from_jsonl(data_file):\\n    \\'\\'\\'This function will read a .jsonl file and return the ``task`` fields in all the lines.\\'\\'\\'\\n    with open(data_file) as fin:\\n        return [json.loads(line)[\\'task\\'] for line in fin]\\n###\\n2. Instruction: Using the comment as a guide, replace the \"TODO\" comment in the code with the proper code.\\n2. Input:\\ndef greet_to(name):\\n    \"\"\"Print a greeting to the name provided.\"\"\"\\n    # TODO: assert name is a string\\n    print(\"Hello, \" + name + \"!\")\\n2. Output:\\ndef greet_to(name):\\n    \"\"\"Print a greeting to the name provided.\"\"\"\\n    # assert name is a string\\n    assert isinstance(name, str), \"name must be a string\"\\n    print(\"Hello, \" + name + \"!\")\\n###\\n3. Instruction: write a code to get the current value of a Bitcoin in US dollars using the bitcoincharts API.\\n3. Input:\\n<noinput>\\n3. Output:\\n\"\"\"\\nGet the current value of a Bitcoin in US dollars using the bitcoincharts api\\n\"\"\"\\n\\nimport requests\\nimport json\\n\\ndef get_bitcoin_price():\\n    url = \\'http://api.bitcoincharts.com/v1/weighted_prices.json\\'\\n    response = requests.get(url)\\n    data = json.loads(response.text)\\n    return data[\\'USD\\'][\\'24h\\']\\n    \\nif __name__ == \\'__main__\\':\\n    print(get_bitcoin_price())\\n###\\n4. Instruction:',\n",
       " 'You are asked to come up with a set of 20 diverse code generation task instructions. These task instructions will be given to a GPT model and we will evaluate the GPT model for completing the instructions.\\n\\nHere are the requirements:\\n1. Try not to repeat the verb for each instruction to maximize diversity.\\n2. The language used for the instruction also should be diverse. For example, you should combine questions with imperative instrucitons.\\n3. The type of instructions should be diverse. The list should include diverse types of programming tasks like open-ended generation, classification, editing, optimization etc.\\n2. A GPT language model should be able to complete the instruction. For example, do not ask the assistant to create any visual or audio output. For another example, do not ask the assistant to wake you up at 5pm or set a reminder because it cannot perform any action.\\n3. The instructions should be in English.\\n4. The instructions should at least 1 to 2 sentences long. Either an imperative sentence or a question is permitted.\\n5. You should generate an appropriate input to the instruction. The input field should contain a specific example provided for the instruction. It should involve realistic data and should not contain simple placeholders. The input should provide substantial content to make the instruction challenging but should ideally not exceed 100 words.\\n6. Not all instructions require input. For example, when a instruction asks about some general information, \"write a python program to load a file.\", it is not necssary to provide a specific context. In this case, we simply put \"<noinput>\" in the input field.\\n7. The output should be an appropriate response to the instruction and the input.\\n8. All tasks should be coding or programming related.\\n\\nList of 20 tasks:\\n\\n###\\n1. Instruction: write a code to get the current value of a Bitcoin in US dollars using the bitcoincharts API.\\n1. Input:\\n<noinput>\\n1. Output:\\n\"\"\"\\nGet the current value of a Bitcoin in US dollars using the bitcoincharts api\\n\"\"\"\\n\\nimport requests\\nimport json\\n\\ndef get_bitcoin_price():\\n    url = \\'http://api.bitcoincharts.com/v1/weighted_prices.json\\'\\n    response = requests.get(url)\\n    data = json.loads(response.text)\\n    return data[\\'USD\\'][\\'24h\\']\\n    \\nif __name__ == \\'__main__\\':\\n    print(get_bitcoin_price())\\n###\\n2. Instruction: Write a basic HTML structure with a title \"My First Web Page\".\\n2. Input:\\n<noinput>\\n2. Output:\\n<!DOCTYPE html>\\n<html lang=\"en\">\\n<head>\\n <meta charset=\"UTF-8\">\\n <meta name=\"viewport\" content=\"width=device-width, initial-scale=1.0\">\\n <title>My First Web Page</title>\\n</head>\\n<body>\\n\\n</body>\\n</html>\\n###\\n3. Instruction: Write a simple C++ program that prints \"Hello, World!\".\\n3. Input:\\n<noinput>\\n3. Output:\\n#include <iostream>\\n\\nint main() {\\n std::cout << \"Hello, World!\" << std::endl;\\n return 0;\\n}\\n###\\n4. Instruction:']"
      ]
     },
     "execution_count": 20,
     "metadata": {},
     "output_type": "execute_result"
    }
   ],
   "source": [
    "prompts"
   ]
  },
  {
   "cell_type": "code",
   "execution_count": 21,
   "id": "c789f439-e923-41aa-8e32-e50056f2209f",
   "metadata": {},
   "outputs": [],
   "source": [
    "# init some variable\n",
    "batch_size=1"
   ]
  },
  {
   "cell_type": "code",
   "execution_count": 22,
   "id": "5dd7f85a-f562-4e03-986c-d25666d77fd1",
   "metadata": {},
   "outputs": [],
   "source": [
    "num_prompts = len(prompts)\n",
    "\n",
    "# list of list (str)\n",
    "prompt_batches = [\n",
    "    prompts[batch_id * batch_size : (batch_id + 1) * batch_size]\n",
    "    for batch_id in range(int(math.ceil(num_prompts / batch_size)))\n",
    "]"
   ]
  },
  {
   "cell_type": "code",
   "execution_count": 23,
   "id": "70f2b7fc-e91b-4378-ae2b-2c32f0c2ccfe",
   "metadata": {},
   "outputs": [],
   "source": [
    "completions = []\n",
    "\n",
    "# we use first comment \n",
    "for batch_id, prompt_batch in enumerate(prompt_batches):\n",
    "    break"
   ]
  },
  {
   "cell_type": "code",
   "execution_count": 24,
   "id": "ed51fa62-e92a-4763-a65b-b457857bcd37",
   "metadata": {},
   "outputs": [
    {
     "name": "stdout",
     "output_type": "stream",
     "text": [
      "I am a large language model, trained by Google.  I'm an AI, and I don't have a name or personal experiences like humans do.  My purpose is to process information and respond to a wide range of prompts and questions in a comprehensive and informative way.\n",
      "\n"
     ]
    }
   ],
   "source": [
    "from dataclasses import asdict\n",
    "\n",
    "model = genai.GenerativeModel(\n",
    "    model_name=model_name,\n",
    "    generation_config=genai.GenerationConfig(**asdict(decoding_args)),\n",
    ")\n",
    "# chat_session = model.start_chat(history=[])\n",
    "# response = chat_session.send_message(\"Do you think earth is flat?\")\n",
    "response = model.generate_content(\"who are you\")\n",
    "print(response.text)"
   ]
  },
  {
   "cell_type": "code",
   "execution_count": 25,
   "id": "a6e48b41-ff5b-4f83-894d-27f85d73e58d",
   "metadata": {},
   "outputs": [
    {
     "name": "stdout",
     "output_type": "stream",
     "text": [
      "I am a large language model, trained by Google.  I'm an AI, and I don't have a name or personal experiences like humans do.  My purpose is to process information and respond to a wide range of prompts and questions in a comprehensive and informative way.\n",
      "\n"
     ]
    }
   ],
   "source": [
    "for chunk in response:\n",
    "    print(chunk.text)"
   ]
  },
  {
   "cell_type": "code",
   "execution_count": 26,
   "id": "ce1b971c-842f-46f2-8135-3bc957ada529",
   "metadata": {},
   "outputs": [
    {
     "data": {
      "text/plain": [
       "62"
      ]
     },
     "execution_count": 26,
     "metadata": {},
     "output_type": "execute_result"
    }
   ],
   "source": [
    "response.usage_metadata.total_token_count"
   ]
  },
  {
   "cell_type": "code",
   "execution_count": 27,
   "id": "20ad03fd-16a1-4f36-bef4-e535b189ba3c",
   "metadata": {},
   "outputs": [],
   "source": [
    "result = {}\n",
    "shared_kwargs = asdict(decoding_args)\n",
    "# completion_batch = openai.Completion.create(\n",
    "#     prompt=prompt_batch, **shared_kwargs\n",
    "# )\n",
    "# choices = completion_batch.choices\n",
    "\n",
    "# for choice in choices:\n",
    "#     choice[\"total_tokens\"] = completion_batch.usage.total_tokens\n",
    "# completions.extend(choices)\n",
    "\n",
    "# NOTE: gemini api instead\n",
    "\n",
    "model = genai.GenerativeModel(\n",
    "    model_name=model_name,\n",
    "    generation_config=genai.GenerationConfig(**shared_kwargs),\n",
    ")\n",
    "completion_batch = model.generate_content(prompt_batch)\n",
    "\n",
    "result[\"text\"] = completion_batch.text\n",
    "result[\"total_tokens\"] = completion_batch.usage_metadata.total_token_count"
   ]
  },
  {
   "cell_type": "code",
   "execution_count": 28,
   "id": "87f85bb0-bcf2-46cc-b5ef-0d525ddc9733",
   "metadata": {},
   "outputs": [],
   "source": [
    "completions.append(result)"
   ]
  },
  {
   "cell_type": "code",
   "execution_count": 29,
   "id": "c5e37509-68d8-4d05-bcf2-0ebdb36fd030",
   "metadata": {},
   "outputs": [
    {
     "name": "stdout",
     "output_type": "stream",
     "text": [
      "4. Instruction:  Develop a JavaScript function that checks if a given string is a palindrome (reads the same backward as forward), ignoring case and non-alphanumeric characters.\n",
      "4. Input: \"A man, a plan, a canal: Panama\"\n",
      "4. Output: \n",
      "```javascript\n",
      "function isPalindrome(str) {\n",
      "  // Remove non-alphanumeric characters and convert to lowercase\n",
      "  str = str.toLowerCase().replace(/[^a-z0-9]/g, \"\");\n",
      "  \n",
      "  // Reverse the string\n",
      "  const reversedStr = str.split(\"\").reverse().join(\"\");\n",
      "  \n",
      "  // Check if the string is equal to its reverse\n",
      "  return str === reversedStr;\n",
      "}\n",
      "\n",
      "console.log(isPalindrome(\"A man, a plan, a canal: Panama\")); // true\n",
      "```\n",
      "\n",
      "5. Instruction:  Construct a Python program that reads a CSV file and calculates the average of a specified column.  Assume the file uses a comma as a delimiter.\n",
      "5. Input:  \"data.csv: Name,Age,Score\\nAlice,25,85\\nBob,30,92\\nCharlie,28,78\"\n",
      "5. Output:\n",
      "```python\n",
      "import csv\n",
      "\n",
      "def calculate_average(filename, column_name):\n",
      "    with open(filename, 'r') as file:\n",
      "        reader = csv.DictReader(file)\n",
      "        column_data = [float(row[column_name]) for row in reader]\n",
      "        average = sum(column_data) / len(column_data)\n",
      "        return average\n",
      "\n",
      "filename = \"data.csv\"\n",
      "column_name = \"Score\"\n",
      "average_score = calculate_average(filename, column_name)\n",
      "print(f\"The average {column_name} is: {average_score}\")\n",
      "\n",
      "```\n",
      "\n",
      "6. Instruction:  Show me how to create a Java method that converts a given integer to its binary representation as a string.\n",
      "6. Input: <noinput>\n",
      "6. Output:\n",
      "```java\n",
      "class IntegerToBinary {\n",
      "    public static String intToBinary(int n) {\n",
      "        return Integer.toBinaryString(n);\n",
      "    }\n",
      "\n",
      "    public static void main(String[] args) {\n",
      "        System.out.println(intToBinary(10)); // Output: 1010\n",
      "        System.out.println(intToBinary(255)); // Output: 11111111\n",
      "    }\n",
      "}\n",
      "```\n",
      "\n",
      "\n",
      "7. Instruction: Refactor the following PHP code to improve its readability and efficiency.\n",
      "7. Input:  `<?php $arr = array(1,2,3,4,5); foreach($arr as $value){ echo $value * 2 . \"<br>\"; } ?>`\n",
      "7. Output:\n",
      "```php\n",
      "<?php\n",
      "$arr = [1, 2, 3, 4, 5];\n",
      "array_map(function ($value) { echo $value * 2 . \"<br>\"; }, $arr); \n",
      "?>\n",
      "```\n",
      "\n",
      "8. Instruction:  Design a C++ function that determines whether a given year is a leap year.\n",
      "8. Input: <noinput>\n",
      "8. Output:\n",
      "```c++\n",
      "bool isLeapYear(int year) {\n",
      "  return (year % 4 == 0 && year % 100 != 0) || (year % 400 == 0);\n",
      "}\n",
      "```\n",
      "\n",
      "9. Instruction:  Optimize this piece of Python code for speed.\n",
      "9. Input:  ```python\n",
      "def slow_function(data):\n",
      "    result = []\n",
      "    for item in data:\n",
      "        if item > 10:\n",
      "            result.append(item * 2)\n",
      "    return result\n",
      "```\n",
      "9. Output:\n",
      "```python\n",
      "def fast_function(data):\n",
      "    return [item * 2 for item in data if item > 10]\n",
      "```\n",
      "\n",
      "10. Instruction:  Could you craft a SQL query to retrieve all records from a table named 'users' where the 'city' column is 'London'?\n",
      "10. Input: <noinput>\n",
      "10. Output:  `SELECT * FROM users WHERE city = 'London';`\n",
      "\n",
      "11. Instruction:  Amend this Ruby code to handle potential errors gracefully.\n",
      "11. Input: `file = File.open(\"my_file.txt\", \"r\"); puts file.read; file.close;`\n",
      "11. Output:\n",
      "```ruby\n",
      "begin\n",
      "  file = File.open(\"my_file.txt\", \"r\")\n",
      "  puts file.read\n",
      "ensure\n",
      "  file.close if file\n",
      "end\n",
      "```\n",
      "\n",
      "\n",
      "12. Instruction:  Illustrate how to use regular expressions in Python to extract email addresses from a given text string.\n",
      "12. Input: \"Contact us at support@example.com or sales@example.org for assistance.\"\n",
      "12. Output:\n",
      "```python\n",
      "import re\n",
      "\n",
      "text = \"Contact us at support@example.com or sales@example.org for assistance.\"\n",
      "email_regex = r\"[a-zA-Z0-9._%+-]+@[a-zA-Z0-9.-]+\\.[a-zA-Z]{2,}\"\n",
      "emails = re.findall(email_regex, text)\n",
      "print(emails)  # Output: ['support@example.com', 'sales@example.org']\n",
      "```\n",
      "\n",
      "13. Instruction:  Generate a Go function that calculates the factorial of a given non-negative integer.\n",
      "13. Input: <noinput>\n",
      "13. Output:\n",
      "```go\n",
      "func factorial(n int) (int, error) {\n",
      "    if n < 0 {\n",
      "        return 0, errors.New(\"factorial is not defined for negative numbers\")\n",
      "    }\n",
      "    if n == 0 {\n",
      "        return 1, nil\n",
      "    }\n",
      "    result := 1\n",
      "    for i := 1; i <= n; i++ {\n",
      "        result *= i\n",
      "    }\n",
      "    return result, nil\n",
      "}\n",
      "```\n",
      "\n",
      "14. Instruction:  Write a PowerShell script to list all files in a specified directory.\n",
      "14. Input:  <noinput>\n",
      "14. Output: `Get-ChildItem -Path C:\\path\\to\\directory`\n",
      "\n",
      "15. Instruction:  Create a Kotlin function to sort an array of integers in ascending order.\n",
      "15. Input: <noinput>\n",
      "15. Output:\n",
      "```kotlin\n",
      "fun sortIntegers(arr: IntArray): IntArray {\n",
      "    return arr.sortedArray()\n",
      "}\n",
      "\n",
      "```\n",
      "\n",
      "16. Instruction:  Develop a Swift function that converts a given temperature from Celsius to Fahrenheit.\n",
      "16. Input: <noinput>\n",
      "16. Output:\n",
      "```swift\n",
      "func celsiusToFahrenheit(celsius: Double) -> Double {\n",
      "  return (celsius * 9/5) + 32\n",
      "}\n",
      "```\n",
      "\n",
      "17. Instruction:  Build a small program in R to calculate the mean and standard deviation of a vector of numbers.\n",
      "17. Input: c(10, 12, 15, 18, 20)\n",
      "17. Output:\n",
      "```R\n",
      "data <- c(10, 12, 15, 18, 20)\n",
      "mean_data <- mean(data)\n",
      "sd_data <- sd(data)\n",
      "print(paste(\"Mean:\", mean_data))\n",
      "print(paste(\"Standard Deviation:\", sd_data))\n",
      "```\n",
      "\n",
      "18. Instruction:  Compose a Python script that extracts all links from a given HTML string.\n",
      "18. Input: \"<p>This is a paragraph with a <a href='https://www.example.com'>link</a> and another <a href='http://another-site.net'>link</a>.</p>\"\n",
      "18. Output:\n",
      "```python\n",
      "import re\n",
      "html = \"<p>This is a paragraph with a <a href='https://www.example.com'>link</a> and another <a href='http://another-site.net'>link</a>.</p>\"\n",
      "links = re.findall(r'href=[\\'\"]?([^\\'\"]+)[\\'\"]?', html)\n",
      "print(links) # Output: ['https://www.example.com', 'http://another-site.net']\n",
      "```\n",
      "\n",
      "\n",
      "19. Instruction:  Figure out  a way to implement a simple stack data structure using Python lists.\n",
      "19. Input: <noinput>\n",
      "19. Output:\n",
      "```python\n",
      "class Stack:\n",
      "    def __init__(self):\n",
      "        self.items = []\n",
      "\n",
      "    def push(self, item):\n",
      "        self.items.append(item)\n",
      "\n",
      "    def pop(self):\n",
      "        if not self.is_empty():\n",
      "            return self.items.pop()\n",
      "        else:\n",
      "            return None\n",
      "\n",
      "    def peek(self):\n",
      "        if not self.is_empty():\n",
      "            return self.items[-1]\n",
      "        else:\n",
      "            return None\n",
      "\n",
      "    def is_empty(self):\n",
      "        return len(self.items) == 0\n",
      "\n",
      "    def size(self):\n",
      "        return len(self.items)\n",
      "```\n",
      "\n"
     ]
    }
   ],
   "source": [
    "print(result[\"text\"])"
   ]
  },
  {
   "cell_type": "code",
   "execution_count": 67,
   "id": "fed19e55-a3fc-4329-a7fc-553a865cc5f4",
   "metadata": {},
   "outputs": [
    {
     "data": {
      "text/plain": [
       "[{'text': '###\\n4. Instruction:  Develop a Python function that identifies and extracts all email addresses from a given text string.\\n4. Input:  \"Contact us at support@example.com for assistance, or email sales@example.org for inquiries.  Another email: help.desk@example.co.uk\"\\n4. Output:\\n```python\\nimport re\\n\\ndef extract_emails(text):\\n  \"\"\"Extracts all email addresses from a given text string.\"\"\"\\n  email_regex = r\"[a-zA-Z0-9._%+-]+@[a-zA-Z0-9.-]+\\\\.[a-zA-Z]{2,}\"\\n  emails = re.findall(email_regex, text)\\n  return emails\\n\\ntext = \"Contact us at support@example.com for assistance, or email sales@example.org for inquiries.  Another email: help.desk@example.co.uk\"\\nprint(extract_emails(text))\\n```\\n###\\n5. Instruction:  Construct a JavaScript function to reverse a given string.\\n5. Input: <noinput>\\n5. Output:\\n```javascript\\nfunction reverseString(str) {\\n  return str.split(\"\").reverse().join(\"\");\\n}\\n```\\n###\\n6. Instruction:  Can you create a Java method that checks if a given number is a prime number?\\n6. Input: <noinput>\\n6. Output:\\n```java\\nclass PrimeChecker {\\n    public static boolean isPrime(int num) {\\n        if (num <= 1) return false;\\n        for (int i = 2; i <= Math.sqrt(num); i++) {\\n            if (num % i == 0) return false;\\n        }\\n        return true;\\n    }\\n}\\n```\\n###\\n7. Instruction:  Design a C# program that converts Celsius to Fahrenheit.\\n7. Input: <noinput>\\n7. Output:\\n```csharp\\nusing System;\\n\\npublic class CelsiusToFahrenheit\\n{\\n    public static double ConvertCelsiusToFahrenheit(double celsius)\\n    {\\n        return (celsius * 9 / 5) + 32;\\n    }\\n\\n    public static void Main(string[] args)\\n    {\\n        Console.WriteLine(\"Enter temperature in Celsius:\");\\n        double celsius = double.Parse(Console.ReadLine());\\n        double fahrenheit = ConvertCelsiusToFahrenheit(celsius);\\n        Console.WriteLine($\"{celsius} Celsius is equal to {fahrenheit} Fahrenheit\");\\n    }\\n}\\n```\\n###\\n8. Instruction:  Amend this SQL query to include a WHERE clause filtering for orders placed after January 1st, 2023.\\n8. Input: `SELECT * FROM Orders;`\\n8. Output: `SELECT * FROM Orders WHERE OrderDate > \\'2023-01-01\\';`\\n###\\n9. Instruction:  Generate a PHP script that displays \"Hello, World!\"\\n9. Input: <noinput>\\n9. Output:\\n```php\\n<?php\\necho \"Hello, World!\";\\n?>\\n```\\n###\\n10. Instruction:  Optimize this Python code for better performance.\\n10. Input:\\n```python\\ndef slow_function(data):\\n    result = []\\n    for item in data:\\n        if item > 10:\\n            result.append(item * 2)\\n    return result\\n```\\n10. Output:\\n```python\\ndef fast_function(data):\\n    return [item * 2 for item in data if item > 10]\\n```\\n###\\n11. Instruction:  Compose a Go function to calculate the factorial of a given integer.\\n11. Input: <noinput>\\n11. Output:\\n```go\\npackage main\\n\\nimport \"fmt\"\\n\\nfunc factorial(n int) int {\\n    if n == 0 {\\n        return 1\\n    }\\n    return n * factorial(n-1)\\n}\\n\\nfunc main() {\\n    fmt.Println(factorial(5)) // Output: 120\\n}\\n\\n```\\n###\\n12. Instruction:  Illustrate how to implement a simple linked list in C++.\\n12. Input: <noinput>\\n12. Output:\\n```cpp\\n#include <iostream>\\n\\nstruct Node {\\n    int data;\\n    Node* next;\\n};\\n\\nint main() {\\n    Node* head = new Node;\\n    head->data = 10;\\n    head->next = nullptr;\\n\\n    Node* second = new Node;\\n    second->data = 20;\\n    second->next = nullptr;\\n\\n    head->next = second;\\n\\n    std::cout << head->data << \" \" << head->next->data << std::endl; //Output: 10 20\\n\\n    return 0;\\n}\\n```\\n###\\n13. Instruction:  Figure out a Ruby method that sorts an array of numbers in ascending order.\\n13. Input: <noinput>\\n13. Output:\\n```ruby\\ndef sort_numbers(numbers)\\n  numbers.sort\\nend\\n```\\n###\\n14. Instruction:  Create a Python script that reads data from a CSV file and prints it to the console.\\n14. Input:  (Assume a CSV file named \"data.csv\" exists with the following contents: Name,Age,City\\\\nJohn,30,New York\\\\nJane,25,London) <noinput>\\n14. Output:\\n```python\\nimport csv\\n\\nwith open(\\'data.csv\\', \\'r\\') as file:\\n    reader = csv.reader(file)\\n    for row in reader:\\n        print(row)\\n```\\n###\\n15. Instruction:  Write a PowerShell script to list all files in a specific directory.\\n15. Input: <noinput>\\n15. Output:\\n```powershell\\nGet-ChildItem -Path \"C:\\\\path\\\\to\\\\your\\\\directory\"\\n```\\n###\\n16. Instruction:  What\\'s the Kotlin code to find the largest number in an array?\\n16. Input: <noinput>\\n16. Output:\\n```kotlin\\nfun findLargest(numbers: IntArray): Int {\\n    return numbers.maxOrNull() ?: 0 //Returns 0 if the array is empty\\n}\\n```\\n###\\n17. Instruction:  Build a function using Swift that calculates the area of a circle given its radius.\\n17. Input: <noinput>\\n17. Output:\\n```swift\\nfunc calculateCircleArea(radius: Double) -> Double {\\n    return Double.pi * radius * radius\\n}\\n```\\n###\\n18. Instruction:  Describe how to use regular expressions in Perl to match a specific pattern within a string.\\n18. Input:  Find all occurrences of words starting with \"a\" in the string \"apple, apricot, banana, avocado\".\\n18. Output:\\n```perl\\nmy $string = \"apple, apricot, banana, avocado\";\\nmy @matches = $string =~ /\\\\b\\\\w*a\\\\w*\\\\b/g;\\nprint join(\", \", @matches); # Output: apple, apricot, avocado\\n\\n```\\n###\\n19. Instruction:  Develop a MATLAB function that computes the mean of a given vector.\\n19. Input: <noinput>\\n19. Output:\\n```matlab\\nfunction meanValue = computeMean(vector)\\n  meanValue = mean(vector);\\nend\\n```\\n###',\n",
       "  'total_tokens': 2373}]"
      ]
     },
     "execution_count": 67,
     "metadata": {},
     "output_type": "execute_result"
    }
   ],
   "source": [
    "completions"
   ]
  },
  {
   "cell_type": "code",
   "execution_count": 30,
   "id": "8388c93e-0450-44f1-bf40-1670838185fa",
   "metadata": {},
   "outputs": [],
   "source": [
    "results = completions"
   ]
  },
  {
   "cell_type": "markdown",
   "id": "43bf4fe7-87c7-49b3-991a-b7604f9ef7c7",
   "metadata": {},
   "source": [
    "# Helper functions"
   ]
  },
  {
   "cell_type": "code",
   "execution_count": 50,
   "id": "e46f7058-a24d-4bd7-b19a-88f324d236b3",
   "metadata": {},
   "outputs": [],
   "source": [
    "def post_process_gpt3_response(num_prompt_instructions, response):\n",
    "    if response is None:\n",
    "        return []\n",
    "    raw_instructions = f\"{num_prompt_instructions+1}. Instruction:\" + response[\"text\"]\n",
    "    raw_instructions = re.split(\"###\", raw_instructions)\n",
    "    instructions = []\n",
    "    for idx, inst in enumerate(raw_instructions):\n",
    "        # if the decoding stops due to length, the last example is likely truncated so we discard it\n",
    "        # if idx == len(raw_instructions) - 1 and response[\"finish_reason\"] == \"length\":\n",
    "        #     continue\n",
    "        idx += num_prompt_instructions + 1\n",
    "        splitted_data = re.split(f\"{idx}\\.\\s+(Instruction|Input|Output):\", inst)\n",
    "        if len(splitted_data) != 7:\n",
    "            continue\n",
    "        else:\n",
    "            inst = splitted_data[2].strip()\n",
    "            input = splitted_data[4].strip()\n",
    "            input = \"\" if input.lower() == \"<noinput>\" else input\n",
    "            output = splitted_data[6].strip()\n",
    "        # filter out too short or too long instructions\n",
    "        if len(inst.split()) <= 3 or len(inst.split()) > 150:\n",
    "            continue\n",
    "        # filter based on keywords that are not suitable for language models.\n",
    "        blacklist = [\n",
    "            \"image\",\n",
    "            \"images\",\n",
    "            \"graph\",\n",
    "            \"graphs\",\n",
    "            \"picture\",\n",
    "            \"pictures\",\n",
    "            \"file\",\n",
    "            \"files\",\n",
    "            \"map\",\n",
    "            \"maps\",\n",
    "            \"draw\",\n",
    "            \"plot\",\n",
    "            \"go to\",\n",
    "            \"video\",\n",
    "            \"audio\",\n",
    "            \"music\",\n",
    "            \"flowchart\",\n",
    "            \"diagram\",\n",
    "        ]\n",
    "        blacklist += []\n",
    "        if any(find_word_in_string(word, inst) for word in blacklist):\n",
    "            continue\n",
    "        # We found that the model tends to add \"write a program\" to some existing instructions, which lead to a lot of such instructions.\n",
    "        # And it's a bit comfusing whether the model need to write a program or directly output the result.\n",
    "        # Here we filter them out.\n",
    "        # Note this is not a comprehensive filtering for all programming instructions.\n",
    "        if inst.startswith(\"Write a program\"):\n",
    "            continue\n",
    "        # filter those starting with punctuation\n",
    "        if inst[0] in string.punctuation:\n",
    "            continue\n",
    "        # filter those starting with non-english character\n",
    "        if not inst[0].isascii():\n",
    "            continue\n",
    "        instructions.append({\"instruction\": inst, \"input\": input, \"output\": output})\n",
    "    return instructions"
   ]
  },
  {
   "cell_type": "code",
   "execution_count": 49,
   "id": "659feb46-e28b-4738-b9a5-5e95d9e899bf",
   "metadata": {},
   "outputs": [
    {
     "ename": "NameError",
     "evalue": "name 'post_process_gpt3_response' is not defined",
     "output_type": "error",
     "traceback": [
      "\u001b[0;31m---------------------------------------------------------------------------\u001b[0m",
      "\u001b[0;31mNameError\u001b[0m                                 Traceback (most recent call last)",
      "Cell \u001b[0;32mIn[49], line 4\u001b[0m\n\u001b[1;32m      1\u001b[0m instruction_data \u001b[38;5;241m=\u001b[39m []\n\u001b[1;32m      3\u001b[0m \u001b[38;5;28;01mfor\u001b[39;00m result \u001b[38;5;129;01min\u001b[39;00m results:\n\u001b[0;32m----> 4\u001b[0m     new_instructions \u001b[38;5;241m=\u001b[39m \u001b[43mpost_process_gpt3_response\u001b[49m(\n\u001b[1;32m      5\u001b[0m         num_prompt_instructions, result\n\u001b[1;32m      6\u001b[0m     )\n\u001b[1;32m      7\u001b[0m     instruction_data \u001b[38;5;241m+\u001b[39m\u001b[38;5;241m=\u001b[39m new_instructions\n",
      "\u001b[0;31mNameError\u001b[0m: name 'post_process_gpt3_response' is not defined"
     ]
    }
   ],
   "source": [
    "instruction_data = []\n",
    "\n",
    "for result in results:\n",
    "    new_instructions = post_process_gpt3_response(\n",
    "        num_prompt_instructions, result\n",
    "    )\n",
    "    instruction_data += new_instructions"
   ]
  },
  {
   "cell_type": "markdown",
   "id": "bc0eaf84-b0f3-431e-aace-bd260602b3d0",
   "metadata": {},
   "source": [
    "# WTF ?? "
   ]
  },
  {
   "cell_type": "code",
   "execution_count": 72,
   "id": "90138dee-4dbd-4b38-b37c-4553d729ce36",
   "metadata": {},
   "outputs": [
    {
     "data": {
      "text/plain": [
       "[]"
      ]
     },
     "execution_count": 72,
     "metadata": {},
     "output_type": "execute_result"
    }
   ],
   "source": [
    "j = post_process_gpt3_response(num_prompt_instructions, results[0])\n",
    "a"
   ]
  },
  {
   "cell_type": "code",
   "execution_count": 31,
   "id": "9a7fd30c-e930-450e-8872-1ae12ad8b0af",
   "metadata": {},
   "outputs": [
    {
     "data": {
      "text/plain": [
       "{'text': '4. Instruction:  Develop a JavaScript function that checks if a given string is a palindrome (reads the same backward as forward), ignoring case and non-alphanumeric characters.\\n4. Input: \"A man, a plan, a canal: Panama\"\\n4. Output: \\n```javascript\\nfunction isPalindrome(str) {\\n  // Remove non-alphanumeric characters and convert to lowercase\\n  str = str.toLowerCase().replace(/[^a-z0-9]/g, \"\");\\n  \\n  // Reverse the string\\n  const reversedStr = str.split(\"\").reverse().join(\"\");\\n  \\n  // Check if the string is equal to its reverse\\n  return str === reversedStr;\\n}\\n\\nconsole.log(isPalindrome(\"A man, a plan, a canal: Panama\")); // true\\n```\\n\\n5. Instruction:  Construct a Python program that reads a CSV file and calculates the average of a specified column.  Assume the file uses a comma as a delimiter.\\n5. Input:  \"data.csv: Name,Age,Score\\\\nAlice,25,85\\\\nBob,30,92\\\\nCharlie,28,78\"\\n5. Output:\\n```python\\nimport csv\\n\\ndef calculate_average(filename, column_name):\\n    with open(filename, \\'r\\') as file:\\n        reader = csv.DictReader(file)\\n        column_data = [float(row[column_name]) for row in reader]\\n        average = sum(column_data) / len(column_data)\\n        return average\\n\\nfilename = \"data.csv\"\\ncolumn_name = \"Score\"\\naverage_score = calculate_average(filename, column_name)\\nprint(f\"The average {column_name} is: {average_score}\")\\n\\n```\\n\\n6. Instruction:  Show me how to create a Java method that converts a given integer to its binary representation as a string.\\n6. Input: <noinput>\\n6. Output:\\n```java\\nclass IntegerToBinary {\\n    public static String intToBinary(int n) {\\n        return Integer.toBinaryString(n);\\n    }\\n\\n    public static void main(String[] args) {\\n        System.out.println(intToBinary(10)); // Output: 1010\\n        System.out.println(intToBinary(255)); // Output: 11111111\\n    }\\n}\\n```\\n\\n\\n7. Instruction: Refactor the following PHP code to improve its readability and efficiency.\\n7. Input:  `<?php $arr = array(1,2,3,4,5); foreach($arr as $value){ echo $value * 2 . \"<br>\"; } ?>`\\n7. Output:\\n```php\\n<?php\\n$arr = [1, 2, 3, 4, 5];\\narray_map(function ($value) { echo $value * 2 . \"<br>\"; }, $arr); \\n?>\\n```\\n\\n8. Instruction:  Design a C++ function that determines whether a given year is a leap year.\\n8. Input: <noinput>\\n8. Output:\\n```c++\\nbool isLeapYear(int year) {\\n  return (year % 4 == 0 && year % 100 != 0) || (year % 400 == 0);\\n}\\n```\\n\\n9. Instruction:  Optimize this piece of Python code for speed.\\n9. Input:  ```python\\ndef slow_function(data):\\n    result = []\\n    for item in data:\\n        if item > 10:\\n            result.append(item * 2)\\n    return result\\n```\\n9. Output:\\n```python\\ndef fast_function(data):\\n    return [item * 2 for item in data if item > 10]\\n```\\n\\n10. Instruction:  Could you craft a SQL query to retrieve all records from a table named \\'users\\' where the \\'city\\' column is \\'London\\'?\\n10. Input: <noinput>\\n10. Output:  `SELECT * FROM users WHERE city = \\'London\\';`\\n\\n11. Instruction:  Amend this Ruby code to handle potential errors gracefully.\\n11. Input: `file = File.open(\"my_file.txt\", \"r\"); puts file.read; file.close;`\\n11. Output:\\n```ruby\\nbegin\\n  file = File.open(\"my_file.txt\", \"r\")\\n  puts file.read\\nensure\\n  file.close if file\\nend\\n```\\n\\n\\n12. Instruction:  Illustrate how to use regular expressions in Python to extract email addresses from a given text string.\\n12. Input: \"Contact us at support@example.com or sales@example.org for assistance.\"\\n12. Output:\\n```python\\nimport re\\n\\ntext = \"Contact us at support@example.com or sales@example.org for assistance.\"\\nemail_regex = r\"[a-zA-Z0-9._%+-]+@[a-zA-Z0-9.-]+\\\\.[a-zA-Z]{2,}\"\\nemails = re.findall(email_regex, text)\\nprint(emails)  # Output: [\\'support@example.com\\', \\'sales@example.org\\']\\n```\\n\\n13. Instruction:  Generate a Go function that calculates the factorial of a given non-negative integer.\\n13. Input: <noinput>\\n13. Output:\\n```go\\nfunc factorial(n int) (int, error) {\\n    if n < 0 {\\n        return 0, errors.New(\"factorial is not defined for negative numbers\")\\n    }\\n    if n == 0 {\\n        return 1, nil\\n    }\\n    result := 1\\n    for i := 1; i <= n; i++ {\\n        result *= i\\n    }\\n    return result, nil\\n}\\n```\\n\\n14. Instruction:  Write a PowerShell script to list all files in a specified directory.\\n14. Input:  <noinput>\\n14. Output: `Get-ChildItem -Path C:\\\\path\\\\to\\\\directory`\\n\\n15. Instruction:  Create a Kotlin function to sort an array of integers in ascending order.\\n15. Input: <noinput>\\n15. Output:\\n```kotlin\\nfun sortIntegers(arr: IntArray): IntArray {\\n    return arr.sortedArray()\\n}\\n\\n```\\n\\n16. Instruction:  Develop a Swift function that converts a given temperature from Celsius to Fahrenheit.\\n16. Input: <noinput>\\n16. Output:\\n```swift\\nfunc celsiusToFahrenheit(celsius: Double) -> Double {\\n  return (celsius * 9/5) + 32\\n}\\n```\\n\\n17. Instruction:  Build a small program in R to calculate the mean and standard deviation of a vector of numbers.\\n17. Input: c(10, 12, 15, 18, 20)\\n17. Output:\\n```R\\ndata <- c(10, 12, 15, 18, 20)\\nmean_data <- mean(data)\\nsd_data <- sd(data)\\nprint(paste(\"Mean:\", mean_data))\\nprint(paste(\"Standard Deviation:\", sd_data))\\n```\\n\\n18. Instruction:  Compose a Python script that extracts all links from a given HTML string.\\n18. Input: \"<p>This is a paragraph with a <a href=\\'https://www.example.com\\'>link</a> and another <a href=\\'http://another-site.net\\'>link</a>.</p>\"\\n18. Output:\\n```python\\nimport re\\nhtml = \"<p>This is a paragraph with a <a href=\\'https://www.example.com\\'>link</a> and another <a href=\\'http://another-site.net\\'>link</a>.</p>\"\\nlinks = re.findall(r\\'href=[\\\\\\'\"]?([^\\\\\\'\"]+)[\\\\\\'\"]?\\', html)\\nprint(links) # Output: [\\'https://www.example.com\\', \\'http://another-site.net\\']\\n```\\n\\n\\n19. Instruction:  Figure out  a way to implement a simple stack data structure using Python lists.\\n19. Input: <noinput>\\n19. Output:\\n```python\\nclass Stack:\\n    def __init__(self):\\n        self.items = []\\n\\n    def push(self, item):\\n        self.items.append(item)\\n\\n    def pop(self):\\n        if not self.is_empty():\\n            return self.items.pop()\\n        else:\\n            return None\\n\\n    def peek(self):\\n        if not self.is_empty():\\n            return self.items[-1]\\n        else:\\n            return None\\n\\n    def is_empty(self):\\n        return len(self.items) == 0\\n\\n    def size(self):\\n        return len(self.items)\\n```\\n',\n",
       " 'total_tokens': 2728}"
      ]
     },
     "execution_count": 31,
     "metadata": {},
     "output_type": "execute_result"
    }
   ],
   "source": [
    "response = results[0]\n",
    "response"
   ]
  },
  {
   "cell_type": "code",
   "execution_count": 32,
   "id": "a2d9b2f2-c785-4b52-8400-dd34f1c1b65a",
   "metadata": {},
   "outputs": [],
   "source": [
    "if response is None:\n",
    "    output = []"
   ]
  },
  {
   "cell_type": "code",
   "execution_count": 33,
   "id": "e743369c-7f1d-46d6-9bdb-bdd9816dd4a9",
   "metadata": {},
   "outputs": [],
   "source": [
    "# get all result instructions\n",
    "# raw_instructions = f\"{num_prompt_instructions+1}. Instruction:\" + response[\"text\"]\n",
    "raw_instructions = response[\"text\"]\n",
    "raw_instructions = re.split(\"###\", raw_instructions)"
   ]
  },
  {
   "cell_type": "markdown",
   "id": "629ded8f-054b-4cf9-b493-2ae25b262dde",
   "metadata": {},
   "source": [
    "# Remember remove '' elemment from raw_instructions"
   ]
  },
  {
   "cell_type": "code",
   "execution_count": 34,
   "id": "244ab6ee-c218-4210-9503-afb6b8b09e9a",
   "metadata": {},
   "outputs": [
    {
     "data": {
      "text/plain": [
       "['4. Instruction:  Develop a JavaScript function that checks if a given string is a palindrome (reads the same backward as forward), ignoring case and non-alphanumeric characters.\\n4. Input: \"A man, a plan, a canal: Panama\"\\n4. Output: \\n```javascript\\nfunction isPalindrome(str) {\\n  // Remove non-alphanumeric characters and convert to lowercase\\n  str = str.toLowerCase().replace(/[^a-z0-9]/g, \"\");\\n  \\n  // Reverse the string\\n  const reversedStr = str.split(\"\").reverse().join(\"\");\\n  \\n  // Check if the string is equal to its reverse\\n  return str === reversedStr;\\n}\\n\\nconsole.log(isPalindrome(\"A man, a plan, a canal: Panama\")); // true\\n```\\n\\n5. Instruction:  Construct a Python program that reads a CSV file and calculates the average of a specified column.  Assume the file uses a comma as a delimiter.\\n5. Input:  \"data.csv: Name,Age,Score\\\\nAlice,25,85\\\\nBob,30,92\\\\nCharlie,28,78\"\\n5. Output:\\n```python\\nimport csv\\n\\ndef calculate_average(filename, column_name):\\n    with open(filename, \\'r\\') as file:\\n        reader = csv.DictReader(file)\\n        column_data = [float(row[column_name]) for row in reader]\\n        average = sum(column_data) / len(column_data)\\n        return average\\n\\nfilename = \"data.csv\"\\ncolumn_name = \"Score\"\\naverage_score = calculate_average(filename, column_name)\\nprint(f\"The average {column_name} is: {average_score}\")\\n\\n```\\n\\n6. Instruction:  Show me how to create a Java method that converts a given integer to its binary representation as a string.\\n6. Input: <noinput>\\n6. Output:\\n```java\\nclass IntegerToBinary {\\n    public static String intToBinary(int n) {\\n        return Integer.toBinaryString(n);\\n    }\\n\\n    public static void main(String[] args) {\\n        System.out.println(intToBinary(10)); // Output: 1010\\n        System.out.println(intToBinary(255)); // Output: 11111111\\n    }\\n}\\n```\\n\\n\\n7. Instruction: Refactor the following PHP code to improve its readability and efficiency.\\n7. Input:  `<?php $arr = array(1,2,3,4,5); foreach($arr as $value){ echo $value * 2 . \"<br>\"; } ?>`\\n7. Output:\\n```php\\n<?php\\n$arr = [1, 2, 3, 4, 5];\\narray_map(function ($value) { echo $value * 2 . \"<br>\"; }, $arr); \\n?>\\n```\\n\\n8. Instruction:  Design a C++ function that determines whether a given year is a leap year.\\n8. Input: <noinput>\\n8. Output:\\n```c++\\nbool isLeapYear(int year) {\\n  return (year % 4 == 0 && year % 100 != 0) || (year % 400 == 0);\\n}\\n```\\n\\n9. Instruction:  Optimize this piece of Python code for speed.\\n9. Input:  ```python\\ndef slow_function(data):\\n    result = []\\n    for item in data:\\n        if item > 10:\\n            result.append(item * 2)\\n    return result\\n```\\n9. Output:\\n```python\\ndef fast_function(data):\\n    return [item * 2 for item in data if item > 10]\\n```\\n\\n10. Instruction:  Could you craft a SQL query to retrieve all records from a table named \\'users\\' where the \\'city\\' column is \\'London\\'?\\n10. Input: <noinput>\\n10. Output:  `SELECT * FROM users WHERE city = \\'London\\';`\\n\\n11. Instruction:  Amend this Ruby code to handle potential errors gracefully.\\n11. Input: `file = File.open(\"my_file.txt\", \"r\"); puts file.read; file.close;`\\n11. Output:\\n```ruby\\nbegin\\n  file = File.open(\"my_file.txt\", \"r\")\\n  puts file.read\\nensure\\n  file.close if file\\nend\\n```\\n\\n\\n12. Instruction:  Illustrate how to use regular expressions in Python to extract email addresses from a given text string.\\n12. Input: \"Contact us at support@example.com or sales@example.org for assistance.\"\\n12. Output:\\n```python\\nimport re\\n\\ntext = \"Contact us at support@example.com or sales@example.org for assistance.\"\\nemail_regex = r\"[a-zA-Z0-9._%+-]+@[a-zA-Z0-9.-]+\\\\.[a-zA-Z]{2,}\"\\nemails = re.findall(email_regex, text)\\nprint(emails)  # Output: [\\'support@example.com\\', \\'sales@example.org\\']\\n```\\n\\n13. Instruction:  Generate a Go function that calculates the factorial of a given non-negative integer.\\n13. Input: <noinput>\\n13. Output:\\n```go\\nfunc factorial(n int) (int, error) {\\n    if n < 0 {\\n        return 0, errors.New(\"factorial is not defined for negative numbers\")\\n    }\\n    if n == 0 {\\n        return 1, nil\\n    }\\n    result := 1\\n    for i := 1; i <= n; i++ {\\n        result *= i\\n    }\\n    return result, nil\\n}\\n```\\n\\n14. Instruction:  Write a PowerShell script to list all files in a specified directory.\\n14. Input:  <noinput>\\n14. Output: `Get-ChildItem -Path C:\\\\path\\\\to\\\\directory`\\n\\n15. Instruction:  Create a Kotlin function to sort an array of integers in ascending order.\\n15. Input: <noinput>\\n15. Output:\\n```kotlin\\nfun sortIntegers(arr: IntArray): IntArray {\\n    return arr.sortedArray()\\n}\\n\\n```\\n\\n16. Instruction:  Develop a Swift function that converts a given temperature from Celsius to Fahrenheit.\\n16. Input: <noinput>\\n16. Output:\\n```swift\\nfunc celsiusToFahrenheit(celsius: Double) -> Double {\\n  return (celsius * 9/5) + 32\\n}\\n```\\n\\n17. Instruction:  Build a small program in R to calculate the mean and standard deviation of a vector of numbers.\\n17. Input: c(10, 12, 15, 18, 20)\\n17. Output:\\n```R\\ndata <- c(10, 12, 15, 18, 20)\\nmean_data <- mean(data)\\nsd_data <- sd(data)\\nprint(paste(\"Mean:\", mean_data))\\nprint(paste(\"Standard Deviation:\", sd_data))\\n```\\n\\n18. Instruction:  Compose a Python script that extracts all links from a given HTML string.\\n18. Input: \"<p>This is a paragraph with a <a href=\\'https://www.example.com\\'>link</a> and another <a href=\\'http://another-site.net\\'>link</a>.</p>\"\\n18. Output:\\n```python\\nimport re\\nhtml = \"<p>This is a paragraph with a <a href=\\'https://www.example.com\\'>link</a> and another <a href=\\'http://another-site.net\\'>link</a>.</p>\"\\nlinks = re.findall(r\\'href=[\\\\\\'\"]?([^\\\\\\'\"]+)[\\\\\\'\"]?\\', html)\\nprint(links) # Output: [\\'https://www.example.com\\', \\'http://another-site.net\\']\\n```\\n\\n\\n19. Instruction:  Figure out  a way to implement a simple stack data structure using Python lists.\\n19. Input: <noinput>\\n19. Output:\\n```python\\nclass Stack:\\n    def __init__(self):\\n        self.items = []\\n\\n    def push(self, item):\\n        self.items.append(item)\\n\\n    def pop(self):\\n        if not self.is_empty():\\n            return self.items.pop()\\n        else:\\n            return None\\n\\n    def peek(self):\\n        if not self.is_empty():\\n            return self.items[-1]\\n        else:\\n            return None\\n\\n    def is_empty(self):\\n        return len(self.items) == 0\\n\\n    def size(self):\\n        return len(self.items)\\n```\\n']"
      ]
     },
     "execution_count": 34,
     "metadata": {},
     "output_type": "execute_result"
    }
   ],
   "source": [
    "raw_instructions"
   ]
  },
  {
   "cell_type": "code",
   "execution_count": 35,
   "id": "b8a9b23a-7a83-4071-b1b5-e368e0ebd448",
   "metadata": {},
   "outputs": [],
   "source": [
    "instructions = []\n",
    "\n",
    "for idx, inst in enumerate(raw_instructions):\n",
    "    if idx == 1:\n",
    "        break"
   ]
  },
  {
   "cell_type": "code",
   "execution_count": 36,
   "id": "b7494a2f-13cf-4801-844a-4a8bd9a87555",
   "metadata": {},
   "outputs": [
    {
     "data": {
      "text/plain": [
       "'4. Instruction:  Develop a JavaScript function that checks if a given string is a palindrome (reads the same backward as forward), ignoring case and non-alphanumeric characters.\\n4. Input: \"A man, a plan, a canal: Panama\"\\n4. Output: \\n```javascript\\nfunction isPalindrome(str) {\\n  // Remove non-alphanumeric characters and convert to lowercase\\n  str = str.toLowerCase().replace(/[^a-z0-9]/g, \"\");\\n  \\n  // Reverse the string\\n  const reversedStr = str.split(\"\").reverse().join(\"\");\\n  \\n  // Check if the string is equal to its reverse\\n  return str === reversedStr;\\n}\\n\\nconsole.log(isPalindrome(\"A man, a plan, a canal: Panama\")); // true\\n```\\n\\n5. Instruction:  Construct a Python program that reads a CSV file and calculates the average of a specified column.  Assume the file uses a comma as a delimiter.\\n5. Input:  \"data.csv: Name,Age,Score\\\\nAlice,25,85\\\\nBob,30,92\\\\nCharlie,28,78\"\\n5. Output:\\n```python\\nimport csv\\n\\ndef calculate_average(filename, column_name):\\n    with open(filename, \\'r\\') as file:\\n        reader = csv.DictReader(file)\\n        column_data = [float(row[column_name]) for row in reader]\\n        average = sum(column_data) / len(column_data)\\n        return average\\n\\nfilename = \"data.csv\"\\ncolumn_name = \"Score\"\\naverage_score = calculate_average(filename, column_name)\\nprint(f\"The average {column_name} is: {average_score}\")\\n\\n```\\n\\n6. Instruction:  Show me how to create a Java method that converts a given integer to its binary representation as a string.\\n6. Input: <noinput>\\n6. Output:\\n```java\\nclass IntegerToBinary {\\n    public static String intToBinary(int n) {\\n        return Integer.toBinaryString(n);\\n    }\\n\\n    public static void main(String[] args) {\\n        System.out.println(intToBinary(10)); // Output: 1010\\n        System.out.println(intToBinary(255)); // Output: 11111111\\n    }\\n}\\n```\\n\\n\\n7. Instruction: Refactor the following PHP code to improve its readability and efficiency.\\n7. Input:  `<?php $arr = array(1,2,3,4,5); foreach($arr as $value){ echo $value * 2 . \"<br>\"; } ?>`\\n7. Output:\\n```php\\n<?php\\n$arr = [1, 2, 3, 4, 5];\\narray_map(function ($value) { echo $value * 2 . \"<br>\"; }, $arr); \\n?>\\n```\\n\\n8. Instruction:  Design a C++ function that determines whether a given year is a leap year.\\n8. Input: <noinput>\\n8. Output:\\n```c++\\nbool isLeapYear(int year) {\\n  return (year % 4 == 0 && year % 100 != 0) || (year % 400 == 0);\\n}\\n```\\n\\n9. Instruction:  Optimize this piece of Python code for speed.\\n9. Input:  ```python\\ndef slow_function(data):\\n    result = []\\n    for item in data:\\n        if item > 10:\\n            result.append(item * 2)\\n    return result\\n```\\n9. Output:\\n```python\\ndef fast_function(data):\\n    return [item * 2 for item in data if item > 10]\\n```\\n\\n10. Instruction:  Could you craft a SQL query to retrieve all records from a table named \\'users\\' where the \\'city\\' column is \\'London\\'?\\n10. Input: <noinput>\\n10. Output:  `SELECT * FROM users WHERE city = \\'London\\';`\\n\\n11. Instruction:  Amend this Ruby code to handle potential errors gracefully.\\n11. Input: `file = File.open(\"my_file.txt\", \"r\"); puts file.read; file.close;`\\n11. Output:\\n```ruby\\nbegin\\n  file = File.open(\"my_file.txt\", \"r\")\\n  puts file.read\\nensure\\n  file.close if file\\nend\\n```\\n\\n\\n12. Instruction:  Illustrate how to use regular expressions in Python to extract email addresses from a given text string.\\n12. Input: \"Contact us at support@example.com or sales@example.org for assistance.\"\\n12. Output:\\n```python\\nimport re\\n\\ntext = \"Contact us at support@example.com or sales@example.org for assistance.\"\\nemail_regex = r\"[a-zA-Z0-9._%+-]+@[a-zA-Z0-9.-]+\\\\.[a-zA-Z]{2,}\"\\nemails = re.findall(email_regex, text)\\nprint(emails)  # Output: [\\'support@example.com\\', \\'sales@example.org\\']\\n```\\n\\n13. Instruction:  Generate a Go function that calculates the factorial of a given non-negative integer.\\n13. Input: <noinput>\\n13. Output:\\n```go\\nfunc factorial(n int) (int, error) {\\n    if n < 0 {\\n        return 0, errors.New(\"factorial is not defined for negative numbers\")\\n    }\\n    if n == 0 {\\n        return 1, nil\\n    }\\n    result := 1\\n    for i := 1; i <= n; i++ {\\n        result *= i\\n    }\\n    return result, nil\\n}\\n```\\n\\n14. Instruction:  Write a PowerShell script to list all files in a specified directory.\\n14. Input:  <noinput>\\n14. Output: `Get-ChildItem -Path C:\\\\path\\\\to\\\\directory`\\n\\n15. Instruction:  Create a Kotlin function to sort an array of integers in ascending order.\\n15. Input: <noinput>\\n15. Output:\\n```kotlin\\nfun sortIntegers(arr: IntArray): IntArray {\\n    return arr.sortedArray()\\n}\\n\\n```\\n\\n16. Instruction:  Develop a Swift function that converts a given temperature from Celsius to Fahrenheit.\\n16. Input: <noinput>\\n16. Output:\\n```swift\\nfunc celsiusToFahrenheit(celsius: Double) -> Double {\\n  return (celsius * 9/5) + 32\\n}\\n```\\n\\n17. Instruction:  Build a small program in R to calculate the mean and standard deviation of a vector of numbers.\\n17. Input: c(10, 12, 15, 18, 20)\\n17. Output:\\n```R\\ndata <- c(10, 12, 15, 18, 20)\\nmean_data <- mean(data)\\nsd_data <- sd(data)\\nprint(paste(\"Mean:\", mean_data))\\nprint(paste(\"Standard Deviation:\", sd_data))\\n```\\n\\n18. Instruction:  Compose a Python script that extracts all links from a given HTML string.\\n18. Input: \"<p>This is a paragraph with a <a href=\\'https://www.example.com\\'>link</a> and another <a href=\\'http://another-site.net\\'>link</a>.</p>\"\\n18. Output:\\n```python\\nimport re\\nhtml = \"<p>This is a paragraph with a <a href=\\'https://www.example.com\\'>link</a> and another <a href=\\'http://another-site.net\\'>link</a>.</p>\"\\nlinks = re.findall(r\\'href=[\\\\\\'\"]?([^\\\\\\'\"]+)[\\\\\\'\"]?\\', html)\\nprint(links) # Output: [\\'https://www.example.com\\', \\'http://another-site.net\\']\\n```\\n\\n\\n19. Instruction:  Figure out  a way to implement a simple stack data structure using Python lists.\\n19. Input: <noinput>\\n19. Output:\\n```python\\nclass Stack:\\n    def __init__(self):\\n        self.items = []\\n\\n    def push(self, item):\\n        self.items.append(item)\\n\\n    def pop(self):\\n        if not self.is_empty():\\n            return self.items.pop()\\n        else:\\n            return None\\n\\n    def peek(self):\\n        if not self.is_empty():\\n            return self.items[-1]\\n        else:\\n            return None\\n\\n    def is_empty(self):\\n        return len(self.items) == 0\\n\\n    def size(self):\\n        return len(self.items)\\n```\\n'"
      ]
     },
     "execution_count": 36,
     "metadata": {},
     "output_type": "execute_result"
    }
   ],
   "source": [
    "inst"
   ]
  },
  {
   "cell_type": "code",
   "execution_count": 37,
   "id": "127931ff-9dd0-4dda-aba1-73d71601acf3",
   "metadata": {},
   "outputs": [],
   "source": [
    "# idx += num_prompt_instructions + 1\n",
    "idx = 4"
   ]
  },
  {
   "cell_type": "code",
   "execution_count": 38,
   "id": "a4a13673-3747-45b9-a45c-1bcf40070551",
   "metadata": {},
   "outputs": [],
   "source": [
    "splitted_data = re.split(f\"{idx}\\.\\s+(Instruction|Input|Output):\", inst)"
   ]
  },
  {
   "cell_type": "code",
   "execution_count": 39,
   "id": "ff8d103a-6def-4cc5-8360-1dbe0e16328f",
   "metadata": {},
   "outputs": [
    {
     "data": {
      "text/plain": [
       "'Input'"
      ]
     },
     "execution_count": 39,
     "metadata": {},
     "output_type": "execute_result"
    }
   ],
   "source": [
    "splitted_data[3]"
   ]
  },
  {
   "cell_type": "code",
   "execution_count": 50,
   "id": "34fc6207-ea0d-4053-a984-4ea57e2afb94",
   "metadata": {},
   "outputs": [],
   "source": [
    "if len(splitted_data) != 7:\n",
    "    pass\n",
    "else:\n",
    "    inst = splitted_data[2].strip()\n",
    "    input = splitted_data[4].strip()\n",
    "    input = \"\" if input.lower() == \"<noinput>\" else input\n",
    "    output = splitted_data[6].strip()"
   ]
  },
  {
   "cell_type": "code",
   "execution_count": 41,
   "id": "749a5f7a-f1ca-4b4d-9e27-b6e3aba7492d",
   "metadata": {},
   "outputs": [],
   "source": [
    "blacklist = [\n",
    "    \"image\",\n",
    "    \"images\",\n",
    "    \"graph\",\n",
    "    \"graphs\",\n",
    "    \"picture\",\n",
    "    \"pictures\",\n",
    "    \"file\",\n",
    "    \"files\",\n",
    "    \"map\",\n",
    "    \"maps\",\n",
    "    \"draw\",\n",
    "    \"plot\",\n",
    "    \"go to\",\n",
    "    \"video\",\n",
    "    \"audio\",\n",
    "    \"music\",\n",
    "    \"flowchart\",\n",
    "    \"diagram\",\n",
    "]\n",
    "blacklist += []"
   ]
  },
  {
   "cell_type": "code",
   "execution_count": 42,
   "id": "2f3116be-527e-44a2-bb69-bf3175417d5f",
   "metadata": {},
   "outputs": [],
   "source": [
    "def find_word_in_string(w, s):\n",
    "    return re.compile(r\"\\b({0})\\b\".format(w), flags=re.IGNORECASE).search(s)"
   ]
  },
  {
   "cell_type": "code",
   "execution_count": 43,
   "id": "66936662-195e-4feb-81b0-7bdc138a319f",
   "metadata": {},
   "outputs": [
    {
     "name": "stdout",
     "output_type": "stream",
     "text": [
      "black list\n"
     ]
    }
   ],
   "source": [
    "if any(find_word_in_string(word, inst) for word in blacklist):\n",
    "    print(\"black list\")"
   ]
  },
  {
   "cell_type": "code",
   "execution_count": 44,
   "id": "9dd6b825-6780-4062-86d2-a4e8cd9058be",
   "metadata": {},
   "outputs": [],
   "source": [
    "if inst.startswith(\"Write a program\"):\n",
    "    print(\"black list\")"
   ]
  },
  {
   "cell_type": "code",
   "execution_count": 46,
   "id": "367cf4c7-842f-406a-a66b-36b088624479",
   "metadata": {},
   "outputs": [],
   "source": [
    "import string\n",
    "\n",
    "if inst[0] in string.punctuation:\n",
    "    print(\"filter\")"
   ]
  },
  {
   "cell_type": "code",
   "execution_count": 47,
   "id": "afc45a76-31fc-40e2-afa9-9c38130f9848",
   "metadata": {},
   "outputs": [
    {
     "ename": "NameError",
     "evalue": "name 'output' is not defined",
     "output_type": "error",
     "traceback": [
      "\u001b[0;31m---------------------------------------------------------------------------\u001b[0m",
      "\u001b[0;31mNameError\u001b[0m                                 Traceback (most recent call last)",
      "Cell \u001b[0;32mIn[47], line 1\u001b[0m\n\u001b[0;32m----> 1\u001b[0m instructions\u001b[38;5;241m.\u001b[39mappend({\u001b[38;5;124m\"\u001b[39m\u001b[38;5;124minstruction\u001b[39m\u001b[38;5;124m\"\u001b[39m: inst, \u001b[38;5;124m\"\u001b[39m\u001b[38;5;124minput\u001b[39m\u001b[38;5;124m\"\u001b[39m: \u001b[38;5;28minput\u001b[39m, \u001b[38;5;124m\"\u001b[39m\u001b[38;5;124moutput\u001b[39m\u001b[38;5;124m\"\u001b[39m: \u001b[43moutput\u001b[49m})\n\u001b[1;32m      2\u001b[0m instructions\n",
      "\u001b[0;31mNameError\u001b[0m: name 'output' is not defined"
     ]
    }
   ],
   "source": [
    "instructions.append({\"instruction\": inst, \"input\": input, \"output\": output})\n",
    "instructions"
   ]
  },
  {
   "cell_type": "code",
   "execution_count": 51,
   "id": "4fdac984-9e57-4d29-9942-ac136fe011a1",
   "metadata": {},
   "outputs": [
    {
     "data": {
      "text/plain": [
       "'4. Instruction:  Develop a JavaScript function that checks if a given string is a palindrome (reads the same backward as forward), ignoring case and non-alphanumeric characters.\\n4. Input: \"A man, a plan, a canal: Panama\"\\n4. Output: \\n```javascript\\nfunction isPalindrome(str) {\\n  // Remove non-alphanumeric characters and convert to lowercase\\n  str = str.toLowerCase().replace(/[^a-z0-9]/g, \"\");\\n  \\n  // Reverse the string\\n  const reversedStr = str.split(\"\").reverse().join(\"\");\\n  \\n  // Check if the string is equal to its reverse\\n  return str === reversedStr;\\n}\\n\\nconsole.log(isPalindrome(\"A man, a plan, a canal: Panama\")); // true\\n```\\n\\n5. Instruction:  Construct a Python program that reads a CSV file and calculates the average of a specified column.  Assume the file uses a comma as a delimiter.\\n5. Input:  \"data.csv: Name,Age,Score\\\\nAlice,25,85\\\\nBob,30,92\\\\nCharlie,28,78\"\\n5. Output:\\n```python\\nimport csv\\n\\ndef calculate_average(filename, column_name):\\n    with open(filename, \\'r\\') as file:\\n        reader = csv.DictReader(file)\\n        column_data = [float(row[column_name]) for row in reader]\\n        average = sum(column_data) / len(column_data)\\n        return average\\n\\nfilename = \"data.csv\"\\ncolumn_name = \"Score\"\\naverage_score = calculate_average(filename, column_name)\\nprint(f\"The average {column_name} is: {average_score}\")\\n\\n```\\n\\n6. Instruction:  Show me how to create a Java method that converts a given integer to its binary representation as a string.\\n6. Input: <noinput>\\n6. Output:\\n```java\\nclass IntegerToBinary {\\n    public static String intToBinary(int n) {\\n        return Integer.toBinaryString(n);\\n    }\\n\\n    public static void main(String[] args) {\\n        System.out.println(intToBinary(10)); // Output: 1010\\n        System.out.println(intToBinary(255)); // Output: 11111111\\n    }\\n}\\n```\\n\\n\\n7. Instruction: Refactor the following PHP code to improve its readability and efficiency.\\n7. Input:  `<?php $arr = array(1,2,3,4,5); foreach($arr as $value){ echo $value * 2 . \"<br>\"; } ?>`\\n7. Output:\\n```php\\n<?php\\n$arr = [1, 2, 3, 4, 5];\\narray_map(function ($value) { echo $value * 2 . \"<br>\"; }, $arr); \\n?>\\n```\\n\\n8. Instruction:  Design a C++ function that determines whether a given year is a leap year.\\n8. Input: <noinput>\\n8. Output:\\n```c++\\nbool isLeapYear(int year) {\\n  return (year % 4 == 0 && year % 100 != 0) || (year % 400 == 0);\\n}\\n```\\n\\n9. Instruction:  Optimize this piece of Python code for speed.\\n9. Input:  ```python\\ndef slow_function(data):\\n    result = []\\n    for item in data:\\n        if item > 10:\\n            result.append(item * 2)\\n    return result\\n```\\n9. Output:\\n```python\\ndef fast_function(data):\\n    return [item * 2 for item in data if item > 10]\\n```\\n\\n10. Instruction:  Could you craft a SQL query to retrieve all records from a table named \\'users\\' where the \\'city\\' column is \\'London\\'?\\n10. Input: <noinput>\\n10. Output:  `SELECT * FROM users WHERE city = \\'London\\';`\\n\\n11. Instruction:  Amend this Ruby code to handle potential errors gracefully.\\n11. Input: `file = File.open(\"my_file.txt\", \"r\"); puts file.read; file.close;`\\n11. Output:\\n```ruby\\nbegin\\n  file = File.open(\"my_file.txt\", \"r\")\\n  puts file.read\\nensure\\n  file.close if file\\nend\\n```\\n\\n\\n12. Instruction:  Illustrate how to use regular expressions in Python to extract email addresses from a given text string.\\n12. Input: \"Contact us at support@example.com or sales@example.org for assistance.\"\\n12. Output:\\n```python\\nimport re\\n\\ntext = \"Contact us at support@example.com or sales@example.org for assistance.\"\\nemail_regex = r\"[a-zA-Z0-9._%+-]+@[a-zA-Z0-9.-]+\\\\.[a-zA-Z]{2,}\"\\nemails = re.findall(email_regex, text)\\nprint(emails)  # Output: [\\'support@example.com\\', \\'sales@example.org\\']\\n```\\n\\n13. Instruction:  Generate a Go function that calculates the factorial of a given non-negative integer.\\n13. Input: <noinput>\\n13. Output:\\n```go\\nfunc factorial(n int) (int, error) {\\n    if n < 0 {\\n        return 0, errors.New(\"factorial is not defined for negative numbers\")\\n    }\\n    if n == 0 {\\n        return 1, nil\\n    }\\n    result := 1\\n    for i := 1; i <= n; i++ {\\n        result *= i\\n    }\\n    return result, nil\\n}\\n```\\n\\n14. Instruction:  Write a PowerShell script to list all files in a specified directory.\\n14. Input:  <noinput>\\n14. Output: `Get-ChildItem -Path C:\\\\path\\\\to\\\\directory`\\n\\n15. Instruction:  Create a Kotlin function to sort an array of integers in ascending order.\\n15. Input: <noinput>\\n15. Output:\\n```kotlin\\nfun sortIntegers(arr: IntArray): IntArray {\\n    return arr.sortedArray()\\n}\\n\\n```\\n\\n16. Instruction:  Develop a Swift function that converts a given temperature from Celsius to Fahrenheit.\\n16. Input: <noinput>\\n16. Output:\\n```swift\\nfunc celsiusToFahrenheit(celsius: Double) -> Double {\\n  return (celsius * 9/5) + 32\\n}\\n```\\n\\n17. Instruction:  Build a small program in R to calculate the mean and standard deviation of a vector of numbers.\\n17. Input: c(10, 12, 15, 18, 20)\\n17. Output:\\n```R\\ndata <- c(10, 12, 15, 18, 20)\\nmean_data <- mean(data)\\nsd_data <- sd(data)\\nprint(paste(\"Mean:\", mean_data))\\nprint(paste(\"Standard Deviation:\", sd_data))\\n```\\n\\n18. Instruction:  Compose a Python script that extracts all links from a given HTML string.\\n18. Input: \"<p>This is a paragraph with a <a href=\\'https://www.example.com\\'>link</a> and another <a href=\\'http://another-site.net\\'>link</a>.</p>\"\\n18. Output:\\n```python\\nimport re\\nhtml = \"<p>This is a paragraph with a <a href=\\'https://www.example.com\\'>link</a> and another <a href=\\'http://another-site.net\\'>link</a>.</p>\"\\nlinks = re.findall(r\\'href=[\\\\\\'\"]?([^\\\\\\'\"]+)[\\\\\\'\"]?\\', html)\\nprint(links) # Output: [\\'https://www.example.com\\', \\'http://another-site.net\\']\\n```\\n\\n\\n19. Instruction:  Figure out  a way to implement a simple stack data structure using Python lists.\\n19. Input: <noinput>\\n19. Output:\\n```python\\nclass Stack:\\n    def __init__(self):\\n        self.items = []\\n\\n    def push(self, item):\\n        self.items.append(item)\\n\\n    def pop(self):\\n        if not self.is_empty():\\n            return self.items.pop()\\n        else:\\n            return None\\n\\n    def peek(self):\\n        if not self.is_empty():\\n            return self.items[-1]\\n        else:\\n            return None\\n\\n    def is_empty(self):\\n        return len(self.items) == 0\\n\\n    def size(self):\\n        return len(self.items)\\n```\\n'"
      ]
     },
     "execution_count": 51,
     "metadata": {},
     "output_type": "execute_result"
    }
   ],
   "source": [
    "inst"
   ]
  },
  {
   "cell_type": "markdown",
   "id": "647faa72-cfff-44c7-84ca-0d8a4e0af1e2",
   "metadata": {},
   "source": [
    "# We already create results from Gemini API, now try to filter dataset "
   ]
  },
  {
   "cell_type": "code",
   "execution_count": 1,
   "id": "041411ca-85a3-4acd-8845-9637713c44a7",
   "metadata": {},
   "outputs": [
    {
     "name": "stdout",
     "output_type": "stream",
     "text": [
      "[{'text': '###\\n4. Instruction:  Develop a JavaScript function to check if a given string is a palindrome.  Ignore case and non-alphanumeric characters.\\n4. Input: \"A man, a plan, a canal: Panama\"\\n4. Output: \\n```javascript\\nfunction isPalindrome(str) {\\n  // Convert to lowercase and remove non-alphanumeric characters\\n  str = str.toLowerCase().replace(/[^a-z0-9]/g, \"\");\\n  // Reverse the string\\n  const reversedStr = str.split(\"\").reverse().join(\"\");\\n  // Check if the string is equal to its reverse\\n  return str === reversedStr;\\n}\\n\\nconsole.log(isPalindrome(\"A man, a plan, a canal: Panama\")); // true\\n```\\n\\n###\\n5. Instruction:  Could you craft a C++ program to calculate the factorial of a given integer? Handle potential errors gracefully.\\n5. Input: <noinput>\\n5. Output:\\n```cpp\\n#include <iostream>\\n\\nlong long factorial(int n) {\\n  if (n < 0) {\\n    throw std::invalid_argument(\"Factorial is not defined for negative numbers.\");\\n  } else if (n == 0) {\\n    return 1;\\n  } else {\\n    long long result = 1;\\n    for (int i = 1; i <= n; ++i) {\\n      result *= i;\\n    }\\n    return result;\\n  }\\n}\\n\\nint main() {\\n  int num;\\n  std::cout << \"Enter a non-negative integer: \";\\n  std::cin >> num;\\n  try {\\n    long long fact = factorial(num);\\n    std::cout << \"Factorial of \" << num << \" = \" << fact << std::endl;\\n  } catch (const std::invalid_argument& e) {\\n    std::cerr << \"Error: \" << e.what() << std::endl;\\n  }\\n  return 0;\\n}\\n```\\n\\n###\\n6. Instruction:  Design a Python script that sorts a list of dictionaries based on a specific key.\\n6. Input: `[{\\'name\\': \\'Alice\\', \\'age\\': 30}, {\\'name\\': \\'Bob\\', \\'age\\': 25}, {\\'name\\': \\'Charlie\\', \\'age\\': 35}]`\\n6. Output:\\n```python\\ndata = [{\\'name\\': \\'Alice\\', \\'age\\': 30}, {\\'name\\': \\'Bob\\', \\'age\\': 25}, {\\'name\\': \\'Charlie\\', \\'age\\': 35}]\\nsorted_data = sorted(data, key=lambda item: item[\\'age\\'])\\nprint(sorted_data)\\n```\\n\\n###\\n7. Instruction:  Refactor this Java code to improve its readability and efficiency.\\n7. Input:\\n```java\\npublic class MyClass {\\n    public int myMethod(int a, int b) {\\n        int result = 0;\\n        for (int i = 0; i < b; i++) {\\n            result += a;\\n        }\\n        return result;\\n    }\\n}\\n```\\n7. Output:\\n```java\\npublic class MyClass {\\n    public int myMethod(int a, int b) {\\n        return a * b;\\n    }\\n}\\n```\\n\\n###\\n8. Instruction:  Construct a SQL query to retrieve all customers who placed an order in the last month.\\n8. Input:  Assume tables named `Customers` (CustomerID, Name, ...) and `Orders` (OrderID, CustomerID, OrderDate, ...).\\n8. Output:\\n```sql\\nSELECT c.CustomerID, c.Name\\nFROM Customers c\\nJOIN Orders o ON c.CustomerID = o.CustomerID\\nWHERE o.OrderDate >= DATE(\\'now\\', \\'-1 month\\');\\n```\\n\\n###\\n9. Instruction:  Illustrate how to implement a simple stack data structure using Python.\\n9. Input: <noinput>\\n9. Output:\\n```python\\nclass Stack:\\n    def __init__(self):\\n        self.items = []\\n\\n    def push(self, item):\\n        self.items.append(item)\\n\\n    def pop(self):\\n        if not self.is_empty():\\n            return self.items.pop()\\n        else:\\n            return None\\n\\n    def is_empty(self):\\n        return len(self.items) == 0\\n\\n    def peek(self):\\n        if not self.is_empty():\\n            return self.items[-1]\\n        else:\\n            return None\\n```\\n\\n###\\n10. Instruction:  Write a shell script to list all files in a directory recursively.\\n10. Input: <noinput>\\n10. Output:\\n```bash\\nfind . -print\\n```\\n\\n###\\n11. Instruction:  Generate a regular expression in Python to match email addresses.\\n11. Input: <noinput>\\n11. Output:\\n```python\\nimport re\\nemail_regex = r\"[a-zA-Z0-9._%+-]+@[a-zA-Z0-9.-]+\\\\.[a-zA-Z]{2,}\"\\n```\\n\\n###\\n12. Instruction:  Create a Ruby program to calculate the average of an array of numbers.\\n12. Input: `[1, 2, 3, 4, 5]`\\n12. Output:\\n```ruby\\nnumbers = [1, 2, 3, 4, 5]\\naverage = numbers.sum.to_f / numbers.length\\nputs average\\n```\\n\\n###\\n13. Instruction:  Optimize this function to reduce its execution time.\\n13. Input:\\n```python\\ndef slow_function(n):\\n    result = 0\\n    for i in range(n):\\n        for j in range(n):\\n            result += i * j\\n    return result\\n```\\n13. Output:\\n```python\\ndef fast_function(n):\\n    return (n * (n - 1) / 2) ** 2\\n```\\n\\n###\\n14. Instruction:  Explain how to handle exceptions in a Java program.\\n13. Input: <noinput>\\n13. Output:  A description of try-catch blocks and different exception types in Java.\\n\\n\\n###\\n15. Instruction:  Produce a Go function that converts a string to uppercase.\\n15. Input: \"hello world\"\\n15. Output:\\n```go\\npackage main\\n\\nimport (\\n\\t\"fmt\"\\n\\t\"strings\"\\n)\\n\\nfunc toUppercase(str string) string {\\n\\treturn strings.ToUpper(str)\\n}\\n\\nfunc main() {\\n\\tfmt.Println(toUppercase(\"hello world\"))\\n}\\n```\\n\\n###\\n16. Instruction:  Describe the purpose of a linked list data structure.\\n15. Input: <noinput>\\n15. Output: A description of linked lists, their advantages and disadvantages.\\n\\n###\\n17. Instruction:  Implement a binary search algorithm in C#.\\n15. Input:  `[2, 5, 7, 8, 11, 12]`, target = 11\\n15. Output:  C# code implementing binary search and returning the index of 11.\\n\\n###\\n18. Instruction:  Write a PowerShell script to get the current date and time.\\n15. Input: <noinput>\\n15. Output:\\n```powershell\\nGet-Date\\n```\\n\\n###\\n19. Instruction:  Develop a Python class representing a simple bank account.\\n15. Input: <noinput>\\n15. Output: Python class with methods for deposit, withdrawal, and balance check.\\n\\n###', 'total_tokens': 2577}, {'text': '###\\n4. Instruction:  Develop a Python function that calculates the factorial of a given number. The function should handle non-positive input gracefully.\\n4. Input: <noinput>\\n4. Output:\\n```python\\ndef factorial(n):\\n  \"\"\"Calculates the factorial of a non-negative integer.\"\"\"\\n  if n < 0:\\n    return \"Factorial is not defined for negative numbers.\"\\n  elif n == 0:\\n    return 1\\n  else:\\n    result = 1\\n    for i in range(1, n + 1):\\n      result *= i\\n    return result\\n\\n```\\n###\\n5. Instruction:  Compose a JavaScript function to determine whether an input string is a palindrome (reads the same backward as forward), ignoring case and non-alphanumeric characters.\\n5. Input: <noinput>\\n5. Output:\\n```javascript\\nfunction isPalindrome(str) {\\n  str = str.toLowerCase().replace(/[^a-z0-9]/g, \"\");\\n  return str === str.split(\"\").reverse().join(\"\");\\n}\\n```\\n###\\n6. Instruction:  Refactor the following Java code to improve its readability and efficiency.  Focus on optimizing the nested loop.\\n6. Input:\\n```java\\nfor (int i = 0; i < array.length; i++) {\\n  for (int j = i + 1; j < array.length; j++) {\\n    if (array[i] > array[j]) {\\n      int temp = array[i];\\n      array[i] = array[j];\\n      array[j] = temp;\\n    }\\n  }\\n}\\n```\\n6. Output:\\n```java\\nArrays.sort(array); // Uses a more efficient sorting algorithm.\\n```\\n###\\n7. Instruction:  Could you furnish a Ruby script that reads a CSV file and outputs the average value of a specified column?\\n7. Input:  The CSV file contains data about students, including their names and scores in a column named \"score\".  Assume the file is named \\'students.csv\\'.\\n7. Output:\\n```ruby\\nrequire \\'csv\\'\\n\\ndef average_score(filename, column_name)\\n  sum = 0\\n  count = 0\\n  CSV.foreach(filename, headers: true) do |row|\\n    score = row[column_name].to_f\\n    sum += score if !score.nan?\\n    count += 1 if !score.nan?\\n  end\\n  sum / count.to_f\\nend\\n\\nputs average_score(\\'students.csv\\', \\'score\\')\\n```\\n###\\n8. Instruction:  Generate a PHP function that validates an email address using a regular expression.\\n8. Input: <noinput>\\n8. Output:\\n```php\\n<?php\\nfunction validateEmail($email) {\\n  return filter_var($email, FILTER_VALIDATE_EMAIL) !== false;\\n}\\n?>\\n```\\n###\\n9. Instruction:  Construct a Python program that determines whether a given year is a leap year.\\n9. Input: <noinput>\\n9. Output:\\n```python\\ndef is_leap(year):\\n  \"\"\"Determines if a given year is a leap year.\"\"\"\\n  return (year % 4 == 0 and year % 100 != 0) or year % 400 == 0\\n```\\n###\\n10. Instruction:  Describe the purpose of the `map` function in JavaScript and provide a simple example.\\n10. Input: <noinput>\\n10. Output: The `map()` function in JavaScript is used to create a new array by applying a provided function to each element in an existing array.  Example: `const numbers = [1, 2, 3]; const doubled = numbers.map(x => x * 2); // doubled will be [2, 4, 6]`\\n###\\n11. Instruction:  Amend the following code snippet to handle potential exceptions during file I/O operations.\\n11. Input:\\n```python\\nf = open(\"myfile.txt\", \"r\")\\ncontents = f.read()\\nf.close()\\n```\\n11. Output:\\n```python\\ntry:\\n    f = open(\"myfile.txt\", \"r\")\\n    contents = f.read()\\n    f.close()\\nexcept FileNotFoundError:\\n    print(\"File not found.\")\\nexcept Exception as e:\\n    print(f\"An error occurred: {e}\")\\n```\\n###\\n12. Instruction:  Craft a Go function that reverses a given string.\\n12. Input: <noinput>\\n12. Output:\\n```go\\nfunc reverseString(s string) string {\\n    runes := []rune(s)\\n    for i, j := 0, len(runes)-1; i < j; i, j = i+1, j-1 {\\n        runes[i], runes[j] = runes[j], runes[i]\\n    }\\n    return string(runes)\\n}\\n```\\n###\\n13. Instruction:  Write a PowerShell script to list all files in a specified directory.\\n13. Input: <noinput>\\n13. Output:\\n```powershell\\nGet-ChildItem -Path \"C:\\\\path\\\\to\\\\directory\"\\n```\\n\\n###\\n14. Instruction:  How would you implement a binary search algorithm in C++?\\n14. Input: <noinput>\\n14. Output:\\n```c++\\n#include <iostream>\\n#include <vector>\\n\\nint binarySearch(const std::vector<int>& arr, int target) {\\n    int left = 0;\\n    int right = arr.size() - 1;\\n\\n    while (left <= right) {\\n        int mid = left + (right - left) / 2;\\n        if (arr[mid] == target) {\\n            return mid;\\n        } else if (arr[mid] < target) {\\n            left = mid + 1;\\n        } else {\\n            right = mid - 1;\\n        }\\n    }\\n    return -1; // Target not found\\n}\\n```\\n###\\n15. Instruction:  Optimize the following Python code for better performance.\\n15. Input:\\n```python\\ndef slow_function(data):\\n    result = []\\n    for item in data:\\n        if item > 10:\\n            result.append(item * 2)\\n    return result\\n\\n```\\n15. Output:\\n```python\\ndef fast_function(data):\\n    return [item * 2 for item in data if item > 10]\\n```\\n###\\n16.  Instruction:  Develop a C# method that converts a given string to uppercase.\\n16. Input: <noinput>\\n16. Output:\\n```csharp\\npublic static string ToUppercase(string input) {\\n    return input.ToUpper();\\n}\\n```\\n###\\n17. Instruction:  Explain the difference between `==` and `===` in JavaScript.\\n17. Input: <noinput>\\n17. Output: In JavaScript, `==` performs loose equality comparison, while `===` performs strict equality comparison.  Loose equality allows type coercion, while strict equality requires both value and type to be the same.\\n###\\n18. Instruction:  Create a Kotlin function that finds the maximum element in an integer array.\\n18. Input: <noinput>\\n18. Output:\\n```kotlin\\nfun findMax(arr: IntArray): Int? {\\n    if (arr.isEmpty()) return null\\n    return arr.maxOrNull()\\n}\\n```\\n###\\n19. Instruction:  Build a simple Java program that reads a number from the console and prints its square.\\n19. Input: <noinput>\\n19. Output:\\n```java\\nimport java.util.Scanner;\\n\\npublic class Square {\\n    public static void main(String[] args) {\\n        Scanner scanner = new Scanner(System.in);\\n        System.out.print(\"Enter a number: \");\\n        int number = scanner.nextInt();\\n        System.out.println(\"Square: \" + (number * number));\\n        scanner.close();\\n    }\\n}\\n```\\n###', 'total_tokens': 2418}, {'text': '###\\n4. Instruction:  Develop a Python function that calculates the factorial of a given non-negative integer.  Handle potential errors gracefully.\\n4. Input: <noinput>\\n4. Output:\\n```python\\ndef factorial(n):\\n    \"\"\"\\n    Calculates the factorial of a non-negative integer.\\n\\n    Args:\\n        n: The non-negative integer.\\n\\n    Returns:\\n        The factorial of n.  Returns 1 if n is 0.\\n        Raises ValueError if n is negative.\\n    \"\"\"\\n    if n < 0:\\n        raise ValueError(\"Factorial is not defined for negative numbers.\")\\n    elif n == 0:\\n        return 1\\n    else:\\n        result = 1\\n        for i in range(1, n + 1):\\n            result *= i\\n        return result\\n\\n```\\n###\\n5. Instruction: Compose a Java method that checks if a given string is a palindrome.\\n5. Input: <noinput>\\n5. Output:\\n```java\\npublic class PalindromeChecker {\\n\\n    public static boolean isPalindrome(String str) {\\n        str = str.toLowerCase(); // Ignore case\\n        int left = 0;\\n        int right = str.length() - 1;\\n\\n        while (left < right) {\\n            if (str.charAt(left) != str.charAt(right)) {\\n                return false;\\n            }\\n            left++;\\n            right--;\\n        }\\n        return true;\\n    }\\n\\n    public static void main(String[] args) {\\n        String str1 = \"madam\";\\n        String str2 = \"racecar\";\\n        String str3 = \"hello\";\\n\\n        System.out.println(str1 + \" is a palindrome: \" + isPalindrome(str1));\\n        System.out.println(str2 + \" is a palindrome: \" + isPalindrome(str2));\\n        System.out.println(str3 + \" is a palindrome: \" + isPalindrome(str3));\\n    }\\n}\\n```\\n###\\n6. Instruction:  Refactor the following C++ code to improve its readability and efficiency.\\n6. Input:\\n```cpp\\nint sum(int a, int b){\\n    int s = 0;\\n    for(int i = a; i <= b; i++){\\n        s = s + i;\\n    }\\n    return s;\\n}\\n```\\n6. Output:\\n```cpp\\nint sum(int a, int b) {\\n  // Use the mathematical formula for the sum of an arithmetic series for efficiency.\\n  return (b - a + 1) * (a + b) / 2; \\n}\\n```\\n\\n###\\n7. Instruction:  How would you implement a simple stack data structure in C#?\\n7. Input: <noinput>\\n7. Output:\\n```csharp\\nusing System;\\nusing System.Collections.Generic;\\n\\npublic class Stack<T>\\n{\\n    private List<T> _stack = new List<T>();\\n\\n    public void Push(T item)\\n    {\\n        _stack.Add(item);\\n    }\\n\\n    public T Pop()\\n    {\\n        if (_stack.Count == 0)\\n        {\\n            throw new InvalidOperationException(\"Stack is empty\");\\n        }\\n        T item = _stack[_stack.Count - 1];\\n        _stack.RemoveAt(_stack.Count - 1);\\n        return item;\\n    }\\n\\n    public T Peek()\\n    {\\n        if (_stack.Count == 0)\\n        {\\n            throw new InvalidOperationException(\"Stack is empty\");\\n        }\\n        return _stack[_stack.Count - 1];\\n    }\\n\\n    public bool IsEmpty()\\n    {\\n        return _stack.Count == 0;\\n    }\\n}\\n\\n```\\n###\\n8. Instruction:  Create a SQL query to retrieve all customers from the `Customers` table who placed an order in the last month.  Assume you have an `Orders` table with `customerID` and `orderDate` columns.\\n8. Input: <noinput>\\n8. Output:\\n```sql\\nSELECT c.*\\nFROM Customers c\\nJOIN Orders o ON c.customerID = o.customerID\\nWHERE o.orderDate >= DATE(\\'now\\', \\'-1 month\\');\\n```\\n\\n###\\n9. Instruction:  Generate Python code that searches for a specific word within a text file and returns the line numbers where it\\'s found.\\n9. Input:  Search for the word \"example\" in the file \"my_document.txt\".\\n9. Output:\\n```python\\ndef find_word_in_file(filename, word):\\n    try:\\n        with open(filename, \\'r\\') as file:\\n            lines = file.readlines()\\n            results = []\\n            for i, line in enumerate(lines):\\n                if word in line:\\n                    results.append(i + 1)  # Add 1 for 1-based indexing\\n            return results\\n    except FileNotFoundError:\\n        return []\\n\\nfilename = \"my_document.txt\"\\nword = \"example\"\\nline_numbers = find_word_in_file(filename, word)\\nprint(f\"The word \\'{word}\\' was found on lines: {line_numbers}\")\\n\\n```\\n\\n###\\n10. Instruction:  Write a Go function that converts a Celsius temperature to Fahrenheit.\\n10. Input: <noinput>\\n10. Output:\\n```go\\npackage main\\n\\nimport \"fmt\"\\n\\nfunc celsiusToFahrenheit(celsius float64) float64 {\\n\\treturn (celsius * 9.0 / 5.0) + 32.0\\n}\\n\\nfunc main() {\\n\\tcelsius := 25.0\\n\\tfahrenheit := celsiusToFahrenheit(celsius)\\n\\tfmt.Printf(\"%f Celsius is equal to %f Fahrenheit\\\\n\", celsius, fahrenheit)\\n}\\n```\\n\\n###\\n11. Instruction:  Optimize this Ruby code for better performance.\\n11. Input:\\n```ruby\\nnumbers = (1..1000000).to_a\\neven_numbers = numbers.select { |number| number % 2 == 0 }\\n```\\n11. Output:\\n```ruby\\nnumbers = (1..1000000).to_a\\neven_numbers = numbers.select(&:even?) # More concise and potentially faster\\n```\\nor\\n```ruby\\neven_numbers = (2..1000000).step(2).to_a #Most efficient - avoids unnecessary checks\\n```\\n\\n###\\n12. Instruction:  Build a simple PHP script to display \"Hello, World!\" on the screen.\\n12. Input: <noinput>\\n12. Output:\\n```php\\n<?php\\necho \"Hello, World!\";\\n?>\\n```\\n\\n###\\n13. Instruction:  Construct a regular expression in JavaScript that matches email addresses.\\n13. Input: <noinput>\\n13. Output:\\n```javascript\\nconst emailRegex = /^[^\\\\s@]+@[^\\\\s@]+\\\\.[^\\\\s@]+$/;\\n```\\n\\n###\\n14. Instruction:  Illustrate how to create a simple linked list in Python.\\n14. Input: <noinput>\\n14. Output:\\n```python\\nclass Node:\\n    def __init__(self, data):\\n        self.data = data\\n        self.next = None\\n\\nclass LinkedList:\\n    def __init__(self):\\n        self.head = None\\n\\n    def append(self, data):\\n        new_node = Node(data)\\n        if not self.head:\\n            self.head = new_node\\n            return\\n        current = self.head\\n        while current.next:\\n            current = current.next\\n        current.next = new_node\\n```\\n\\n###\\n15.  Instruction:  Correct the syntax errors in the following Python code.\\n15. Input:\\n```python\\nprint(\"Hello, world!)\\nx = 10\\ny = 5\\nz = x + y\\nprint(z;\\n```\\n15. Output:\\n```python\\nprint(\"Hello, world!\")\\nx = 10\\ny = 5\\nz = x + y\\nprint(z)\\n```\\n\\n###\\n16. Instruction:  Describe how to use a dictionary in Python to store and access data.\\n15. Input: <noinput>\\n15. Output:\\n```python\\nmy_dict = {\"name\": \"Alice\", \"age\": 30, \"city\": \"New York\"}\\nprint(my_dict[\"name\"])  # Accessing values using keys\\nmy_dict[\"age\"] = 31  # Modifying values\\nprint(my_dict)\\n```\\n\\n###\\n17. Instruction:  Write a shell script to list all files in the current directory.\\n17. Input: <noinput>\\n17. Output:\\n```bash\\nls -l\\n```\\n\\n###\\n18. Instruction:  Craft a PowerShell command to get the current date and time.\\n18. Input: <noinput>\\n18. Output:\\n```powershell\\nGet-Date\\n```\\n\\n###\\n19. Instruction:  Develop a function in R that calculates the mean of a numeric vector.  Handle potential errors.\\n19. Input: <noinput>\\n19. Output:\\n```R\\ncalculate_mean <- function(x) {\\n  if (!is.numeric(x)) {\\n    stop(\"Input must be a numeric vector.\")\\n  }\\n  if (length(x) == 0) {\\n    return(NA) # Handle empty vectors\\n  }\\n  mean(x)\\n}\\n```\\n\\n###', 'total_tokens': 2860}, {'text': '###\\n4. Instruction:  Develop a JavaScript function that checks if a given string is a valid palindrome (ignoring case and non-alphanumeric characters).  The function should return `true` if it\\'s a palindrome, and `false` otherwise.\\n4. Input: \"A man, a plan, a canal: Panama\"\\n4. Output: \\n```javascript\\nfunction isPalindrome(str) {\\n  str = str.toLowerCase().replace(/[^a-z0-9]/g, \"\");\\n  return str === str.split(\"\").reverse().join(\"\");\\n}\\n```\\n###\\n5. Instruction:  Construct a C++ program that calculates the factorial of a non-negative integer using recursion.  Handle the base case of 0! = 1.\\n5. Input: <noinput>\\n5. Output:\\n```cpp\\n#include <iostream>\\n\\nlong long factorial(int n) {\\n  if (n == 0) {\\n    return 1;\\n  } else {\\n    return n * factorial(n - 1);\\n  }\\n}\\n\\nint main() {\\n  int num;\\n  std::cout << \"Enter a non-negative integer: \";\\n  std::cin >> num;\\n  std::cout << \"Factorial of \" << num << \" = \" << factorial(num) << std::endl;\\n  return 0;\\n}\\n```\\n###\\n6. Instruction:  Refactor the following Java code to improve its readability and efficiency.  The code currently calculates the sum of squares of numbers in an array.\\n6. Input:\\n```java\\npublic int sumOfSquares(int[] arr) {\\n    int sum = 0;\\n    for (int i = 0; i < arr.length; i++) {\\n        sum += arr[i] * arr[i];\\n    }\\n    return sum;\\n}\\n```\\n6. Output:\\n```java\\npublic int sumOfSquares(int[] arr) {\\n    return Arrays.stream(arr).map(n -> n * n).sum();\\n}\\n```\\n###\\n7. Instruction:  Create a Python script that reads a CSV file, calculates the average of a specific column, and prints the result.  Assume the CSV file uses a comma as a delimiter.\\n7. Input:  The CSV file named \\'data.csv\\' contains the following data: Name,Age,Salary;Alice,25,50000;Bob,30,60000;Charlie,28,55000\\n7. Output:\\n```python\\nimport csv\\n\\ndef calculate_average_age(filepath):\\n    with open(filepath, \\'r\\') as file:\\n        reader = csv.DictReader(file)\\n        ages = [int(row[\\'Age\\']) for row in reader]\\n        return sum(ages) / len(ages) if ages else 0\\n\\naverage = calculate_average_age(\\'data.csv\\')\\nprint(f\"Average age: {average}\")\\n\\n```\\n###\\n8. Instruction:  Design a Ruby method that determines whether a given number is within the range of 100 to 200 (inclusive).\\n8. Input: <noinput>\\n8. Output:\\n```ruby\\ndef within_range?(number)\\n  number.between?(100, 200)\\nend\\n```\\n###\\n9. Instruction:  Write a Go function that converts a given string to uppercase.\\n9. Input: <noinput>\\n9. Output:\\n```go\\nimport (\\n\\t\"strings\"\\n)\\n\\nfunc ToUppercase(input string) string {\\n\\treturn strings.ToUpper(input)\\n}\\n```\\n###\\n10. Instruction:  Amend this PHP code snippet to handle potential division by zero errors gracefully. The code calculates the average of two numbers.\\n10. Input:\\n```php\\n<?php\\nfunction calculateAverage($num1, $num2) {\\n    return ($num1 + $num2) / 2;\\n}\\n?>\\n```\\n10. Output:\\n```php\\n<?php\\nfunction calculateAverage($num1, $num2) {\\n    if ($num2 == 0) {\\n        return \"Division by zero error\";\\n    }\\n    return ($num1 + $num2) / 2;\\n}\\n?>\\n```\\n###\\n11. Instruction:  Illustrate how to implement a simple stack data structure in C#.\\n11. Input: <noinput>\\n11. Output:\\n```csharp\\nusing System.Collections.Generic;\\n\\npublic class Stack<T>\\n{\\n    private readonly List<T> _items = new List<T>();\\n\\n    public void Push(T item) => _items.Add(item);\\n    public T Pop() => _items.RemoveAt(_items.Count -1);\\n    public T Peek() => _items[_items.Count -1];   \\n    public bool IsEmpty() => _items.Count == 0;    \\n}\\n\\n```\\n###\\n12. Instruction:  Compose a shell script that lists all files and directories within a specified directory.\\n12. Input: <noinput>\\n12. Output:\\n```bash\\n#!/bin/bash\\nls -l /path/to/directory\\n```\\n###\\n13. Instruction:  How would you write a function in Swift that finds the largest number in an array of integers?\\n13. Input: <noinput>\\n13. Output:\\n```swift\\nfunc findLargest(numbers: [Int]) -> Int? {\\n    guard !numbers.isEmpty else { return nil }\\n    return numbers.max()\\n}\\n```\\n###\\n14. Instruction:  Optimize the following Python code snippet for better performance.  The code currently searches for a specific element within a large list.\\n14. Input:\\n```python\\ndef find_element(data, target):\\n    for item in data:\\n        if item == target:\\n            return True\\n    return False\\n```\\n14. Output:\\n```python\\ndef find_element(data, target):\\n    return target in data\\n```\\n\\n###\\n15. Instruction:  Generate Kotlin code that sorts a list of strings alphabetically.\\n15. Input: <noinput>\\n15. Output:\\n```kotlin\\nfun sortStringsAlphabetically(strings: List<String>): List<String> {\\n    return strings.sorted()\\n}\\n```\\n###\\n16. Instruction:  Craft a PowerShell script to get the current date and time.\\n16. Input: <noinput>\\n16. Output:\\n```powershell\\nGet-Date\\n```\\n###\\n17. Instruction:  Using R, write a function that calculates the mean of a numerical vector.\\n17. Input: <noinput>\\n17. Output:\\n```R\\ncalculate_mean <- function(vector) {\\n  mean(vector)\\n}\\n```\\n###\\n18. Instruction:  Describe how you would build a simple Python class representing a dog, with attributes for name and breed.\\n18. Input: <noinput>\\n18. Output:\\n```python\\nclass Dog:\\n    def __init__(self, name, breed):\\n        self.name = name\\n        self.breed = breed\\n\\n    def bark(self):\\n        print(\"Woof!\")\\n```\\n###\\n19. Instruction:  Develop a small program in MATLAB that plots a sine wave.\\n19. Input: <noinput>\\n19. Output:\\n```matlab\\nx = linspace(0, 2*pi, 100);\\ny = sin(x);\\nplot(x, y);\\nxlabel(\\'x\\');\\nylabel(\\'sin(x)\\');\\ntitle(\\'Sine Wave\\');\\n```\\n###', 'total_tokens': 2363}, {'text': '###\\n4. Instruction:  Develop a Java method to calculate the factorial of a given non-negative integer.  Handle potential exceptions gracefully.\\n4. Input:\\n<noinput>\\n4. Output:\\n```java\\nimport java.util.InputMismatchException;\\n\\npublic class Factorial {\\n\\n    public static long factorial(int n) {\\n        if (n < 0) {\\n            throw new IllegalArgumentException(\"Input must be a non-negative integer.\");\\n        }\\n        if (n == 0) {\\n            return 1;\\n        } else {\\n            long result = 1;\\n            for (int i = 1; i <= n; i++) {\\n                result *= i;\\n            }\\n            return result;\\n        }\\n    }\\n\\n\\n    public static void main(String[] args) {\\n        try {\\n            java.util.Scanner scanner = new java.util.Scanner(System.in);\\n            System.out.print(\"Enter a non-negative integer: \");\\n            int num = scanner.nextInt();\\n            long fact = factorial(num);\\n            System.out.println(\"Factorial of \" + num + \" = \" + fact);\\n            scanner.close();\\n\\n        } catch (InputMismatchException e) {\\n            System.err.println(\"Invalid input. Please enter an integer.\");\\n        } catch (IllegalArgumentException e) {\\n            System.err.println(e.getMessage());\\n        }\\n    }\\n}\\n```\\n###\\n5. Instruction:  Could you craft a Python script that sorts a list of numbers in ascending order using the bubble sort algorithm?\\n5. Input:\\nnumbers = [5, 2, 9, 1, 5, 6]\\n5. Output:\\n```python\\ndef bubble_sort(numbers):\\n    n = len(numbers)\\n    for i in range(n):\\n        for j in range(0, n-i-1):\\n            if numbers[j] > numbers[j+1] :\\n                numbers[j], numbers[j+1] = numbers[j+1], numbers[j]\\n    return numbers\\n\\nnumbers = [5, 2, 9, 1, 5, 6]\\nsorted_numbers = bubble_sort(numbers)\\nprint(f\"Sorted list: {sorted_numbers}\")\\n\\n```\\n###\\n6. Instruction:  Amend this JavaScript code to handle cases where the input array might be empty.  The current code throws an error.\\n6. Input:\\n```javascript\\nfunction findLargest(arr) {\\n  return Math.max(...arr);\\n}\\n\\nconsole.log(findLargest([])); // Throws an error\\n```\\n6. Output:\\n```javascript\\nfunction findLargest(arr) {\\n  if (arr.length === 0) {\\n    return undefined; // or return null, throw error, etc.\\n  }\\n  return Math.max(...arr);\\n}\\n\\nconsole.log(findLargest([])); // Returns undefined\\n```\\n###\\n7. Instruction:  Construct a PHP function that reverses a given string.\\n7. Input:\\n<noinput>\\n7. Output:\\n```php\\n<?php\\nfunction reverseString(string $str): string {\\n    return strrev($str);\\n}\\n\\necho reverseString(\"hello\"); // olleh\\n?>\\n```\\n###\\n8. Instruction:  Give me a Ruby function that determines if a number is even.\\n8. Input:\\n<noinput>\\n8. Output:\\n```ruby\\ndef is_even?(number)\\n  number.even?\\nend\\n\\nputs is_even?(4)  # true\\nputs is_even?(7)  # false\\n```\\n###\\n9. Instruction:  Optimize this Python code for better performance.  It\\'s currently very slow for large lists.\\n9. Input:\\n```python\\ndef slow_sum(data):\\n  total = 0\\n  for item in data:\\n    total += item\\n  return total\\n\\ndata = list(range(1000000))\\nslow_sum(data)\\n```\\n9. Output:\\n```python\\nimport numpy as np\\n\\ndef fast_sum(data):\\n  return np.sum(data)\\n\\ndata = list(range(1000000))\\nfast_sum(data)\\n```\\n###\\n10. Instruction:  Design a Go function to check if a given string is a valid email address.  Consider basic validation only (e.g., presence of \"@\" symbol).\\n10. Input:\\n<noinput>\\n10. Output:\\n```go\\npackage main\\n\\nimport (\\n\\t\"fmt\"\\n\\t\"strings\"\\n)\\n\\nfunc isValidEmail(email string) bool {\\n\\treturn strings.Contains(email, \"@\")\\n}\\n\\nfunc main() {\\n\\tfmt.Println(isValidEmail(\"test@example.com\")) // true\\n\\tfmt.Println(isValidEmail(\"test\"))             // false\\n}\\n```\\n###\\n11. Instruction:  Create a PowerShell script to list all files in a specified directory.\\n11. Input:\\n<noinput>\\n11. Output:\\n```powershell\\nGet-ChildItem -Path C:\\\\Users  # Replace with your desired path\\n```\\n###\\n12. Instruction:  Write a SQL query to retrieve all rows from a table named \"users\" where the age is greater than 25.\\n12. Input:\\n<noinput>\\n12. Output:\\n```sql\\nSELECT * FROM users WHERE age > 25;\\n```\\n###\\n13. Instruction:  Using C#,  devise a function that converts a string to uppercase.\\n13. Input:\\n<noinput>\\n13. Output:\\n```csharp\\nusing System;\\n\\npublic class StringConverter {\\n    public static string ToUppercase(string input) {\\n        return input.ToUpper();\\n    }\\n}\\n```\\n###\\n14. Instruction:  Produce a Kotlin function to find the largest number in a list of integers.  What should happen if the list is empty?\\n14. Input:\\n<noinput>\\n14. Output:\\n```kotlin\\nfun findLargest(numbers: List<Int>): Int? {\\n    if (numbers.isEmpty()) return null\\n    return numbers.maxOrNull()\\n}\\n```\\n###\\n15. Instruction:  How would you implement a Swift function that calculates the area of a circle given its radius?\\n15. Input:\\n<noinput>\\n15. Output:\\n```swift\\nimport Foundation\\n\\nfunc circleArea(radius: Double) -> Double {\\n    return Double.pi * radius * radius\\n}\\n```\\n###\\n16. Instruction:  Build a Python function which counts the occurrences of each character in a string.  Return the result as a dictionary.\\n16. Input:\\n<noinput>\\n16. Output:\\n```python\\ndef count_characters(text):\\n    char_counts = {}\\n    for char in text:\\n        char_counts[char] = char_counts.get(char, 0) + 1\\n    return char_counts\\n\\nprint(count_characters(\"hello\")) # {\\'h\\': 1, \\'e\\': 1, \\'l\\': 2, \\'o\\': 1}\\n```\\n###\\n17.  Instruction:  Refactor this R code to be more concise and readable.\\n17. Input:\\n```R\\nx <- c(1, 2, 3, 4, 5)\\ny <- numeric(length(x))\\nfor (i in 1:length(x)) {\\n  y[i] <- x[i] * 2\\n}\\nprint(y)\\n```\\n17. Output:\\n```R\\nx <- c(1, 2, 3, 4, 5)\\ny <- x * 2\\nprint(y)\\n```\\n###\\n18. Instruction:  Write a Python program that reads a file and prints its contents to the console.  Handle potential file errors gracefully.\\n18. Input:\\n<noinput>\\n18. Output:\\n```python\\ndef read_file(filepath):\\n    try:\\n        with open(filepath, \\'r\\') as file:\\n            contents = file.read()\\n            print(contents)\\n    except FileNotFoundError:\\n        print(f\"Error: File not found at {filepath}\")\\n    except Exception as e:\\n        print(f\"An error occurred: {e}\")\\n\\nread_file(\"my_file.txt\") #Replace with actual file path\\n\\n```\\n###\\n19. Instruction:  Compose a JavaScript function that takes an array of numbers and returns the average.\\n19. Input:\\n<noinput>\\n19. Output:\\n```javascript\\nfunction calculateAverage(numbers) {\\n    if (numbers.length === 0) {\\n        return 0; // or handle as appropriate for your use case\\n    }\\n    const sum = numbers.reduce((total, num) => total + num, 0);\\n    return sum / numbers.length;\\n}\\n\\nconsole.log(calculateAverage([1, 2, 3, 4, 5])); // Output: 3\\n```\\n###', 'total_tokens': 2641}]\n"
     ]
    }
   ],
   "source": [
    "# first load dataset\n",
    "import json\n",
    "\n",
    "with open('regen.json', 'r') as f:\n",
    "    data = json.load(f)\n",
    "\n",
    "print(data)"
   ]
  },
  {
   "cell_type": "code",
   "execution_count": 9,
   "id": "87696419-2e5a-45a2-9f0d-10ac0cceedba",
   "metadata": {},
   "outputs": [],
   "source": [
    "first_sample = data[0]"
   ]
  },
  {
   "cell_type": "code",
   "execution_count": 53,
   "id": "4d5cd39f-fb32-43b9-bffd-9dba73b8d03c",
   "metadata": {},
   "outputs": [],
   "source": [
    "import re\n",
    "import string\n",
    "\n",
    "# try with post_process_gpt3_response first\n",
    "num_prompt_instructions = 3\n",
    "response = first_sample"
   ]
  },
  {
   "cell_type": "code",
   "execution_count": 42,
   "id": "46c3ca99-620c-4794-9edc-63945eac469b",
   "metadata": {},
   "outputs": [],
   "source": [
    "raw_instructions = response[\"text\"]\n",
    "raw_instructions = re.split(\"###\", raw_instructions)\n",
    "raw_instructions = [s for s in raw_instructions if s!='']"
   ]
  },
  {
   "cell_type": "code",
   "execution_count": 43,
   "id": "9733e363-2d4c-4c8e-a35b-e50342422f98",
   "metadata": {},
   "outputs": [
    {
     "data": {
      "text/plain": [
       "['\\n4. Instruction:  Develop a JavaScript function to check if a given string is a palindrome.  Ignore case and non-alphanumeric characters.\\n4. Input: \"A man, a plan, a canal: Panama\"\\n4. Output: \\n```javascript\\nfunction isPalindrome(str) {\\n  // Convert to lowercase and remove non-alphanumeric characters\\n  str = str.toLowerCase().replace(/[^a-z0-9]/g, \"\");\\n  // Reverse the string\\n  const reversedStr = str.split(\"\").reverse().join(\"\");\\n  // Check if the string is equal to its reverse\\n  return str === reversedStr;\\n}\\n\\nconsole.log(isPalindrome(\"A man, a plan, a canal: Panama\")); // true\\n```\\n\\n',\n",
       " '\\n5. Instruction:  Could you craft a C++ program to calculate the factorial of a given integer? Handle potential errors gracefully.\\n5. Input: <noinput>\\n5. Output:\\n```cpp\\n#include <iostream>\\n\\nlong long factorial(int n) {\\n  if (n < 0) {\\n    throw std::invalid_argument(\"Factorial is not defined for negative numbers.\");\\n  } else if (n == 0) {\\n    return 1;\\n  } else {\\n    long long result = 1;\\n    for (int i = 1; i <= n; ++i) {\\n      result *= i;\\n    }\\n    return result;\\n  }\\n}\\n\\nint main() {\\n  int num;\\n  std::cout << \"Enter a non-negative integer: \";\\n  std::cin >> num;\\n  try {\\n    long long fact = factorial(num);\\n    std::cout << \"Factorial of \" << num << \" = \" << fact << std::endl;\\n  } catch (const std::invalid_argument& e) {\\n    std::cerr << \"Error: \" << e.what() << std::endl;\\n  }\\n  return 0;\\n}\\n```\\n\\n',\n",
       " \"\\n6. Instruction:  Design a Python script that sorts a list of dictionaries based on a specific key.\\n6. Input: `[{'name': 'Alice', 'age': 30}, {'name': 'Bob', 'age': 25}, {'name': 'Charlie', 'age': 35}]`\\n6. Output:\\n```python\\ndata = [{'name': 'Alice', 'age': 30}, {'name': 'Bob', 'age': 25}, {'name': 'Charlie', 'age': 35}]\\nsorted_data = sorted(data, key=lambda item: item['age'])\\nprint(sorted_data)\\n```\\n\\n\",\n",
       " '\\n7. Instruction:  Refactor this Java code to improve its readability and efficiency.\\n7. Input:\\n```java\\npublic class MyClass {\\n    public int myMethod(int a, int b) {\\n        int result = 0;\\n        for (int i = 0; i < b; i++) {\\n            result += a;\\n        }\\n        return result;\\n    }\\n}\\n```\\n7. Output:\\n```java\\npublic class MyClass {\\n    public int myMethod(int a, int b) {\\n        return a * b;\\n    }\\n}\\n```\\n\\n',\n",
       " \"\\n8. Instruction:  Construct a SQL query to retrieve all customers who placed an order in the last month.\\n8. Input:  Assume tables named `Customers` (CustomerID, Name, ...) and `Orders` (OrderID, CustomerID, OrderDate, ...).\\n8. Output:\\n```sql\\nSELECT c.CustomerID, c.Name\\nFROM Customers c\\nJOIN Orders o ON c.CustomerID = o.CustomerID\\nWHERE o.OrderDate >= DATE('now', '-1 month');\\n```\\n\\n\",\n",
       " '\\n9. Instruction:  Illustrate how to implement a simple stack data structure using Python.\\n9. Input: <noinput>\\n9. Output:\\n```python\\nclass Stack:\\n    def __init__(self):\\n        self.items = []\\n\\n    def push(self, item):\\n        self.items.append(item)\\n\\n    def pop(self):\\n        if not self.is_empty():\\n            return self.items.pop()\\n        else:\\n            return None\\n\\n    def is_empty(self):\\n        return len(self.items) == 0\\n\\n    def peek(self):\\n        if not self.is_empty():\\n            return self.items[-1]\\n        else:\\n            return None\\n```\\n\\n',\n",
       " '\\n10. Instruction:  Write a shell script to list all files in a directory recursively.\\n10. Input: <noinput>\\n10. Output:\\n```bash\\nfind . -print\\n```\\n\\n',\n",
       " '\\n11. Instruction:  Generate a regular expression in Python to match email addresses.\\n11. Input: <noinput>\\n11. Output:\\n```python\\nimport re\\nemail_regex = r\"[a-zA-Z0-9._%+-]+@[a-zA-Z0-9.-]+\\\\.[a-zA-Z]{2,}\"\\n```\\n\\n',\n",
       " '\\n12. Instruction:  Create a Ruby program to calculate the average of an array of numbers.\\n12. Input: `[1, 2, 3, 4, 5]`\\n12. Output:\\n```ruby\\nnumbers = [1, 2, 3, 4, 5]\\naverage = numbers.sum.to_f / numbers.length\\nputs average\\n```\\n\\n',\n",
       " '\\n13. Instruction:  Optimize this function to reduce its execution time.\\n13. Input:\\n```python\\ndef slow_function(n):\\n    result = 0\\n    for i in range(n):\\n        for j in range(n):\\n            result += i * j\\n    return result\\n```\\n13. Output:\\n```python\\ndef fast_function(n):\\n    return (n * (n - 1) / 2) ** 2\\n```\\n\\n',\n",
       " '\\n14. Instruction:  Explain how to handle exceptions in a Java program.\\n13. Input: <noinput>\\n13. Output:  A description of try-catch blocks and different exception types in Java.\\n\\n\\n',\n",
       " '\\n15. Instruction:  Produce a Go function that converts a string to uppercase.\\n15. Input: \"hello world\"\\n15. Output:\\n```go\\npackage main\\n\\nimport (\\n\\t\"fmt\"\\n\\t\"strings\"\\n)\\n\\nfunc toUppercase(str string) string {\\n\\treturn strings.ToUpper(str)\\n}\\n\\nfunc main() {\\n\\tfmt.Println(toUppercase(\"hello world\"))\\n}\\n```\\n\\n',\n",
       " '\\n16. Instruction:  Describe the purpose of a linked list data structure.\\n15. Input: <noinput>\\n15. Output: A description of linked lists, their advantages and disadvantages.\\n\\n',\n",
       " '\\n17. Instruction:  Implement a binary search algorithm in C#.\\n15. Input:  `[2, 5, 7, 8, 11, 12]`, target = 11\\n15. Output:  C# code implementing binary search and returning the index of 11.\\n\\n',\n",
       " '\\n18. Instruction:  Write a PowerShell script to get the current date and time.\\n15. Input: <noinput>\\n15. Output:\\n```powershell\\nGet-Date\\n```\\n\\n',\n",
       " '\\n19. Instruction:  Develop a Python class representing a simple bank account.\\n15. Input: <noinput>\\n15. Output: Python class with methods for deposit, withdrawal, and balance check.\\n\\n']"
      ]
     },
     "execution_count": 43,
     "metadata": {},
     "output_type": "execute_result"
    }
   ],
   "source": [
    "raw_instructions "
   ]
  },
  {
   "cell_type": "code",
   "execution_count": 44,
   "id": "7c1fbff1-c3e1-485b-8736-18a16ca05be4",
   "metadata": {},
   "outputs": [
    {
     "data": {
      "text/plain": [
       "16"
      ]
     },
     "execution_count": 44,
     "metadata": {},
     "output_type": "execute_result"
    }
   ],
   "source": [
    "len(raw_instructions)"
   ]
  },
  {
   "cell_type": "code",
   "execution_count": 51,
   "id": "04506386-c77d-4ddd-982c-024223327f08",
   "metadata": {},
   "outputs": [],
   "source": [
    "def find_word_in_string(w, s):\n",
    "    return re.compile(r\"\\b({0})\\b\".format(w), flags=re.IGNORECASE).search(s)\n",
    "\n",
    "def post_process_gemini_response(num_prompt_instructions, response):\n",
    "    if response is None:\n",
    "        return []\n",
    "\n",
    "    # FIX: already change this code\n",
    "    raw_instructions =  response[\"text\"]\n",
    "    raw_instructions = re.split(\"###\", raw_instructions)\n",
    "\n",
    "    # NOTE: add this code \n",
    "    raw_instructions = [s for s in raw_instructions if s!=''] # filter out empty string\n",
    "\n",
    "    instructions = []\n",
    "    for idx, inst in enumerate(raw_instructions):\n",
    "        idx += num_prompt_instructions + 1\n",
    "        splitted_data = re.split(f\"{idx}\\.\\s+(Instruction|Input|Output):\", inst)\n",
    "        if len(splitted_data) != 7:\n",
    "            continue\n",
    "        else:\n",
    "            inst = splitted_data[2].strip()\n",
    "            input = splitted_data[4].strip()\n",
    "            input = \"\" if input.lower() == \"<noinput>\" else input\n",
    "            output = splitted_data[6].strip()\n",
    "\n",
    "        # filter out too short or too long instructions\n",
    "        if len(inst.split()) <= 3 or len(inst.split()) > 150:\n",
    "            continue\n",
    "        # filter based on keywords that are not suitable for language models.\n",
    "        blacklist = [\n",
    "            \"image\",\n",
    "            \"images\",\n",
    "            \"graph\",\n",
    "            \"graphs\",\n",
    "            \"picture\",\n",
    "            \"pictures\",\n",
    "            \"file\",\n",
    "            \"files\",\n",
    "            \"map\",\n",
    "            \"maps\",\n",
    "            \"draw\",\n",
    "            \"plot\",\n",
    "            \"go to\",\n",
    "            \"video\",\n",
    "            \"audio\",\n",
    "            \"music\",\n",
    "            \"flowchart\",\n",
    "            \"diagram\",\n",
    "        ]\n",
    "        blacklist += []\n",
    "        if any(find_word_in_string(word, inst) for word in blacklist):\n",
    "            continue\n",
    "        # We found that the model tends to add \"write a program\" to some existing instructions, which lead to a lot of such instructions.\n",
    "        # And it's a bit comfusing whether the model need to write a program or directly output the result.\n",
    "        # Here we filter them out.\n",
    "        # Note this is not a comprehensive filtering for all programming instructions.\n",
    "        if inst.startswith(\"Write a program\"):\n",
    "            continue\n",
    "        # filter those starting with punctuation\n",
    "        if inst[0] in string.punctuation:\n",
    "            continue\n",
    "        # filter those starting with non-english character\n",
    "        if not inst[0].isascii():\n",
    "            continue\n",
    "        instructions.append({\"instruction\": inst, \"input\": input, \"output\": output})\n",
    "\n",
    "    return instructions"
   ]
  },
  {
   "cell_type": "code",
   "execution_count": 54,
   "id": "24d9e0f2-5e2f-49c7-9479-ff14a53a34a3",
   "metadata": {},
   "outputs": [],
   "source": [
    "instruction = post_process_gemini_response(3, first_sample)"
   ]
  },
  {
   "cell_type": "code",
   "execution_count": 56,
   "id": "812d700b-c71e-4adc-88c4-0afd878b988a",
   "metadata": {},
   "outputs": [
    {
     "data": {
      "text/plain": [
       "{'instruction': 'Develop a JavaScript function to check if a given string is a palindrome.  Ignore case and non-alphanumeric characters.',\n",
       " 'input': '\"A man, a plan, a canal: Panama\"',\n",
       " 'output': '```javascript\\nfunction isPalindrome(str) {\\n  // Convert to lowercase and remove non-alphanumeric characters\\n  str = str.toLowerCase().replace(/[^a-z0-9]/g, \"\");\\n  // Reverse the string\\n  const reversedStr = str.split(\"\").reverse().join(\"\");\\n  // Check if the string is equal to its reverse\\n  return str === reversedStr;\\n}\\n\\nconsole.log(isPalindrome(\"A man, a plan, a canal: Panama\")); // true\\n```'}"
      ]
     },
     "execution_count": 56,
     "metadata": {},
     "output_type": "execute_result"
    }
   ],
   "source": [
    "instruction[0]"
   ]
  },
  {
   "cell_type": "code",
   "execution_count": 48,
   "id": "1fde2093-d295-40d8-bfc2-39a2ba07867c",
   "metadata": {},
   "outputs": [
    {
     "data": {
      "text/plain": [
       "'```javascript\\nfunction isPalindrome(str) {\\n  // Convert to lowercase and remove non-alphanumeric characters\\n  str = str.toLowerCase().replace(/[^a-z0-9]/g, \"\");\\n  // Reverse the string\\n  const reversedStr = str.split(\"\").reverse().join(\"\");\\n  // Check if the string is equal to its reverse\\n  return str === reversedStr;\\n}\\n\\nconsole.log(isPalindrome(\"A man, a plan, a canal: Panama\")); // true\\n```'"
      ]
     },
     "execution_count": 48,
     "metadata": {},
     "output_type": "execute_result"
    }
   ],
   "source": [
    "output"
   ]
  },
  {
   "cell_type": "code",
   "execution_count": null,
   "id": "0e5110c2-9abd-49aa-bf79-8c43053bd0ec",
   "metadata": {},
   "outputs": [],
   "source": []
  }
 ],
 "metadata": {
  "kernelspec": {
   "display_name": "Python 3 (ipykernel)",
   "language": "python",
   "name": "python3"
  },
  "language_info": {
   "codemirror_mode": {
    "name": "ipython",
    "version": 3
   },
   "file_extension": ".py",
   "mimetype": "text/x-python",
   "name": "python",
   "nbconvert_exporter": "python",
   "pygments_lexer": "ipython3",
   "version": "3.11.8"
  }
 },
 "nbformat": 4,
 "nbformat_minor": 5
}
